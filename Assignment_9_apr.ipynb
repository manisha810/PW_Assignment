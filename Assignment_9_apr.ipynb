{
 "cells": [
  {
   "cell_type": "markdown",
   "id": "1f8b8313-749e-4ed1-bf7e-95378ecdc4bc",
   "metadata": {},
   "source": [
    "## Q1. What is Bayes' theorem?"
   ]
  },
  {
   "cell_type": "markdown",
   "id": "ee677b2a-8892-4b46-9291-cb5255d8e4ec",
   "metadata": {},
   "source": [
    "Bayes' theorem states that the probability of an event A occurring, given that event B has occurred, can be calculated using the following formula:\n",
    "\n",
    "- P(A|B) = (P(B|A) * P(A)) / P(B)\n",
    "\n",
    "where:\n",
    "\n",
    "- P(A|B) represents the conditional probability of event A given event B,\n",
    "- P(B|A) represents the conditional probability of event B given event A,\n",
    "- P(A) is the probability of event A occurring (regardless of event B),\n",
    "- P(B) is the probability of event B occurring (regardless of event A).\n",
    "\n",
    "In simpler terms, Bayes' theorem allows us to update our prior beliefs (represented by P(A)) in light of new evidence (represented by P(B|A) and P(B)), and compute the revised probability (P(A|B)) of a certain event.\n",
    "\n",
    "This theorem is often used in various fields, such as statistics, machine learning, and data analysis."
   ]
  },
  {
   "cell_type": "markdown",
   "id": "4a781f26-65ce-4950-9b58-99a9cbc04175",
   "metadata": {},
   "source": [
    "## Q2. What is the formula for Bayes' theorem?"
   ]
  },
  {
   "cell_type": "markdown",
   "id": "7c4536b7-6deb-49b6-b6ec-cab53d6c4b48",
   "metadata": {},
   "source": [
    "The formula for Bayes' theorem is as follows:\n",
    "\n",
    "- P(A|B) = (P(B|A) * P(A)) / P(B)\n",
    "\n",
    "where:\n",
    "\n",
    "- P(A|B) represents the conditional probability of event A given event B,\n",
    "- P(B|A) represents the conditional probability of event B given event A,\n",
    "- P(A) is the probability of event A occurring (regardless of event B),\n",
    "- P(B) is the probability of event B occurring (regardless of event A).\n",
    "\n",
    "This formula allows us to calculate the updated probability of event A occurring, given that event B has occurred, by combining prior knowledge or beliefs represented by P(A), with new evidence or information represented by P(B|A) and P(B)."
   ]
  },
  {
   "cell_type": "markdown",
   "id": "d4262055-2649-499e-b6b7-8450c9258cb4",
   "metadata": {},
   "source": [
    "## Q3. How is Bayes' theorem used in practice?"
   ]
  },
  {
   "cell_type": "markdown",
   "id": "544f6f7b-a4d4-47cb-a4ff-960b54c7727b",
   "metadata": {},
   "source": [
    "Here are a few examples of how Bayes' theorem is used in practice:\n",
    "\n",
    "1. Medical Diagnosis: Bayes' theorem is utilized in medical diagnosis to assess the probability of a particular disease or condition given certain symptoms or test results. By combining prior probabilities of different diseases, the likelihood of specific symptoms or test outcomes for each disease, and the observed symptoms or test results, medical professionals can update their diagnosis probabilities and make more informed decisions.\n",
    " \n",
    "2. Spam Filtering: Bayes' theorem is employed in spam filtering algorithms. Initially, the algorithm is trained on a set of emails, labeled as spam or non-spam, to determine the probabilities of certain words or phrases occurring in spam and non-spam emails. When a new email arrives, the algorithm applies Bayes' theorem to calculate the probability of it being spam or non-spam based on the occurrence of specific words or phrases.\n",
    "\n",
    "3. Targeted Advertising: Bayes' theorem can be used in targeted advertising to estimate the probability that a user belongs to a particular demographic or interest group based on their online behavior, such as browsing history, search queries, and interactions with ads. By updating the prior probabilities with observed user behavior, advertisers can tailor their ads to specific target audiences more effectively."
   ]
  },
  {
   "cell_type": "markdown",
   "id": "d7e0088e-8dab-4451-b531-df5f3279a5f0",
   "metadata": {},
   "source": [
    "## Q4. What is the relationship between Bayes' theorem and conditional probability?"
   ]
  },
  {
   "cell_type": "markdown",
   "id": "ec208691-6558-4b19-af61-7368ca6cbb18",
   "metadata": {},
   "source": [
    "Bayes' theorem provides a mathematical relationship between conditional probabilities. It relates the conditional probability of an event A given event B to the conditional probability of event B given event A.\n",
    "\n",
    "The formula for Bayes' theorem is as follows:\n",
    "\n",
    "P(A|B) = (P(B|A) * P(A)) / P(B)\n",
    "\n",
    "where:\n",
    "\n",
    "- P(A|B) represents the conditional probability of event A given event B,\n",
    "- P(B|A) represents the conditional probability of event B given event A,\n",
    "- P(A) is the probability of event A occurring (regardless of event B),\n",
    "- P(B) is the probability of event B occurring (regardless of event A).\n",
    "\n",
    "In terms of conditional probability, Bayes' theorem allows us to update our prior belief or knowledge about the probability of event A given new evidence or information provided by the conditional probability P(B|A).\n",
    "\n",
    "It tells us how to revise the probability of A given B by multiplying the prior probability P(A) by the likelihood of observing B given A (P(B|A)), and then dividing it by the overall probability of observing B (P(B)). In other words, Bayes' theorem provides a way to update our beliefs about the probability of an event based on new evidence."
   ]
  },
  {
   "cell_type": "markdown",
   "id": "b53af3c7-070a-4e59-9cc3-e6d759138a08",
   "metadata": {},
   "source": [
    "## Q5. How do you choose which type of Naive Bayes classifier to use for any given problem?"
   ]
  },
  {
   "cell_type": "markdown",
   "id": "003b370f-13a6-4e4c-8571-68ed2384e807",
   "metadata": {},
   "source": [
    "When choosing a type of Naive Bayes classifier for a specific problem, there are a few factors to consider. The three main types of Naive Bayes classifiers are Gaussian Naive Bayes, Multinomial Naive Bayes, and Bernoulli Naive Bayes. The selection depends on the nature of the data and the assumptions made by each classifier.\n",
    "\n",
    "Here are some guidelines to help you choose the appropriate type of Naive Bayes classifier:\n",
    "\n",
    "1. Gaussian Naive Bayes:\n",
    "\n",
    "- Assumption: Assumes that the continuous features follow a Gaussian (normal) distribution.\n",
    "- Suitable for: Problems where the features are continuous and can be assumed to have a normal distribution. It is commonly used for numerical data.\n",
    "\n",
    "Example: Predicting the price of a house based on features like area, number of rooms, and age.\n",
    "\n",
    "2. Multinomial Naive Bayes:\n",
    "\n",
    "- Assumption: Assumes that features follow a multinomial distribution. It is often used for discrete or count-based features.\n",
    "- Suitable for: Problems with discrete features or text classification tasks, where the feature vectors represent word frequencies or presence/absence of words.\n",
    "\n",
    "Example: Classifying documents into different topics based on the occurrence of words in the document.\n",
    "\n",
    "3. Bernoulli Naive Bayes:\n",
    "\n",
    "- Assumption: Assumes that features are binary variables (present/absent or 0/1).\n",
    "- Suitable for: Problems with binary features or text classification tasks where the presence or absence of words matters.\n",
    "\n",
    "Example: Sentiment analysis, classifying movie reviews as positive or negative based on the presence or absence of certain words."
   ]
  },
  {
   "cell_type": "markdown",
   "id": "2dddd539-cc7b-4d91-a154-1f3e73adc4f5",
   "metadata": {},
   "source": [
    "## Q6. Assignment:\n",
    "\n",
    "### You have a dataset with two features, X1 and X2, and two possible classes, A and B. You want to use Naive Bayes to classify a new instance with features X1 = 3 and X2 = 4. The following table shows the frequency of each feature value for each class:\n",
    "\n",
    "\n",
    "- Class \n",
    "   - X1=1 X1=2 X1=3 X2=1 X2=2 X2=3 X2=4\n",
    "\n",
    "   - A    3    3    4    4    3    3   3\n",
    "   - B    2    2    1    2    2    2   3\n",
    "   \n",
    "### Assuming equal prior probabilities for each class, which class would Naive Bayes predict the new instance to belong to?"
   ]
  },
  {
   "cell_type": "markdown",
   "id": "36c6227b-61d9-4166-af0b-2d1ec59af192",
   "metadata": {},
   "source": [
    "\n",
    "To predict the class of the new instance using Naive Bayes, we need to calculate the conditional probabilities for each class given the feature values (X1=3 and X2=4). We will use the frequency counts provided in the table.\n",
    "\n",
    "First, let's calculate the prior probabilities for each class, assuming equal prior probabilities for A and B:\n",
    "\n",
    "- P(A) = P(B) = 1/2\n",
    "\n",
    "Next, we calculate the conditional probabilities for each class:\n",
    "\n",
    "For class A:\n",
    "- P(X1=3|A) = 4/13\n",
    "- P(X2=4|A) = 3/13\n",
    "\n",
    "For class B:\n",
    "- P(X1=3|B) = 1/8\n",
    "- P(X2=4|B) = 3/8\n",
    "\n",
    "Now, we can calculate the posterior probabilities for each class using Bayes' theorem:\n",
    "\n",
    "- P(A|X1=3, X2=4) = (P(X1=3|A) * P(X2=4|A) * P(A)) / P(X1=3, X2=4)\n",
    "- P(B|X1=3, X2=4) = (P(X1=3|B) * P(X2=4|B) * P(B)) / P(X1=3, X2=4)\n",
    "\n",
    "Since the prior probabilities are equal, we can ignore the denominators P(X1=3, X2=4) in both equations.\n",
    "\n",
    "- P(A|X1=3, X2=4) = (4/13) * (3/13) * (1/2) = 12/338\n",
    "- P(B|X1=3, X2=4) = (1/8) * (3/8) * (1/2) = 3/128"
   ]
  }
 ],
 "metadata": {
  "kernelspec": {
   "display_name": "Python 3 (ipykernel)",
   "language": "python",
   "name": "python3"
  },
  "language_info": {
   "codemirror_mode": {
    "name": "ipython",
    "version": 3
   },
   "file_extension": ".py",
   "mimetype": "text/x-python",
   "name": "python",
   "nbconvert_exporter": "python",
   "pygments_lexer": "ipython3",
   "version": "3.10.8"
  }
 },
 "nbformat": 4,
 "nbformat_minor": 5
}
