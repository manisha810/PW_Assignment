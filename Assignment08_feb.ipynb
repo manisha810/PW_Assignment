{
 "cells": [
  {
   "cell_type": "markdown",
   "id": "431eaba3-1276-4a05-b95f-fb37b064344e",
   "metadata": {},
   "source": [
    "Q1. What is Abstraction in OOps? Explain with an example."
   ]
  },
  {
   "cell_type": "markdown",
   "id": "1e107133-5e1f-4850-a8fc-e783834283b8",
   "metadata": {},
   "source": [
    "Abstraction in python is defined as hiding the implementation of logic from the client and using a particular application. And the most important key feature of Object-Oriented Programming. It hides the irrelevant data specified in the project, reducing complexity and giving value to efficiency. Abstraction"
   ]
  },
  {
   "cell_type": "code",
   "execution_count": null,
   "id": "d1f2d0d9-5d74-4b2d-9267-ab92597201c6",
   "metadata": {},
   "outputs": [],
   "source": [
    "example:- \n",
    "\n",
    "# abstract class\n",
    "\n",
    "from abc import ABC\n",
    "\n",
    "class Polygon(ABC): \n",
    "\n",
    "   # abstract method \n",
    "   def sides(self): \n",
    "        pass\n",
    "\n",
    "class Triangle(Polygon): \n",
    "\n",
    "   \n",
    "   def sides(self): \n",
    "        print(\"Triangle has 3 sides\") \n",
    "\n",
    "class Pentagon(Polygon): \n",
    "\n",
    "   \n",
    "  def sides(self): \n",
    "        print(\"Pentagon has 5 sides\") \n",
    "\n",
    "class Hexagon(Polygon): \n",
    "\n",
    "    def sides(self): \n",
    "        print(\"Hexagon has 6 sides\") \n",
    "\n",
    "class square(Polygon): \n",
    "\n",
    "    def sides(self): \n",
    "        print(\"Sqaure have 4 sides\") \n",
    "\n",
    "# Driver code \n",
    "t = Triangle() \n",
    "t.sides() \n",
    "\n",
    "s = square() \n",
    "s.sides() \n",
    "\n",
    "p = Pentagon() \n",
    "p.sides() \n",
    "\n",
    "k = Hexagon() \n",
    "k.sides()"
   ]
  },
  {
   "cell_type": "markdown",
   "id": "cf2738c4-1842-4cb1-8b5e-f336d0b009ce",
   "metadata": {},
   "source": [
    "Q2. Differentiate between Abstraction and Encapsulation. Explain with an example."
   ]
  },
  {
   "cell_type": "markdown",
   "id": "47d562e7-f5dc-4797-8603-12744364c35e",
   "metadata": {},
   "source": [
    "Abstraction:-  \n",
    ". Abstraction solves the problem in the design level.\n",
    "\n",
    ". Abstraction is used for hinding the unwanted data and giving relevant data."
   ]
  },
  {
   "cell_type": "code",
   "execution_count": null,
   "id": "972d9852-152f-4ee3-b506-a4ba8e3c5eb9",
   "metadata": {},
   "outputs": [],
   "source": [
    "example:-\n",
    "\n",
    "from abc import ABC, abstractmethod \n",
    "class Car(ABC): \n",
    "     def mileage(self): \n",
    "        pass\n",
    "\n",
    "class Tesla(Car): \n",
    "      def mileage(self): \n",
    "        print(\"The mileage is 30kmph\") \n",
    "class Suzuki(Car): \n",
    "    def mileage(self): \n",
    "        print(\"The mileage is 25kmph \") \n",
    "class Duster(Car): \n",
    "    def mileage(self): \n",
    "        print(\"The mileage is 24kmph \") \n",
    "\n",
    "class Renault(Car): \n",
    "    def mileage(self): \n",
    "        print(\"The mileage is 27kmph \") \n",
    "        \n",
    "# Driver code \n",
    "t= Tesla () \n",
    "t.mileage() \n",
    "\n",
    "r = Renault() \n",
    "r.mileage() \n",
    "\n",
    "s = Suzuki() \n",
    "s.mileage() \n",
    "d = Duster() \n",
    "d.mileage()"
   ]
  },
  {
   "cell_type": "markdown",
   "id": "1e730f50-6605-4c2f-982e-38f95a1f1d11",
   "metadata": {},
   "source": [
    "Encapsulation:-\n",
    "\n",
    ".Encapsulation solves the problem in the implementaion level.\n",
    "\n",
    ". Encapsulation means hinding the code  and data into a single unit to protect the data from outside world."
   ]
  },
  {
   "cell_type": "code",
   "execution_count": null,
   "id": "940bb14f-2a93-4cca-9e34-b6a9add6053b",
   "metadata": {},
   "outputs": [],
   "source": [
    "example:- \n",
    "\n",
    "class bank_account:\n",
    "    def __init__(self, balance):\n",
    "        self.__balance = balance\n",
    "        \n",
    "    def deposite(self,amount):\n",
    "        self.__balance = self.__balance +amount\n",
    "        \n",
    "    def withdraw(self, amount):\n",
    "        if self.__balance>=amount:\n",
    "            self.__balance = self.__balance - amount\n",
    "            return True\n",
    "        else:\n",
    "            return False\n",
    "        \n",
    "    def get_balance(self):\n",
    "        return self.__balance"
   ]
  },
  {
   "cell_type": "markdown",
   "id": "87128393-5a3c-4570-89e0-aea50e04198d",
   "metadata": {},
   "source": [
    "Q3..What is abc module in python? Why is it used?"
   ]
  },
  {
   "cell_type": "markdown",
   "id": "be217411-c4c2-476f-a01d-9bcbebd63e26",
   "metadata": {},
   "source": [
    "The 'abc' module in Python library provides the infrastructure for defining custom abstract base classes. 'abc' works by marking methods of the base class as abstract. This is done by @absttractmethod decorator."
   ]
  },
  {
   "cell_type": "markdown",
   "id": "932a0811-8141-41ed-a302-e9a043d3fe31",
   "metadata": {},
   "source": [
    "The main goal of the abstract base class is to provide a standardized way to test whether an object adheres to a given specification."
   ]
  },
  {
   "cell_type": "markdown",
   "id": "6cbf7469-4ab5-4b05-9bd1-932f4980969b",
   "metadata": {},
   "source": [
    "Q4. How can we achieve data abstraction?"
   ]
  },
  {
   "cell_type": "markdown",
   "id": "5b747639-f576-4347-887a-b2e60491f9d6",
   "metadata": {},
   "source": [
    "Abstraction is used to hide the internal functionality of the function from the users. The users only interact with the basic implementation of the function, but inner working is hidden. "
   ]
  },
  {
   "cell_type": "markdown",
   "id": "df7b830c-16f9-4beb-9ec8-b43e21e5eef1",
   "metadata": {},
   "source": [
    "Q5. Can we create an instance of an abstract class? Explain your answer."
   ]
  },
  {
   "cell_type": "markdown",
   "id": "c00fcb28-c8d2-4481-acfd-854f854793f4",
   "metadata": {},
   "source": [
    "No, you cannot create an instance of an abstract class because it does not have a complete implementation. The purpose of an abstract class is to function as a base for subclasses. It acts like a template, or an empty or partially empty structure, you should extend it and build on it before you can use it. "
   ]
  }
 ],
 "metadata": {
  "kernelspec": {
   "display_name": "Python 3 (ipykernel)",
   "language": "python",
   "name": "python3"
  },
  "language_info": {
   "codemirror_mode": {
    "name": "ipython",
    "version": 3
   },
   "file_extension": ".py",
   "mimetype": "text/x-python",
   "name": "python",
   "nbconvert_exporter": "python",
   "pygments_lexer": "ipython3",
   "version": "3.10.8"
  }
 },
 "nbformat": 4,
 "nbformat_minor": 5
}
