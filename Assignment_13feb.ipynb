{
 "cells": [
  {
   "cell_type": "markdown",
   "id": "999a4701-c2fd-4cd4-8a56-0e79a73bdc3d",
   "metadata": {},
   "source": [
    "Q1. Explain why we have to use the Exception class while creating a Custom Exception."
   ]
  },
  {
   "cell_type": "markdown",
   "id": "d2c769dd-01be-4108-b839-ff9ae6a62b9c",
   "metadata": {},
   "source": [
    "When creating a custom exception in Python, it is best practice to inherit from the built-in Exception class. This is because the Exception class provides important functionality that is necessary for proper error handling, such as support for the try-except statement and the ability to access the error message and traceback."
   ]
  },
  {
   "cell_type": "markdown",
   "id": "a8d08a9e-b6dc-430e-b71b-5dbcd939b536",
   "metadata": {},
   "source": [
    "Q2. Write a python program to print Python Exception Hierarchy."
   ]
  },
  {
   "cell_type": "code",
   "execution_count": null,
   "id": "7a3773e4-cae9-43e7-b615-6ee3d92f4cc5",
   "metadata": {},
   "outputs": [],
   "source": [
    "def classtree(cls, indent=0):\n",
    "    print '.' * indent, cls.__name__\n",
    "    for subcls in cls.__subclasses__():\n",
    "        classtree(subcls, indent + 3)\n",
    "\n",
    "classtree(BaseException)"
   ]
  },
  {
   "cell_type": "markdown",
   "id": "2bfd5dfe-4f27-46cc-8db6-68c779e66675",
   "metadata": {},
   "source": [
    "Q3. What errors are defined in the ArithmeticError class? Explain any two with an example."
   ]
  },
  {
   "cell_type": "code",
   "execution_count": null,
   "id": "a501f8cd-3142-4945-8e90-3f1140ee395a",
   "metadata": {},
   "outputs": [],
   "source": [
    "a = 5\n",
    "b = 0\n",
    "\n",
    "try:\n",
    "    c = a/b\n",
    "    print(c)\n",
    "except ArithmeticError as e:\n",
    "    print(\"Arithmetic Error is thrown\")\n",
    "    print(f\"{e}, {e.__class_}\")"
   ]
  },
  {
   "cell_type": "code",
   "execution_count": null,
   "id": "9ce30a80-2b63-4e38-994e-7c6968262457",
   "metadata": {},
   "outputs": [],
   "source": [
    "import sys\n",
    "try:\n",
    "    7/0\n",
    "except ArithmeticError as e:\n",
    "        print(e) \n",
    "        print (sys.exc_type)\n",
    "        print ('This is an example of catching ArithmeticError')"
   ]
  },
  {
   "cell_type": "markdown",
   "id": "cc0c11fa-f334-4bd5-98c1-f99dab8aabea",
   "metadata": {},
   "source": [
    "Q4. Why LookupError class is used? Explain with an example KeyError and IndexError."
   ]
  },
  {
   "cell_type": "markdown",
   "id": "46ae9793-0070-4566-9648-0549e729d4ff",
   "metadata": {},
   "source": [
    "LookupError Exception is the Base class for errors raised when something can’t be found. "
   ]
  },
  {
   "cell_type": "code",
   "execution_count": null,
   "id": "a7553e03-bc29-448f-9906-e6ac02aa2010",
   "metadata": {},
   "outputs": [],
   "source": [
    "#  KeyError\n",
    "\n",
    "myDict = {1: 1, 2: 4, 3: 9}\n",
    "print(\"The dictionary is:\", myDict)\n",
    "print(myDict[4])"
   ]
  },
  {
   "cell_type": "code",
   "execution_count": null,
   "id": "1f7b4c55-174f-4f24-90c2-35015a90bcd3",
   "metadata": {},
   "outputs": [],
   "source": [
    "# IndexError\n",
    "\n",
    "myList = [1, 2, 3, 4, 5, 6, 7, 8, 9, 10]\n",
    "print(\"The list is:\", myList)\n",
    "index = 10\n",
    "element = myList[index]\n",
    "print(\"Element at index {} is {}\".format(index,element))\n"
   ]
  },
  {
   "cell_type": "markdown",
   "id": "2d9579f7-46da-4268-b989-9d9f6ac3dc7d",
   "metadata": {},
   "source": [
    "Q5. Explain ImportError. What is ModuleNotFoundError?"
   ]
  },
  {
   "cell_type": "markdown",
   "id": "e11ee8a1-f442-4529-895a-5e498a45ba58",
   "metadata": {},
   "source": [
    "ImportError is raised when a module, or member of a module, cannot be imported. There are a two conditions where an ImportError might be raised. If a module does not exist. If from X import Y is used and Y cannot be found inside the module X, an ImportError is raised.\n",
    "\n",
    "modulenotfounderror itself says module not found. Means something wrong while importing modules in python script.\n",
    "There can be multiple reason behind this problem\n",
    ". Spelling mistake in imported module name\n",
    ". Imported package is not installed\n",
    ". Path for imported packages is not found by python interpreter"
   ]
  },
  {
   "cell_type": "markdown",
   "id": "461ef516-4ab5-449a-907f-3717ff7f8b56",
   "metadata": {},
   "source": [
    "Q6. List down some best practices for exception handling in python."
   ]
  },
  {
   "cell_type": "code",
   "execution_count": null,
   "id": "ee349352-b699-47ae-baf1-95f51f7e5386",
   "metadata": {},
   "outputs": [],
   "source": [
    "#  use always a specific exception \n",
    "try:\n",
    "    10/0\n",
    "except Exception as e:\n",
    "    print(e)"
   ]
  },
  {
   "cell_type": "code",
   "execution_count": null,
   "id": "87d1424f-17bf-4388-af5e-1393e1f14e93",
   "metadata": {},
   "outputs": [],
   "source": [
    "#  print always proper message\n",
    "\n",
    "try:\n",
    "    10/0\n",
    "except ZeroDivisionError as e:\n",
    "    print(\"I am trying to handle  a ZeroDivisionError  errror\", e)"
   ]
  },
  {
   "cell_type": "code",
   "execution_count": null,
   "id": "4ed78646-fc8b-4b5f-bb14-9ea6c6d08cac",
   "metadata": {},
   "outputs": [],
   "source": [
    "#  alawys try to logg your error\n",
    "import logging\n",
    "logging.basicConfig(filename = \"error.log\", level = logging.ERROR)\n",
    "try:\n",
    "    10/0\n",
    "except ZeroDivisionError as e:\n",
    "    logging.error(\"I am trying to handle  a ZeroDivision errror{}\".format(e))"
   ]
  },
  {
   "cell_type": "code",
   "execution_count": null,
   "id": "1464770c-7086-4e78-bfff-9b978207fd01",
   "metadata": {},
   "outputs": [],
   "source": [
    "#  always aviod to write mulitple excption handling \n",
    "\n",
    "try:\n",
    "    10/0\n",
    "except FileNotFoundError as e:\n",
    "    logging.error(\"i am handling file not found {} \" . format(e))\n",
    "except AttributError as e:\n",
    "    logging.error(\"i am handling Atrribute error {} \" . format(e))\n",
    "except ZeroDivisionError as e:\n",
    "    logging.error(\"I am trying to handle  a ZeroDivision errror{}\".format(e))"
   ]
  }
 ],
 "metadata": {
  "kernelspec": {
   "display_name": "Python 3 (ipykernel)",
   "language": "python",
   "name": "python3"
  },
  "language_info": {
   "codemirror_mode": {
    "name": "ipython",
    "version": 3
   },
   "file_extension": ".py",
   "mimetype": "text/x-python",
   "name": "python",
   "nbconvert_exporter": "python",
   "pygments_lexer": "ipython3",
   "version": "3.10.8"
  }
 },
 "nbformat": 4,
 "nbformat_minor": 5
}
