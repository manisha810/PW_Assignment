{
 "cells": [
  {
   "cell_type": "code",
   "execution_count": null,
   "id": "42d14400-99f7-43ac-ba02-00220c520fab",
   "metadata": {
    "jupyter": {
     "source_hidden": true
    },
    "tags": []
   },
   "outputs": [],
   "source": [
    " .....................Question 1:- .............................                                                            \n",
    "\n",
    "marks = int(input(\"Enter your marks : \"))\n",
    "if marks > 90:\n",
    "    print(\"Grade = A\")\n",
    "elif marks > 80 and marks <= 90:\n",
    "    print(\"Grade = B\")\n",
    "elif marks >= 60 and marks <= 80:\n",
    "    print(\"Grade = C\")\n",
    "else :\n",
    "    print(\"Grade = D\")"
   ]
  },
  {
   "cell_type": "code",
   "execution_count": null,
   "id": "e48c2a8a-bf4e-490a-8cdc-f2846badcaba",
   "metadata": {},
   "outputs": [],
   "source": [
    " .....................Question 2:- ..............................                                                          \n",
    "\n",
    "bike = int(input(\"Enter your cost price(in Rs) of a bike : \"))\n",
    "if bike > 100000:\n",
    "    print(\"Tax = 15%\")\n",
    "elif bike > 50000 and bike <= 100000:\n",
    "    print(\"Tax = 10%\")\n",
    "elif bike <= 50000:\n",
    "    print(\"Tax = 5%\")"
   ]
  },
  {
   "cell_type": "code",
   "execution_count": null,
   "id": "7c5c9b58-9044-46e7-abb1-cafd729a625d",
   "metadata": {},
   "outputs": [],
   "source": [
    " .....................Question 3:- ..............................                                                          \n",
    "\n",
    "city = input(\"Select any one city from Delhi, Agra and Jaipur :\")\n",
    "if city.upper() == \"DELHI\":\n",
    "    print(\"Red Fort\")\n",
    "elif city.upper() == \"AGRA\":\n",
    "    print(\"Taj Mahal\")\n",
    "elif city.upper() == \"JAIPUR\":\n",
    "    print(\"Jal Mahal\")\n",
    "else :\n",
    "    print(\"Select a Valid city!\")"
   ]
  },
  {
   "cell_type": "code",
   "execution_count": null,
   "id": "de5591d4-1087-420b-9f4a-ffe571c936bc",
   "metadata": {},
   "outputs": [],
   "source": [
    " .....................Question 4:- ..............................\n",
    "\n",
    "count = 0\n",
    "num = 200\n",
    "while num > 10:\n",
    "    num = num / 3\n",
    "    count = count + 1\n",
    "print(count)"
   ]
  },
  {
   "cell_type": "code",
   "execution_count": null,
   "id": "f3aaded6-7817-418c-9538-87b9e318b902",
   "metadata": {},
   "outputs": [],
   "source": [
    " .....................Question 5:- ..............................\n",
    "\n",
    "we use while loops to do a task a certain number of times repeatedly.\n",
    "The while loop checks a condition and executes the task as long as that condition is satisfied.\n",
    "The loop will stop its execution once the condition becomes not satisfied.\n",
    "\n",
    "example :-   \n",
    "i = 1\n",
    "while i < 6:\n",
    "    print(i)\n",
    "    i += 1\n"
   ]
  },
  {
   "cell_type": "code",
   "execution_count": null,
   "id": "b7657062-15c8-48a7-90c6-2b46fca803a0",
   "metadata": {},
   "outputs": [],
   "source": [
    ".....................Question 6:- ..............................\n",
    "\n",
    "1:-\n",
    "\n",
    "n = 5\n",
    "i = 1\n",
    "while i<=n:\n",
    "    j=1\n",
    "    while j<=i:\n",
    "        print(\"*\",end = \" \")\n",
    "        j += 1\n",
    "    print()\n",
    "    i += 1\n",
    "    \n",
    "2:-\n",
    "\n",
    "n = 5\n",
    "i = 1\n",
    "while i<=n:\n",
    "    j=n\n",
    "    while j>=i:\n",
    "        print(\"*\",end = \" \")\n",
    "        j -= 1\n",
    "    print()\n",
    "    i += 1\n",
    "\n",
    "3:-\n",
    "\n",
    "n = 5\n",
    "k = 1\n",
    "i = 1\n",
    "while i <= n:\n",
    "    j = 1\n",
    "    while j <= i:\n",
    "        print (\"{:3d}\".format(k), end = \" \")\n",
    "        j = j + 1\n",
    "        k =  k + 1\n",
    "    print()\n",
    "    i = i + 1"
   ]
  },
  {
   "cell_type": "code",
   "execution_count": null,
   "id": "110b8bfc-ae93-45ad-ba8e-b57cc309b1e5",
   "metadata": {},
   "outputs": [],
   "source": [
    ".....................Question 7:- ..............................\n",
    "\n",
    "print(\"Number from 10 to 1 : \")\n",
    "n = 10\n",
    "while n >= 1:\n",
    "    print(n,end='\\n')\n",
    "    n = n-1"
   ]
  },
  {
   "cell_type": "code",
   "execution_count": null,
   "id": "b8d31cea-dd29-4c7f-9591-cc6f90678969",
   "metadata": {},
   "outputs": [],
   "source": [
    ".....................Question 8:- ..............................\n",
    "\n",
    "print(\"Number from 10 to 1 : \")\n",
    "n = 10\n",
    "while n >= 1:\n",
    "    print(n,end='\\n')\n",
    "    n = n-1"
   ]
  }
 ],
 "metadata": {
  "kernelspec": {
   "display_name": "Python 3 (ipykernel)",
   "language": "python",
   "name": "python3"
  },
  "language_info": {
   "codemirror_mode": {
    "name": "ipython",
    "version": 3
   },
   "file_extension": ".py",
   "mimetype": "text/x-python",
   "name": "python",
   "nbconvert_exporter": "python",
   "pygments_lexer": "ipython3",
   "version": "3.10.8"
  }
 },
 "nbformat": 4,
 "nbformat_minor": 5
}
