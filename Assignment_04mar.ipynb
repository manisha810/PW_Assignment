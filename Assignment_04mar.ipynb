{
 "cells": [
  {
   "cell_type": "markdown",
   "id": "1fbc3c62-2d4b-4555-8e47-0bb369b7ee65",
   "metadata": {},
   "source": [
    "Q1. Load the \"titanic\" dataset using the load_dataset function of seaborn. Use Plotly express to plot a scatter plot for age and fare columns in the titanic dataset."
   ]
  },
  {
   "cell_type": "code",
   "execution_count": null,
   "id": "63be6608-daac-46b9-97ca-65a12322c270",
   "metadata": {},
   "outputs": [],
   "source": [
    "import seaborn as sns\n",
    "import plotly.express as px\n",
    "\n",
    "# Load the Titanic dataset using seaborn\n",
    "titanic = sns.load_dataset('titanic')\n",
    "\n",
    "# Plot a scatter plot using Plotly Express\n",
    "fig = px.scatter(titanic, x='age', y='fare')\n",
    "fig.show()"
   ]
  },
  {
   "cell_type": "markdown",
   "id": "4e2ee7c7-6261-469c-bfb3-44252fd114c1",
   "metadata": {},
   "source": [
    "Q2. Using the tips dataset in the Plotly library, plot a box plot using Plotly express."
   ]
  },
  {
   "cell_type": "code",
   "execution_count": null,
   "id": "60a462da-c199-4fbb-ba22-042e5ea78311",
   "metadata": {},
   "outputs": [],
   "source": [
    "import plotly.express as px\n",
    "import plotly.graph_objs as go\n",
    "\n",
    "# Load the tips dataset from Plotly\n",
    "tips = px.data.tips()\n",
    "\n",
    "# Create a box plot using Plotly Express\n",
    "fig = px.box(tips, x='day', y='total_bill')\n",
    "\n",
    "# Update the layout\n",
    "fig.update_layout(\n",
    "    title='Box Plot of Total Bill by Day',\n",
    "    xaxis_title='Day of the Week',\n",
    "    yaxis_title='Total Bill'\n",
    ")\n",
    "\n",
    "# Show the plot\n",
    "fig.show()"
   ]
  },
  {
   "cell_type": "markdown",
   "id": "d8545da2-82a0-4ccb-a493-d4604d46ca34",
   "metadata": {},
   "source": [
    "Q3. Using the tips dataset in the Plotly library, Plot a histogram for x= \"sex\" and y=\"total_bill\" column in  the tips dataset. Also, use the \"smoker\" column with the pattern_shape parameter and the \"day\"\n",
    "column with the color parameter."
   ]
  },
  {
   "cell_type": "code",
   "execution_count": null,
   "id": "8ea1b071-b3a5-4c57-af2e-b199f01329d7",
   "metadata": {},
   "outputs": [],
   "source": [
    "import plotly.express as px\n",
    "\n",
    "# Load the tips dataset from Plotly\n",
    "tips = px.data.tips()\n",
    "\n",
    "# Create a histogram using Plotly Express\n",
    "fig = px.histogram(tips, x='sex', y='total_bill', color='day', pattern_shape='smoker')\n",
    "\n",
    "# Update the layout\n",
    "fig.update_layout(\n",
    "    title='Histogram of Total Bill by Sex and Day',\n",
    "    xaxis_title='Sex',\n",
    "    yaxis_title='Total Bill'\n",
    ")\n",
    "\n",
    "# Show the plot\n",
    "fig.show()"
   ]
  },
  {
   "cell_type": "markdown",
   "id": "abbec08e-12d1-482d-9a84-9bc34b6d4cbb",
   "metadata": {},
   "source": [
    "Q4. Using the iris dataset in the Plotly library, Plot a scatter matrix plot, using the \"species\" column for the color parameter.\n",
    "Note: Use \"sepal_length\", \"sepal_width\", \"petal_length\", \"petal_width\" columns only with the dimensions parameter."
   ]
  },
  {
   "cell_type": "code",
   "execution_count": null,
   "id": "d4076e90-91d7-4d9b-97bd-09e1e7d0f667",
   "metadata": {},
   "outputs": [],
   "source": [
    "import plotly.express as px\n",
    "\n",
    "# Load the iris dataset from Plotly\n",
    "iris = px.data.iris()\n",
    "\n",
    "# Create a scatter matrix plot using Plotly Express\n",
    "fig = px.scatter_matrix(\n",
    "    iris,\n",
    "    dimensions=['sepal_length', 'sepal_width', 'petal_length', 'petal_width'],\n",
    "    color='species'\n",
    ")\n",
    "\n",
    "# Update the layout\n",
    "fig.update_layout(title='Scatter Matrix Plot of Iris Dataset')\n",
    "\n",
    "# Show the plot\n",
    "fig.show()"
   ]
  },
  {
   "cell_type": "markdown",
   "id": "a22b7787-7c35-4870-b656-c99dfc166ebc",
   "metadata": {},
   "source": [
    "Q5. What is Distplot? Using Plotly express, plot a distplot."
   ]
  },
  {
   "cell_type": "markdown",
   "id": "dd37c27f-c6d9-4c20-bd41-4fcd85e11606",
   "metadata": {},
   "source": [
    "distplot is a function in seaborn that creates a histogram and a kernel density estimate plot. It shows the distribution of a univariate set of observations."
   ]
  },
  {
   "cell_type": "code",
   "execution_count": null,
   "id": "9f9e5cae-0c60-4f34-8d91-fcfd463f3887",
   "metadata": {},
   "outputs": [],
   "source": [
    "import plotly.express as px\n",
    "\n",
    "# Load the tips dataset from Plotly\n",
    "tips = px.data.tips()\n",
    "\n",
    "# Create a distplot using Plotly Express\n",
    "fig = px.histogram(tips, x='total_bill', nbins=20)\n",
    "\n",
    "# Update the layout\n",
    "fig.update_layout(\n",
    "    title='Distribution of Total Bill Amounts',\n",
    "    xaxis_title='Total Bill',\n",
    "    yaxis_title='Count'\n",
    ")\n",
    "\n",
    "# Show the plot\n",
    "fig.show()"
   ]
  }
 ],
 "metadata": {
  "kernelspec": {
   "display_name": "Python 3 (ipykernel)",
   "language": "python",
   "name": "python3"
  },
  "language_info": {
   "codemirror_mode": {
    "name": "ipython",
    "version": 3
   },
   "file_extension": ".py",
   "mimetype": "text/x-python",
   "name": "python",
   "nbconvert_exporter": "python",
   "pygments_lexer": "ipython3",
   "version": "3.10.8"
  }
 },
 "nbformat": 4,
 "nbformat_minor": 5
}
