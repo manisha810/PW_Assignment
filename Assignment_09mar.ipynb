{
 "cells": [
  {
   "cell_type": "markdown",
   "id": "84d82f07-7866-4f0f-9d7e-fe62262d8470",
   "metadata": {},
   "source": [
    "Q1: What are the Probability Mass Function (PMF) and Probability Density Function (PDF)? Explain with an example."
   ]
  },
  {
   "cell_type": "markdown",
   "id": "98dd08e4-4f6a-45da-a9e3-d7565d35c3e5",
   "metadata": {},
   "source": [
    "The PMF is a function that describes the probability of each possible value of a discrete random variable. It maps each possible outcome to its probability of occurrence."
   ]
  },
  {
   "cell_type": "markdown",
   "id": "f31169de-b6e4-4682-99d0-78fd704d238e",
   "metadata": {},
   "source": [
    "example:- suppose we toss a fair six-sided die. The PMF of the random variable X, which represents the number of dots on the upper face of the die, is given by:\n",
    "\n",
    "P(X = 1) = 1/6\n",
    "P(X = 2) = 1/6\n",
    "P(X = 3) = 1/6\n",
    "P(X = 4) = 1/6\n",
    "P(X = 5) = 1/6\n",
    "P(X = 6) = 1/6"
   ]
  },
  {
   "cell_type": "markdown",
   "id": "6eb03f3d-3d33-4fe3-971c-5a87921dbe03",
   "metadata": {},
   "source": [
    "The PDF is a function that describes the probability distribution of a continuous random variable. It gives the relative likelihood of the variable taking on a specific value within a continuous range. The PDF is defined as the derivative of the cumulative distribution function (CDF)."
   ]
  },
  {
   "cell_type": "markdown",
   "id": "9dbc406f-8889-474a-aaff-47d2f34c631e",
   "metadata": {},
   "source": [
    "example:- consider the normal distribution with mean 0 and standard deviation 1. The PDF of this distribution is given by:\n",
    "\n",
    "f(x) = (1 / sqrt(2*pi)) * exp(-x^2 / 2)\n",
    "\n",
    "Here, x represents the possible values that the random variable can take. The PDF shows that the probability density of x is highest at x = 0 and decreases as we move away from x = 0. The area under the curve of the PDF is equal to 1, indicating that the total probability of the random variable taking on any value within its range is 1."
   ]
  },
  {
   "cell_type": "markdown",
   "id": "262f5f3b-b237-4368-a236-9c95ef179d9f",
   "metadata": {},
   "source": [
    "Q2: What is Cumulative Density Function (CDF)? Explain with an example. Why CDF is used?"
   ]
  },
  {
   "cell_type": "markdown",
   "id": "ff3d8c4e-4b57-422e-8888-cf2dcb2bcdfa",
   "metadata": {},
   "source": [
    "The Cumulative Density Function (CDF) is a function that describes the probability that a random variable takes on a value less than or equal to a given value."
   ]
  },
  {
   "cell_type": "markdown",
   "id": "d4766d17-1e4d-4cdd-8797-aed920382bbe",
   "metadata": {},
   "source": [
    "example:-  consider the same fair six-sided die as in the previous question. The CDF of the random variable X, which represents the number of dots on the upper face of the die, is given by:\n",
    "\n",
    "F(x) = P(X <= x)\n",
    "\n",
    "F(1) = 1/6\n",
    "F(2) = 2/6\n",
    "F(3) = 3/6\n",
    "F(4) = 4/6\n",
    "F(5) = 5/6\n",
    "F(6) = 1\n",
    "\n",
    "Here, the CDF shows that the probability of obtaining a value less than or equal to 3 is 3/6, which is the sum of the probabilities of obtaining 1, 2, or 3.\n"
   ]
  },
  {
   "cell_type": "markdown",
   "id": "687b8286-4147-4cac-9930-7f36cbb29a5b",
   "metadata": {},
   "source": [
    "The CDF is used to calculate probabilities for random variables"
   ]
  },
  {
   "cell_type": "markdown",
   "id": "7ade03e8-1a25-4e08-9d76-c7c47bf1e7d9",
   "metadata": {},
   "source": [
    "Q3: What are some examples of situations where the normal distribution might be used as a model? Explain how the parameters of the normal distribution relate to the shape of the distribution."
   ]
  },
  {
   "cell_type": "markdown",
   "id": "20fcdae8-416f-49c2-af4e-59e0ddbe3181",
   "metadata": {},
   "source": [
    "1.Heights and weights of people: The normal distribution can be used to model the heights and weights of people in a population. "
   ]
  },
  {
   "cell_type": "markdown",
   "id": "baa262a9-0644-48ff-86d1-48ecffe1d895",
   "metadata": {},
   "source": [
    "2.Test scores: The normal distribution can be used to model the distribution of scores on a test."
   ]
  },
  {
   "cell_type": "markdown",
   "id": "3c8d786f-2840-4bab-9903-ee37dfb2e263",
   "metadata": {},
   "source": [
    "3.Errors in measurements: The normal distribution can be used to model the errors in measurements taken in scientific experiments. "
   ]
  },
  {
   "cell_type": "markdown",
   "id": "e2a5b806-5f4e-49e5-9853-1f89add3776d",
   "metadata": {},
   "source": [
    "The parameters of the normal distribution are the mean (μ) and the standard deviation (σ). The mean represents the center of the distribution, around which the data is symmetrically distributed. The standard deviation represents the spread of the data from the mean. A larger standard deviation indicates a wider spread of data and a flatter, wider bell-shaped curve, while a smaller standard deviation indicates a narrower spread of data and a taller, narrower bell-shaped curve."
   ]
  },
  {
   "cell_type": "markdown",
   "id": "e27729bf-eb7a-4f02-9e02-01c110f866d2",
   "metadata": {},
   "source": [
    "Q4: Explain the importance of Normal Distribution. Give a few real-life examples of Normal Distribution."
   ]
  },
  {
   "cell_type": "markdown",
   "id": "a2a08c43-95f8-48c9-817b-37c69e0f5c5e",
   "metadata": {},
   "source": [
    "It is a versatile model: The normal distribution is very versatile because it can be used to model many different phenomena, including heights and weights of people, IQ scores, test scores, errors in measurement, and more. "
   ]
  },
  {
   "cell_type": "markdown",
   "id": "3ce164ea-62fe-43ea-9df5-5bf1d196e838",
   "metadata": {},
   "source": [
    "It is easy to work with: The normal distribution has many useful properties that make it easy to work with mathematically."
   ]
  },
  {
   "cell_type": "markdown",
   "id": "cae157c8-404c-4a03-affd-2b848bada20c",
   "metadata": {},
   "source": [
    "some real-life examples:-"
   ]
  },
  {
   "cell_type": "markdown",
   "id": "30ebe3e6-1571-4503-a863-cc851b675f48",
   "metadata": {},
   "source": [
    "1.Height and weight of people"
   ]
  },
  {
   "cell_type": "markdown",
   "id": "622f2d72-b09f-4b07-832e-8a549ef833e8",
   "metadata": {},
   "source": [
    "2.Exam scores"
   ]
  },
  {
   "cell_type": "markdown",
   "id": "9730f1fe-c58d-497d-87b5-a37fb1d030c9",
   "metadata": {},
   "source": [
    "3.IQ scores"
   ]
  },
  {
   "cell_type": "markdown",
   "id": "e01bc69b-de01-4db8-b060-9b9dd23d5fca",
   "metadata": {},
   "source": [
    "Q5: What is Bernaulli Distribution? Give an Example. What is the difference between Bernoulli Distribution and Binomial Distribution?"
   ]
  },
  {
   "cell_type": "markdown",
   "id": "5234109e-9ce7-479a-aba2-61cdffa98449",
   "metadata": {},
   "source": [
    "The Bernoulli distribution is parameterized by a single parameter p, which represents the probability of success in a single trial. "
   ]
  },
  {
   "cell_type": "markdown",
   "id": "144e74d6-69db-4567-a46c-c66650c8a16f",
   "metadata": {},
   "source": [
    "An example of the Bernoulli distribution is the flip of a coin, where the outcome can be either heads (success) or tails (failure) with a probability of p = 0.5."
   ]
  },
  {
   "cell_type": "markdown",
   "id": "0fe7a1c7-368c-4a56-ae8d-b0fc3d1e48a8",
   "metadata": {},
   "source": [
    "The main difference between the Bernoulli and binomial distributions is that the Bernoulli distribution describes the outcome of a single trial, while the binomial distribution describes the number of successes in a fixed number of independent trials."
   ]
  },
  {
   "cell_type": "markdown",
   "id": "46afa99e-4d32-4106-92be-f007ee129918",
   "metadata": {},
   "source": [
    "Q6. Consider a dataset with a mean of 50 and a standard deviation of 10. If we assume that the dataset is normally distributed, what is the probability that a randomly selected observation will be greater than 60? Use the appropriate formula and show your calculations."
   ]
  },
  {
   "cell_type": "code",
   "execution_count": 1,
   "id": "3c586626-19f8-44c7-9935-15a088448815",
   "metadata": {},
   "outputs": [
    {
     "name": "stdout",
     "output_type": "stream",
     "text": [
      "Probability of X > 60: 0.15865525393145707\n"
     ]
    }
   ],
   "source": [
    "import scipy.stats as stats\n",
    "\n",
    "# Set the mean and standard deviation\n",
    "mean = 50\n",
    "std_dev = 10\n",
    "\n",
    "# Calculate the probability of X being less than or equal to 60\n",
    "prob_less_than_or_equal_to_60 = stats.norm.cdf(60, mean, std_dev)\n",
    "\n",
    "# Subtract this probability from 1 to get the probability of X being greater than 60\n",
    "prob_greater_than_60 = 1 - prob_less_than_or_equal_to_60\n",
    "\n",
    "print(\"Probability of X > 60:\", prob_greater_than_60)"
   ]
  },
  {
   "cell_type": "markdown",
   "id": "bd4d4bbb-24bc-4d8e-9d4e-a73db97f5b90",
   "metadata": {},
   "source": [
    "Q7: Explain uniform Distribution with an example."
   ]
  },
  {
   "cell_type": "markdown",
   "id": "9987f80e-ea51-4d79-886a-203ab00c8c2f",
   "metadata": {},
   "source": [
    "The uniform distribution is a probability distribution where every possible outcome has an equal probability of occurring. This means that the probability density function of a uniform distribution is constant over a given interval, and zero outside that interval."
   ]
  },
  {
   "cell_type": "markdown",
   "id": "24a58f9f-8f5b-46b5-a6eb-ab6f48b06431",
   "metadata": {},
   "source": [
    "Q8: What is the z score? State the importance of the z score."
   ]
  },
  {
   "cell_type": "markdown",
   "id": "de6f7575-4d38-4eff-8142-19a6a1f5d877",
   "metadata": {},
   "source": [
    "The z-score, also known as the standard score, is a measure of how many standard deviations an observation or data point is from the mean of a normal distribution. "
   ]
  },
  {
   "cell_type": "markdown",
   "id": "edd2d8aa-64dd-4aa6-a4eb-8b92aaf4ed6b",
   "metadata": {},
   "source": [
    "The z-score is important because it allows us to compare values from different normal distributions on the same scale. "
   ]
  },
  {
   "cell_type": "markdown",
   "id": "6a7eef85-126d-4d8d-8fb2-422229db4c56",
   "metadata": {},
   "source": [
    "Q9: What is Central Limit Theorem? State the significance of the Central Limit Theorem."
   ]
  },
  {
   "cell_type": "markdown",
   "id": "060c35a6-bbeb-4c4b-9261-22c1b22a9c1f",
   "metadata": {},
   "source": [
    "The Central Limit Theorem (CLT) is a fundamental theorem in statistics that states that the sampling distribution of the mean of a large number of independent and identically distributed (i.i.d.) random variables, regardless of the underlying distribution, will be approximately normal."
   ]
  },
  {
   "cell_type": "markdown",
   "id": "c5b81d1c-0c11-4125-b553-e2df8c5e6346",
   "metadata": {},
   "source": [
    "1.It allows us to use the normal distribution as an approximation for the sampling distribution of the mean. "
   ]
  },
  {
   "cell_type": "markdown",
   "id": "22bd468a-7de8-4485-9ef2-f5e644db25d7",
   "metadata": {},
   "source": [
    "2.It helps us to understand the behavior of sample means and their distribution. "
   ]
  },
  {
   "cell_type": "markdown",
   "id": "6bc7e600-bc3c-4b39-af67-bf9ce75ee7db",
   "metadata": {},
   "source": [
    "3.It is widely used in hypothesis testing and statistical inference, where we often need to make conclusions about population parameters based on sample statistics."
   ]
  },
  {
   "cell_type": "markdown",
   "id": "53d34661-197f-4c0a-acc5-5a1d00736dad",
   "metadata": {},
   "source": [
    "4.It is applicable to a wide range of data types and distributions, which makes it a versatile tool in statistical analysis."
   ]
  },
  {
   "cell_type": "markdown",
   "id": "ce9cd49a-21a3-4866-9749-f058f3bd16e9",
   "metadata": {},
   "source": [
    "Q10: State the assumptions of the Central Limit Theorem."
   ]
  },
  {
   "cell_type": "markdown",
   "id": "e07ffc78-421a-4e19-9c9f-7a5cef84fb7e",
   "metadata": {},
   "source": [
    "1.Independent and Identically Distributed (i.i.d.) Random Variables: The sample data should be drawn from a population of i.i.d. random variables. "
   ]
  },
  {
   "cell_type": "markdown",
   "id": "7824a761-ef91-457e-bbad-21c2a11149d2",
   "metadata": {},
   "source": [
    "2.Sample Size: The sample size should be sufficiently large. The rule of thumb is that the sample size should be greater than 30"
   ]
  },
  {
   "cell_type": "markdown",
   "id": "e5205e15-c775-4346-8701-5168dc302947",
   "metadata": {},
   "source": [
    "3.Finite Variance: The population should have a finite variance. If the variance is infinite, the CLT may not hold."
   ]
  },
  {
   "cell_type": "markdown",
   "id": "645038de-61c4-4f53-ab15-4b7f8815efff",
   "metadata": {},
   "source": [
    "4.No Extreme Outliers: The population should not contain extreme outliers or be heavily skewed. "
   ]
  }
 ],
 "metadata": {
  "kernelspec": {
   "display_name": "Python 3 (ipykernel)",
   "language": "python",
   "name": "python3"
  },
  "language_info": {
   "codemirror_mode": {
    "name": "ipython",
    "version": 3
   },
   "file_extension": ".py",
   "mimetype": "text/x-python",
   "name": "python",
   "nbconvert_exporter": "python",
   "pygments_lexer": "ipython3",
   "version": "3.10.8"
  }
 },
 "nbformat": 4,
 "nbformat_minor": 5
}
