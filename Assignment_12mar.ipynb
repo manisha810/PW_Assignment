{
 "cells": [
  {
   "cell_type": "markdown",
   "id": "673b74dc-f342-491a-9c08-8e55d3fdac8d",
   "metadata": {},
   "source": [
    "Q1. Calculate the 95% confidence interval for a sample of data with a mean of 50 and a standard deviation of 5 using Python. Interpret the results."
   ]
  },
  {
   "cell_type": "code",
   "execution_count": 1,
   "id": "4815f510-11bc-484e-8a74-d23197accb51",
   "metadata": {},
   "outputs": [
    {
     "name": "stdout",
     "output_type": "stream",
     "text": [
      "The 95% confidence interval is: (48.579015724388135, 51.420984275611865)\n"
     ]
    }
   ],
   "source": [
    "import scipy.stats as stats\n",
    "\n",
    "# Set the sample size\n",
    "n = 50\n",
    "\n",
    "# Set the sample mean and standard deviation\n",
    "sample_mean = 50\n",
    "sample_std = 5\n",
    "\n",
    "# Set the confidence level\n",
    "conf_level = 0.95\n",
    "\n",
    "# Calculate the standard error\n",
    "std_err = sample_std / (n ** 0.5)\n",
    "\n",
    "# Calculate the t-value for the confidence level and degrees of freedom\n",
    "t_val = stats.t.ppf((1 + conf_level) / 2, n - 1)\n",
    "\n",
    "# Calculate the confidence interval\n",
    "lower = sample_mean - (t_val * std_err)\n",
    "upper = sample_mean + (t_val * std_err)\n",
    "\n",
    "# Print the confidence interval\n",
    "print(\"The 95% confidence interval is:\", (lower, upper))\n"
   ]
  },
  {
   "cell_type": "markdown",
   "id": "5f4a63bb-fb8f-47d0-b191-f0a58ead506c",
   "metadata": {},
   "source": [
    "Q2. Conduct a chi-square goodness of fit test to determine if the distribution of colors of M&Ms in a bag matches the expected distribution of 20% blue, 20% orange, 20% green, 10% yellow, 10% red, and 20% brown. Use Python to perform the test with a significance level of 0.05."
   ]
  },
  {
   "cell_type": "code",
   "execution_count": 2,
   "id": "d6b2e356-36a7-44a5-8c86-c2375b4439b4",
   "metadata": {},
   "outputs": [
    {
     "name": "stdout",
     "output_type": "stream",
     "text": [
      "Chi-square statistic: 1.3\n",
      "p-value: 0.9349316790937376\n",
      "The distribution of colors in the bag is not significantly different from the expected distribution.\n"
     ]
    }
   ],
   "source": [
    "import numpy as np\n",
    "import scipy.stats as stats\n",
    "\n",
    "# Set the observed counts of each color\n",
    "observed = np.array([23, 19, 18, 10, 12, 18])\n",
    "\n",
    "# Set the expected counts of each color\n",
    "expected = np.array([0.2, 0.2, 0.2, 0.1, 0.1, 0.2]) * np.sum(observed)\n",
    "\n",
    "# Calculate the chi-square statistic and p-value\n",
    "chi_sq, p = stats.chisquare(observed, expected)\n",
    "\n",
    "# Set the significance level\n",
    "alpha = 0.05\n",
    "\n",
    "# Print the results\n",
    "print(\"Chi-square statistic:\", chi_sq)\n",
    "print(\"p-value:\", p)\n",
    "if p < alpha:\n",
    "    print(\"The distribution of colors in the bag is significantly different from the expected distribution.\")\n",
    "else:\n",
    "    print(\"The distribution of colors in the bag is not significantly different from the expected distribution.\")\n"
   ]
  },
  {
   "cell_type": "markdown",
   "id": "8e8912f6-d01c-4a43-b28b-bccd82ae71f3",
   "metadata": {},
   "source": [
    "Q3. Use Python to calculate the chi-square statistic and p-value for a contingency table with the following data:"
   ]
  },
  {
   "cell_type": "code",
   "execution_count": null,
   "id": "a60b25ce-cb1e-4fbb-a2ec-b62d73b4fb8b",
   "metadata": {},
   "outputs": [],
   "source": [
    "            Group A   Group B\n",
    "\n",
    "Outcome 1     20       15\n",
    "Outcome 2     10       25\n",
    "Outcome 3     15       20"
   ]
  },
  {
   "cell_type": "markdown",
   "id": "3de82c5b-d6cd-459c-9713-7bffbde7e5f7",
   "metadata": {},
   "source": [
    "Interpret the results of the test."
   ]
  },
  {
   "cell_type": "code",
   "execution_count": 3,
   "id": "004539ae-07c8-4341-b369-713e6e03a678",
   "metadata": {},
   "outputs": [
    {
     "name": "stdout",
     "output_type": "stream",
     "text": [
      "Chi-square statistic: 5.833333333333334\n",
      "p-value: 0.05411376622282158\n",
      "There is no significant association between the groups and the outcomes.\n"
     ]
    }
   ],
   "source": [
    "import numpy as np\n",
    "import scipy.stats as stats\n",
    "\n",
    "# Create the contingency table\n",
    "observed = np.array([[20, 15], [10, 25], [15, 20]])\n",
    "\n",
    "# Calculate the chi-square statistic and p-value\n",
    "chi_sq, p, dof, expected = stats.chi2_contingency(observed)\n",
    "\n",
    "# Set the significance level\n",
    "alpha = 0.05\n",
    "\n",
    "# Print the results\n",
    "print(\"Chi-square statistic:\", chi_sq)\n",
    "print(\"p-value:\", p)\n",
    "if p < alpha:\n",
    "    print(\"There is a significant association between the groups and the outcomes.\")\n",
    "else:\n",
    "    print(\"There is no significant association between the groups and the outcomes.\")\n"
   ]
  },
  {
   "cell_type": "markdown",
   "id": "a1fb8479-0613-40b7-8f43-6ff805f06739",
   "metadata": {},
   "source": [
    "Q4. A study of the prevalence of smoking in a population of 500 individuals found that 60 individuals smoked. Use Python to calculate the 95% confidence interval for the true proportion of individuals in the population who smoke."
   ]
  },
  {
   "cell_type": "code",
   "execution_count": 4,
   "id": "36124c24-c9d0-4cad-92c9-620d64e547e4",
   "metadata": {},
   "outputs": [
    {
     "name": "stdout",
     "output_type": "stream",
     "text": [
      "Sample proportion: 0.120\n",
      "95% confidence interval: (0.09151638887130706, 0.14848361112869293)\n"
     ]
    }
   ],
   "source": [
    "import statsmodels.api as sm\n",
    "\n",
    "# Set the sample size and number of successes\n",
    "n = 500\n",
    "successes = 60\n",
    "\n",
    "# Calculate the sample proportion\n",
    "p = successes / n\n",
    "\n",
    "# Set the confidence level\n",
    "alpha = 0.05\n",
    "\n",
    "# Calculate the confidence interval\n",
    "ci = sm.stats.proportion_confint(successes, n, alpha=alpha)\n",
    "\n",
    "# Print the results\n",
    "print(f\"Sample proportion: {p:.3f}\")\n",
    "print(f\"95% confidence interval: {ci}\")\n"
   ]
  },
  {
   "cell_type": "markdown",
   "id": "767cd564-589f-46f6-8b20-b173929c6a5a",
   "metadata": {},
   "source": [
    "Q5. Calculate the 90% confidence interval for a sample of data with a mean of 75 and a standard deviation of 12 using Python. Interpret the results."
   ]
  },
  {
   "cell_type": "code",
   "execution_count": 5,
   "id": "025719f9-4920-4884-bc79-e6616a655433",
   "metadata": {},
   "outputs": [
    {
     "name": "stdout",
     "output_type": "stream",
     "text": [
      "Sample mean: 75.00\n",
      "90% confidence interval: (72.15479878877537, 77.84520121122463)\n"
     ]
    }
   ],
   "source": [
    "import numpy as np\n",
    "from scipy import stats\n",
    "\n",
    "# Set the sample size, sample mean, and sample standard deviation\n",
    "n = 50\n",
    "sample_mean = 75\n",
    "sample_std = 12\n",
    "\n",
    "# Set the confidence level\n",
    "alpha = 0.1\n",
    "\n",
    "# Calculate the standard error of the mean\n",
    "sem = sample_std / np.sqrt(n)\n",
    "\n",
    "# Calculate the t-value\n",
    "t = stats.t.ppf(1 - alpha / 2, n - 1)\n",
    "\n",
    "# Calculate the confidence interval\n",
    "ci = (sample_mean - t * sem, sample_mean + t * sem)\n",
    "\n",
    "# Print the results\n",
    "print(f\"Sample mean: {sample_mean:.2f}\")\n",
    "print(f\"90% confidence interval: {ci}\")\n"
   ]
  },
  {
   "cell_type": "markdown",
   "id": "670f19a2-1797-4e07-ad56-4c97ce7c2788",
   "metadata": {},
   "source": [
    "Q6. Use Python to plot the chi-square distribution with 10 degrees of freedom. Label the axes and shade the area corresponding to a chi-square statistic of 15."
   ]
  },
  {
   "cell_type": "code",
   "execution_count": 6,
   "id": "ee27e6fe-8ead-4e1c-aaf2-29c52de55470",
   "metadata": {},
   "outputs": [
    {
     "data": {
      "image/png": "[encoded data removed]",
      "text/plain": [
       "<Figure size 800x500 with 1 Axes>"
      ]
     },
     "metadata": {},
     "output_type": "display_data"
    }
   ],
   "source": [
    "import numpy as np\n",
    "from scipy import stats\n",
    "import matplotlib.pyplot as plt\n",
    "\n",
    "# Set the degrees of freedom\n",
    "df = 10\n",
    "\n",
    "# Define the x range\n",
    "x = np.linspace(0, 30, 500)\n",
    "\n",
    "# Create the chi-square distribution\n",
    "chi2 = stats.chi2.pdf(x, df)\n",
    "\n",
    "# Create the plot\n",
    "fig, ax = plt.subplots(figsize=(8, 5))\n",
    "ax.plot(x, chi2)\n",
    "\n",
    "# Shade the area corresponding to a chi-square statistic of 15\n",
    "x_shade = np.linspace(15, 30, 100)\n",
    "y_shade = stats.chi2.pdf(x_shade, df)\n",
    "ax.fill_between(x_shade, y_shade, color='blue', alpha=0.2)\n",
    "\n",
    "# Add labels to the plot\n",
    "ax.set_xlabel('Chi-square statistic')\n",
    "ax.set_ylabel('Probability density')\n",
    "ax.set_title(f'Chi-square distribution with {df} degrees of freedom')\n",
    "\n",
    "# Show the plot\n",
    "plt.show()\n"
   ]
  },
  {
   "cell_type": "markdown",
   "id": "e005e6c2-35b5-4ccf-bfec-fe0a7feb2f1b",
   "metadata": {},
   "source": [
    "Q7. A random sample of 1000 people was asked if they preferred Coke or Pepsi. Of the sample, 520 preferred Coke. Calculate a 99% confidence interval for the true proportion of people in the population who prefer Coke."
   ]
  },
  {
   "cell_type": "markdown",
   "id": "7b57394d-41cc-47f3-ad6f-a3374d7b91a4",
   "metadata": {},
   "source": [
    "To calculate the confidence interval, we can use the formula:\n",
    "\n",
    "CI = (p_hat - z*(sqrt(p_hat*(1-p_hat)/n)), p_hat + z*(sqrt(p_hat*(1-p_hat)/n)))\n",
    "\n",
    "where p_hat is the sample proportion, z is the critical value from the standard normal distribution at the desired confidence level, n is the sample size.\n",
    "\n",
    "In this case, p_hat = 520/1000 = 0.52, n = 1000, and we want a 99% confidence interval. The critical value for a two-tailed test at 99% confidence level is 2.576."
   ]
  },
  {
   "cell_type": "code",
   "execution_count": null,
   "id": "c2a6000a-73ad-43c9-acc3-9dbdde0b92ca",
   "metadata": {},
   "outputs": [],
   "source": [
    "import math\n",
    "\n",
    "p_hat = 0.52\n",
    "n = 1000\n",
    "z = 2.576\n",
    "\n",
    "se = math.sqrt(p_hat*(1-p_hat)/n)\n",
    "lower = p_hat - z*se\n",
    "upper = p_hat + z*se\n",
    "\n",
    "print(\"The 99% confidence interval for the true proportion of people who prefer Coke is: ({:.4f}, {:.4f})\".format(lower, upper))\n"
   ]
  },
  {
   "cell_type": "markdown",
   "id": "17154518-7c0c-4c6c-a739-9fa2485d0cbe",
   "metadata": {},
   "source": [
    "Q8. A researcher hypothesizes that a coin is biased towards tails. They flip the coin 100 times and observe 45 tails. Conduct a chi-square goodness of fit test to determine if the observed frequencies match the expected frequencies of a fair coin. Use a significance level of 0.05."
   ]
  },
  {
   "cell_type": "code",
   "execution_count": 8,
   "id": "765e8998-0c3d-447d-ad9a-fc6a08e05c9f",
   "metadata": {},
   "outputs": [
    {
     "name": "stdout",
     "output_type": "stream",
     "text": [
      "Chi-square statistic: 1.0\n",
      "p-value: 0.31731050786291115\n"
     ]
    }
   ],
   "source": [
    "from scipy.stats import chisquare\n",
    "\n",
    "# Expected frequencies\n",
    "expected = [50, 50]\n",
    "\n",
    "# Observed frequencies\n",
    "observed = [55, 45]\n",
    "\n",
    "# Chi-square test\n",
    "chi2, p = chisquare(observed, f_exp=expected)\n",
    "\n",
    "print(\"Chi-square statistic:\", chi2)\n",
    "print(\"p-value:\", p)\n"
   ]
  },
  {
   "cell_type": "markdown",
   "id": "40de78f5-823f-40cc-b8ed-541cb7116de7",
   "metadata": {},
   "source": [
    "Q9. A study was conducted to determine if there is an association between smoking status (smoker or non-smoker) and lung cancer diagnosis (yes or no). The results are shown in the contingency table below. Conduct a chi-square test for independence to determine if there is a significant association between\n",
    "smoking status and lung cancer diagnosis."
   ]
  },
  {
   "cell_type": "code",
   "execution_count": null,
   "id": "d3780b56-f124-408b-8e01-8ef3253610a8",
   "metadata": {},
   "outputs": [],
   "source": [
    "           Lung Cancer: Yes     Lung Cancer: No\n",
    "\n",
    "Smoker            60               140\n",
    "Non-smoker        30               170"
   ]
  },
  {
   "cell_type": "markdown",
   "id": "d4545ccd-e3a7-405a-ac44-ca8cf57ecaa4",
   "metadata": {},
   "source": [
    "Use a significance level of 0.05."
   ]
  },
  {
   "cell_type": "code",
   "execution_count": 9,
   "id": "c6528a0c-dbcb-49b8-be2d-1cf1f4b677af",
   "metadata": {},
   "outputs": [
    {
     "name": "stdout",
     "output_type": "stream",
     "text": [
      "There is a significant association between smoking status and lung cancer diagnosis.\n"
     ]
    }
   ],
   "source": [
    "import numpy as np\n",
    "from scipy.stats import chi2_contingency\n",
    "\n",
    "obs = np.array([[60, 140], [30, 170]])\n",
    "\n",
    "chi2, p, dof, expected = chi2_contingency(obs)\n",
    "\n",
    "alpha = 0.05\n",
    "\n",
    "if p < alpha:\n",
    "    print(\"There is a significant association between smoking status and lung cancer diagnosis.\")\n",
    "else:\n",
    "    print(\"There is no significant association between smoking status and lung cancer diagnosis.\")\n"
   ]
  },
  {
   "cell_type": "markdown",
   "id": "df2e7d44-018f-47f7-a3cf-4189767f7550",
   "metadata": {},
   "source": [
    "Q10. A study was conducted to determine if the proportion of people who prefer milk chocolate, dark chocolate, or white chocolate is different in the U.S. versus the U.K. A random sample of 500 people from the U.S. and a random sample of 500 people from the U.K. were surveyed. The results are shown in the  contingency table below. Conduct a chi-square test for independence to determine if there is a significant association between chocolate preference and country of origin."
   ]
  },
  {
   "cell_type": "code",
   "execution_count": null,
   "id": "4b791b3a-9b61-4506-8309-98bd97dfd330",
   "metadata": {},
   "outputs": [],
   "source": [
    "              Milk Chocolate    Dark Chocolate     White Chocolate\n",
    "\n",
    "U.S. (n=500)       200              150               150\n",
    "U.K. (n=500)       225              175               100"
   ]
  },
  {
   "cell_type": "markdown",
   "id": "904b9967-7f81-4fc0-b3b8-23833dafa1ef",
   "metadata": {},
   "source": [
    "Use a significance level of 0.01."
   ]
  },
  {
   "cell_type": "code",
   "execution_count": 10,
   "id": "7137a0dc-7530-42a5-955e-00e5d4d62972",
   "metadata": {},
   "outputs": [
    {
     "name": "stdout",
     "output_type": "stream",
     "text": [
      "Chi-square statistic:  13.393665158371041\n",
      "p-value:  0.0012348168997745918\n",
      "Degrees of freedom:  2\n",
      "Expected frequencies:\n",
      " [[212.5 162.5 125. ]\n",
      " [212.5 162.5 125. ]]\n"
     ]
    }
   ],
   "source": [
    "import numpy as np\n",
    "from scipy.stats import chi2_contingency\n",
    "\n",
    "# observed data\n",
    "obs = np.array([[200, 150, 150],\n",
    "                [225, 175, 100]])\n",
    "\n",
    "# perform chi-square test for independence\n",
    "chi2, p, dof, expected = chi2_contingency(obs)\n",
    "\n",
    "# print results\n",
    "print(\"Chi-square statistic: \", chi2)\n",
    "print(\"p-value: \", p)\n",
    "print(\"Degrees of freedom: \", dof)\n",
    "print(\"Expected frequencies:\\n\", expected)\n"
   ]
  },
  {
   "cell_type": "markdown",
   "id": "d34a46dd-5f34-4c13-9501-5b3cd22e2ea0",
   "metadata": {},
   "source": [
    "Q11. A random sample of 30 people was selected from a population with an unknown mean and standard deviation. The sample mean was found to be 72 and the sample standard deviation was found to be 10. Conduct a hypothesis test to determine if the population mean is significantly different from 70. Use a significance level of 0.05."
   ]
  },
  {
   "cell_type": "code",
   "execution_count": 11,
   "id": "58a8ea0d-9db7-45d6-ae94-6fd0f314b6ee",
   "metadata": {},
   "outputs": [
    {
     "name": "stdout",
     "output_type": "stream",
     "text": [
      "t-statistic: 1.1\n",
      "Degrees of freedom: 29\n",
      "Critical t-value: -2.05\n",
      "p-value: 0.2823362372860698\n",
      "Reject the null hypothesis\n"
     ]
    }
   ],
   "source": [
    "import math\n",
    "from scipy.stats import t\n",
    "\n",
    "sample_mean = 72\n",
    "pop_mean = 70\n",
    "sample_std = 10\n",
    "sample_size = 30\n",
    "alpha = 0.05\n",
    "\n",
    "# Calculate the t-statistic\n",
    "t_statistic = (sample_mean - pop_mean) / (sample_std / math.sqrt(sample_size))\n",
    "\n",
    "# Calculate the degrees of freedom\n",
    "df = sample_size - 1\n",
    "\n",
    "# Calculate the critical t-value\n",
    "t_critical = t.ppf(alpha/2, df)\n",
    "\n",
    "# Calculate the p-value\n",
    "p_value = 2 * (1 - t.cdf(abs(t_statistic), df))\n",
    "\n",
    "# Print the results\n",
    "print(\"t-statistic:\", round(t_statistic, 2))\n",
    "print(\"Degrees of freedom:\", df)\n",
    "print(\"Critical t-value:\", round(t_critical, 2))\n",
    "print(\"p-value:\", p_value)\n",
    "\n",
    "if abs(t_statistic) > t_critical:\n",
    "    print(\"Reject the null hypothesis\")\n",
    "else:\n",
    "    print(\"Fail to reject the null hypothesis\")\n"
   ]
  }
 ],
 "metadata": {
  "kernelspec": {
   "display_name": "Python 3 (ipykernel)",
   "language": "python",
   "name": "python3"
  },
  "language_info": {
   "codemirror_mode": {
    "name": "ipython",
    "version": 3
   },
   "file_extension": ".py",
   "mimetype": "text/x-python",
   "name": "python",
   "nbconvert_exporter": "python",
   "pygments_lexer": "ipython3",
   "version": "3.10.8"
  }
 },
 "nbformat": 4,
 "nbformat_minor": 5
}
