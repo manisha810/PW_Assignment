{
 "cells": [
  {
   "cell_type": "markdown",
   "id": "6a4f01ba-88cf-4e7a-bc63-4044b66fd375",
   "metadata": {},
   "source": [
    "Q1. What is a database? Differentiate between SQL and NoSQL databases."
   ]
  },
  {
   "cell_type": "markdown",
   "id": "e2269378-70ee-43a1-a779-b92397ba8734",
   "metadata": {},
   "source": [
    "The database is a collection of organized information that can easily be used, managed, update, and they are classified according to their organizational approach"
   ]
  },
  {
   "cell_type": "markdown",
   "id": "24b85fa0-5758-4d57-b78c-672f193d57ef",
   "metadata": {},
   "source": [
    "<!--  SQL -->\n",
    ". These databases are not suited for hierarchical data storage.\n",
    ". These databases have fixed or static or predefined schema\n",
    ". RELATIONAL DATABASE MANAGEMENT SYSTEM (RDBMS)\n",
    ". Vertically Scalable\n",
    "\n",
    "<!-- NoSQL -->\n",
    "\n",
    ".These databases are best suited for hierarchical data storage.\n",
    ". These databases are not so good for complex queries.\n",
    ". Non-relational or distributed database system.\n",
    ". Horizontally scalable."
   ]
  },
  {
   "cell_type": "markdown",
   "id": "79f85e8d-8926-453d-83c5-e0fa304a0d94",
   "metadata": {},
   "source": [
    "Q2. What is DDL? Explain why CREATE, DROP, ALTER, and TRUNCATE are used with an example."
   ]
  },
  {
   "cell_type": "markdown",
   "id": "04c57fde-10b6-4733-a17f-8551aa6f53cf",
   "metadata": {},
   "source": [
    "DDL stands for Data Definition Language. \n",
    "These commands are used to change the structure of a database and database objects."
   ]
  },
  {
   "cell_type": "markdown",
   "id": "5fc25e02-2fd1-4f17-8f54-ee982b79ae7e",
   "metadata": {},
   "source": [
    "CREATE: \n",
    "This command is used to create a new table in SQL. The user has to give information like table name, column names, and their datatypes."
   ]
  },
  {
   "cell_type": "code",
   "execution_count": null,
   "id": "2e32c51f-84c1-4b7c-916a-0020cc866656",
   "metadata": {},
   "outputs": [],
   "source": [
    "We need to create a table for storing Student information of a particular College. \n",
    "CREATE TABLE Employee(  \n",
    "    EmpId int,  \n",
    "    LastName varchar(255),  \n",
    "    FirstName varchar(255),  \n",
    "    Address varchar(255),  \n",
    "    City varchar(255)   \n",
    ");"
   ]
  },
  {
   "cell_type": "markdown",
   "id": "4d67a8c6-1b05-47c7-8ac4-971fc0e275b5",
   "metadata": {},
   "source": [
    "DROP:\n",
    "\n",
    "This command is used to remove an existing table along with its structure from the Database."
   ]
  },
  {
   "cell_type": "code",
   "execution_count": null,
   "id": "709de411-c512-4bfe-ad36-cfc23c5043d3",
   "metadata": {},
   "outputs": [],
   "source": [
    "If the College Authority wants to change their Database by deleting the Student_info Table. \n",
    "DROP TABLE Student_info;"
   ]
  },
  {
   "cell_type": "markdown",
   "id": "5c10e2d8-0e56-4dd9-8459-ce5c08e272dd",
   "metadata": {},
   "source": [
    "ALTER: \n",
    "This command is used to add, delete or change columns in the existing table. The user needs to know the existing table name and can do add, delete or modify tasks easily."
   ]
  },
  {
   "cell_type": "code",
   "execution_count": null,
   "id": "02efdb16-a06d-47b5-85a7-b8286d1051aa",
   "metadata": {},
   "outputs": [],
   "source": [
    "In our Student_info table, we want to add a new column for CGPA. The syntax would be as below as follows.\n",
    "\n",
    "ALTER TABLE Student_info\n",
    "ADD CGPA number;"
   ]
  },
  {
   "cell_type": "markdown",
   "id": "c6746722-7771-4ae6-9f3b-88e5b175aa1d",
   "metadata": {},
   "source": [
    "TRUCATE: \n",
    "\n",
    "This command is used to remove all rows from the table, but the structure of the table still exists."
   ]
  },
  {
   "cell_type": "code",
   "execution_count": null,
   "id": "502b174c-e89e-4944-8b1f-125b7a8ac6b0",
   "metadata": {},
   "outputs": [],
   "source": [
    "The College Authority wants to remove the details of all students for new batches but wants to keep the table structure. \n",
    "TRUNCATE TABLE Student_info;"
   ]
  },
  {
   "cell_type": "markdown",
   "id": "f0a9045a-5749-4843-b2fa-cefd75f26904",
   "metadata": {},
   "source": [
    "Q3. What is DML? Explain INSERT, UPDATE, and DELETE with an example."
   ]
  },
  {
   "cell_type": "markdown",
   "id": "8e6d2d50-aee7-4e1a-94c0-4c1a4b926cb5",
   "metadata": {},
   "source": [
    "DML stands for Data Manipulation Language. Tables and formulas are helpful when communicating with data stored up to a point in a database through SQL, but a time comes when we actually want to execute some fairly complicated data interactions. "
   ]
  },
  {
   "cell_type": "markdown",
   "id": "000840e2-be55-47de-a814-162fc91b4646",
   "metadata": {},
   "source": [
    "INSERT:\n",
    "\n",
    "This command is used to enter the information or values into a row. We can connect one or more records to a single table within a repository using this instruction. "
   ]
  },
  {
   "cell_type": "code",
   "execution_count": null,
   "id": "967b1239-cb8f-41d7-8d1d-0c4a3c14c3cf",
   "metadata": {},
   "outputs": [],
   "source": [
    "INSERT INTO students ('stu_id' int, 'stu_name' varchar(20), 'city' varchar(20))\n",
    "\n",
    "VALUES ('1', 'Nirmit', 'Gorakhpur'); "
   ]
  },
  {
   "cell_type": "markdown",
   "id": "604a4f65-08d7-4310-914f-aee04d9447f4",
   "metadata": {},
   "source": [
    "UPDATE :\n",
    "\n",
    "This command is used to alter existing table records. Within a table, it modifies data from one or more records. "
   ]
  },
  {
   "cell_type": "code",
   "execution_count": null,
   "id": "d32715c1-e28f-408b-9ee5-91a52a7f965f",
   "metadata": {},
   "outputs": [],
   "source": [
    "UPDATE students\n",
    "\n",
    "SET due_fees = 20000\n",
    "\n",
    "WHERE stu_name = 'Mini'; "
   ]
  },
  {
   "cell_type": "markdown",
   "id": "82088ddc-466d-4cb9-9d99-64a29d4c04d7",
   "metadata": {},
   "source": [
    "DELETE :  \n",
    "It deletes all archives from a table. This command is used to erase some or all of the previous table’s records. "
   ]
  },
  {
   "cell_type": "code",
   "execution_count": null,
   "id": "39de9e1a-c2eb-4702-9021-0b952663c56c",
   "metadata": {},
   "outputs": [],
   "source": [
    "DELETE FROM students\n",
    "\n",
    "WHERE stu_id = '001'; "
   ]
  },
  {
   "cell_type": "markdown",
   "id": "010c7721-47bc-4fd9-9a4d-455b353d8475",
   "metadata": {},
   "source": [
    "Q4. What is DQL? Explain SELECT with an example."
   ]
  },
  {
   "cell_type": "markdown",
   "id": "43bdcc74-0023-416e-9fb6-4103f6f32a10",
   "metadata": {},
   "source": [
    "DQL statements are used for performing queries on the data within schema objects. The purpose of the DQL Command is to get some schema relation based on the query passed to it."
   ]
  },
  {
   "cell_type": "code",
   "execution_count": null,
   "id": "0177144a-0a19-496a-ae92-8c29a8cb7ec7",
   "metadata": {},
   "outputs": [],
   "source": [
    "Select * from Student;"
   ]
  },
  {
   "cell_type": "markdown",
   "id": "3d2a98cf-9b70-48a6-ae2d-f686cb7add71",
   "metadata": {},
   "source": [
    "Q5. Explain Primary Key and Foreign Key."
   ]
  },
  {
   "cell_type": "markdown",
   "id": "c839e09e-6864-4d7b-9c44-f9bcb93dc6a2",
   "metadata": {},
   "source": [
    "Primary Key: A primary key is used to ensure that data in the specific column is unique. A column cannot have NULL values. It is either an existing table column or a column that is specifically generated by the database according to a defined sequence."
   ]
  },
  {
   "cell_type": "markdown",
   "id": "a6625fc3-c1cb-4e9b-bd8b-839fdadf718c",
   "metadata": {},
   "source": [
    "Foreign Key: \n",
    "A foreign key is a column or group of columns in a relational database table that provides a link between data in two tables. It is a column (or columns) that references a column (most often the primary key) of another table. "
   ]
  },
  {
   "cell_type": "markdown",
   "id": "d8ca3bad-fc2f-406c-9fe0-2438cfea2df5",
   "metadata": {},
   "source": [
    "Q6. Write a python code to connect MySQL to python. Explain the cursor() and execute() method."
   ]
  },
  {
   "cell_type": "code",
   "execution_count": null,
   "id": "be6c4ed2-cbb6-4ce9-b7e0-350e3e02a781",
   "metadata": {},
   "outputs": [],
   "source": [
    "import mysql.connector\n",
    "\n",
    "mydb = mysql.connector.connect(\n",
    "  host=\"localhost\",\n",
    "  user=\"yourusername\",\n",
    "  password=\"yourpassword\"\n",
    ")\n",
    "\n",
    "mycursor = mydb.cursor()\n",
    "\n",
    "mycursor.execute(\"SHOW DATABASES\")\n",
    "\n",
    "for x in mycursor:\n",
    "    print(x)"
   ]
  },
  {
   "cell_type": "markdown",
   "id": "18ed2fb7-d24b-4d39-8abc-fcd4ae2ff1fe",
   "metadata": {},
   "source": [
    "cursor() method: They are permanently connected to the connection, and all instructions are run in the context of the database session covered by the connection."
   ]
  },
  {
   "cell_type": "markdown",
   "id": "50c46275-082c-44d6-8196-cfdb1eea92bb",
   "metadata": {},
   "source": [
    "execute() method: used for the dynamic execution of Python programs which can either be a string or object code. If it is a string, the string is parsed as a suite of Python statements which is then executed unless a syntax error occurs and if it is an object code, it is simply executed."
   ]
  },
  {
   "cell_type": "markdown",
   "id": "4b4599aa-23fe-4d27-b33c-fe70165cb1e1",
   "metadata": {},
   "source": [
    "Q7. Give the order of execution of SQL clauses in an SQL query."
   ]
  },
  {
   "cell_type": "markdown",
   "id": "e67c9648-adae-44c7-9677-b9394a5999d1",
   "metadata": {},
   "source": [
    "1.FROM clause\n",
    "2.ON clause\n",
    "3.OUTER clause\n",
    "4.WHERE clause\n",
    "5.GROUP BY clause\n",
    "6.HAVING clause\n",
    "7.SELECT clause\n",
    "8.DISTINCT clause\n",
    "9.ORDER BY clause\n",
    "10.TOP clause"
   ]
  }
 ],
 "metadata": {
  "kernelspec": {
   "display_name": "Python 3 (ipykernel)",
   "language": "python",
   "name": "python3"
  },
  "language_info": {
   "codemirror_mode": {
    "name": "ipython",
    "version": 3
   },
   "file_extension": ".py",
   "mimetype": "text/x-python",
   "name": "python",
   "nbconvert_exporter": "python",
   "pygments_lexer": "ipython3",
   "version": "3.10.8"
  }
 },
 "nbformat": 4,
 "nbformat_minor": 5
}
