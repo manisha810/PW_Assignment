{
 "cells": [
  {
   "cell_type": "code",
   "execution_count": null,
   "id": "a9903396-f508-4e20-97f7-26fc4187d3a0",
   "metadata": {},
   "outputs": [],
   "source": [
    "....................Question 1....................\n",
    "\n",
    "def keyword is used to define a function.\n",
    "def listofodd():\n",
    "    l1[]\n",
    "    for i in range (1,25):\n",
    "        if i%2!=0:\n",
    "            l1.append(i)\n",
    "    return l1\n",
    "listofodd()"
   ]
  },
  {
   "cell_type": "code",
   "execution_count": null,
   "id": "7ae19577-8ae8-4629-85e2-0bb83aec4033",
   "metadata": {},
   "outputs": [],
   "source": [
    "....................Question 2....................\n",
    "\n",
    "\n",
    "Python has *args which allow us to pass the variable number of non keyword arguments to function.\n",
    "\n",
    "example :-\n",
    "\n",
    "def adder(*num):\n",
    "    sum = 0\n",
    "    \n",
    "    for n in num:\n",
    "        sum = sum + n\n",
    "\n",
    "    print(\"Sum:\",sum)\n",
    "    \n",
    "    \n",
    "python has **kwargs which allows us to pass the variable length of keyword arguments to the function.\n",
    "\n",
    "example :- \n",
    "\n",
    "def totalfruits(**kwargs):\n",
    "    print(kwargs, type(kwargs))\n",
    "\n",
    "\n",
    "totalfruits(banana=5, mango=7, apple=8)"
   ]
  },
  {
   "cell_type": "code",
   "execution_count": null,
   "id": "1ca3854b-1124-4ba4-9607-11f93bf87657",
   "metadata": {},
   "outputs": [],
   "source": [
    "....................Question 3....................\n",
    "\n",
    "Iterator in Python is an object that is used to iterate over iterable objects like lists, tuples, dicts, and sets.\n",
    "The iterator object is initialized using the iter() method. It uses the next() method for iteration.\n",
    "\n",
    "l = [2,4,6,8,10,12,14,16,18,20]\n",
    "count = 0\n",
    "for i in l:\n",
    "    if count<5:\n",
    "        print(i)\n",
    "        count += 1\n"
   ]
  },
  {
   "cell_type": "code",
   "execution_count": null,
   "id": "3d12ff80-6eac-407c-bce2-f7e38347c244",
   "metadata": {},
   "outputs": [],
   "source": [
    "....................Question 4....................\n",
    "\n",
    "A Generator is a function that returns an object (iterator) which we can iterate over, but one value at a time.\n",
    "To create a generator function in Python, yield keyword is used instead of return statement in normal function.\n",
    " \n",
    "    def square():\n",
    "        for i in range(5):\n",
    "            yield i ** 2\n",
    "    square_gen = square()"
   ]
  },
  {
   "cell_type": "code",
   "execution_count": null,
   "id": "d31f936b-d75b-41f1-bfee-c2229369319a",
   "metadata": {},
   "outputs": [],
   "source": [
    "....................Question 5....................\n",
    "\n",
    "\n",
    "def primeNum():\n",
    "    primes = []\n",
    "    for num in range(2,1000):\n",
    "        for prime in primes:\n",
    "            if num%prime == 0:\n",
    "                break\n",
    "        else:\n",
    "            primes.append(num)\n",
    "            yield num\n",
    "                \n",
    "# print  the first 20 prime numbers\n",
    "\n",
    "prime = primeNum()\n",
    "for i in range(1,21):\n",
    "    print(next(prime))\n"
   ]
  },
  {
   "cell_type": "code",
   "execution_count": null,
   "id": "09ac86e2-1f5d-4ec1-9982-8024d96959eb",
   "metadata": {},
   "outputs": [],
   "source": [
    "....................Question 6....................\n",
    "\n",
    "number = 10\n",
    "a,b =0,1\n",
    "coutner = 0\n",
    "while coutner < number :\n",
    "    print(a)\n",
    "    c = a + b\n",
    "    a = b\n",
    "    b = c\n",
    "    coutner =  coutner + 1"
   ]
  },
  {
   "cell_type": "code",
   "execution_count": 2,
   "id": "49e87a55-73c5-4e4f-ab9a-fd88625d5ac1",
   "metadata": {},
   "outputs": [],
   "source": [
    "# ....................Question 7....................\n",
    "\n",
    "s = \"pwskills\""
   ]
  },
  {
   "cell_type": "code",
   "execution_count": null,
   "id": "7c2ec89d-5d51-4ac7-a759-3eb99e1a7574",
   "metadata": {},
   "outputs": [],
   "source": [
    "[i for i in s ]"
   ]
  },
  {
   "cell_type": "code",
   "execution_count": null,
   "id": "85668a46-870f-4725-bb28-56e782687635",
   "metadata": {},
   "outputs": [],
   "source": [
    "....................Question 8....................\n",
    "\n",
    "num = 1221\n",
    "temp = num\n",
    "reverse = 0\n",
    "while temp > 0:\n",
    "    remainder = temp % 10\n",
    "    reverse = (reverse * 10) + remainder\n",
    "    temp = temp // 10\n",
    "if num == reverse:\n",
    "    print('Palindrome')\n",
    "else:\n",
    "    print(\"Not Palindrome\")"
   ]
  },
  {
   "cell_type": "code",
   "execution_count": null,
   "id": "c445f5ba-af00-4a7f-ae56-7df6566addaa",
   "metadata": {},
   "outputs": [],
   "source": [
    " ....................Question 9....................\n",
    "\n",
    "\n",
    "odd = [x for x in range(1,101) if x%2!=0]\n",
    "print(odd)\n",
    "list(odd)"
   ]
  }
 ],
 "metadata": {
  "kernelspec": {
   "display_name": "Python 3 (ipykernel)",
   "language": "python",
   "name": "python3"
  },
  "language_info": {
   "codemirror_mode": {
    "name": "ipython",
    "version": 3
   },
   "file_extension": ".py",
   "mimetype": "text/x-python",
   "name": "python",
   "nbconvert_exporter": "python",
   "pygments_lexer": "ipython3",
   "version": "3.10.8"
  }
 },
 "nbformat": 4,
 "nbformat_minor": 5
}
