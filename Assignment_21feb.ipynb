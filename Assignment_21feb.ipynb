{
 "cells": [
  {
   "cell_type": "markdown",
   "id": "15f2156b-bda0-421d-9b9f-312b43bd6b93",
   "metadata": {},
   "source": [
    "Q1. What is Web Scraping? Why is it Used? Give three areas where Web Scraping is used to get data."
   ]
  },
  {
   "cell_type": "markdown",
   "id": "5295027b-e7f1-43c4-bae3-9fafd776e35c",
   "metadata": {},
   "source": [
    "Web scraping is an automatic method to obtain large amounts of data from websites. Most of this data is unstructured data in an HTML format which is then converted into structured data in a spreadsheet or a database so that it can be used in various applications."
   ]
  },
  {
   "cell_type": "markdown",
   "id": "0f1170de-f6fb-4ed5-897a-b2d9bf6bd5ee",
   "metadata": {},
   "source": [
    ".Technology makes it easy to extract data\n",
    ".Innovation at the speed of light\n",
    ".Better access to company data"
   ]
  },
  {
   "cell_type": "markdown",
   "id": "cfbeaadf-df7a-4796-ab09-88a58efc8464",
   "metadata": {},
   "source": [
    "1.Email Marketing\n",
    "2.Market Research\n",
    "3.News Monitoring"
   ]
  },
  {
   "cell_type": "markdown",
   "id": "44fde545-05f9-488a-86dc-d095b31f7354",
   "metadata": {},
   "source": [
    "Q2. What are the different methods used for Web Scraping?"
   ]
  },
  {
   "cell_type": "markdown",
   "id": "d5177257-b359-446c-be52-3203defe9072",
   "metadata": {},
   "source": [
    ".Text pattern matching.\n",
    ".HTTP programming.\n",
    ".HTML parsing."
   ]
  },
  {
   "cell_type": "markdown",
   "id": "5fa4d877-a61f-4b23-bc2c-6fdd7c828d0c",
   "metadata": {},
   "source": [
    "Q3. What is Beautiful Soup? Why is it used?"
   ]
  },
  {
   "cell_type": "markdown",
   "id": "967ab673-1281-4866-a716-456307ade9ff",
   "metadata": {},
   "source": [
    "Beautiful Soup is a Python package for parsing HTML and XML documents. It creates a parse tree for parsed pages based on specific criteria that can be used to extract, navigate, search and modify data from HTML, which is mostly used for web scraping."
   ]
  },
  {
   "cell_type": "markdown",
   "id": "61e92bf1-5f78-4d44-bcf6-21940852e7ca",
   "metadata": {},
   "source": [
    "Beautiful Soup is a Python library that is used for web scraping purposes to pull the data out of HTML and XML files. It creates a parse tree from page source code that can be used to extract data in a hierarchical and more readable manner."
   ]
  },
  {
   "cell_type": "markdown",
   "id": "1aed3657-d992-4c4c-ad45-1da41a4c6656",
   "metadata": {},
   "source": [
    "Q4. Why is flask used in this Web Scraping project?"
   ]
  },
  {
   "cell_type": "markdown",
   "id": "d8a024ef-d5a3-46b7-835b-f997276ceab9",
   "metadata": {},
   "source": [
    "Flask is a lightweight framework to build websites. We’ll use this to parse our collected data and display it as HTML in a new HTML file. The requests module allows us to send http requests to the website we want to scrape."
   ]
  },
  {
   "cell_type": "markdown",
   "id": "5896e62a-af6c-42b2-b45c-7c5478d6639d",
   "metadata": {},
   "source": [
    "Q5. Write the names of AWS services used in this project. Also, explain the use of each service."
   ]
  },
  {
   "cell_type": "markdown",
   "id": "c2225465-e9f2-4bc1-9f96-f5fee76b05ee",
   "metadata": {},
   "source": [
    " Amazon Elastic Beanstalk services used in this project.Amazon Elastic Beanstalk is also a promising addition to the list of AWS services. This service is suitable for developers as it helps in taking away the trouble of managing the infrastructure of a website."
   ]
  }
 ],
 "metadata": {
  "kernelspec": {
   "display_name": "Python 3 (ipykernel)",
   "language": "python",
   "name": "python3"
  },
  "language_info": {
   "codemirror_mode": {
    "name": "ipython",
    "version": 3
   },
   "file_extension": ".py",
   "mimetype": "text/x-python",
   "name": "python",
   "nbconvert_exporter": "python",
   "pygments_lexer": "ipython3",
   "version": "3.10.8"
  }
 },
 "nbformat": 4,
 "nbformat_minor": 5
}
