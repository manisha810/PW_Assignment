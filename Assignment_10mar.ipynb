{
 "cells": [
  {
   "cell_type": "markdown",
   "id": "c08692da-0612-4112-bf36-0f8973cd11b5",
   "metadata": {},
   "source": [
    "Q1: What is Estimation Statistics? Explain point estimate and interval estimate."
   ]
  },
  {
   "cell_type": "markdown",
   "id": "0a0b36ee-6fee-4dac-8a80-9fbf898c6339",
   "metadata": {},
   "source": [
    "Estimation statistics is a branch of statistics that involves using sample data to make inferences about a population. The goal of estimation is to estimate a population parameter, such as the mean or proportion, based on the information obtained from a sample of the population."
   ]
  },
  {
   "cell_type": "markdown",
   "id": "c710eca5-5566-4e3b-b73d-0a0da62ebb45",
   "metadata": {},
   "source": [
    "1.Point Estimate:\n",
    "A point estimate is a single value that is used to estimate a population parameter. Point estimates are obtained by using sample statistics, such as the sample mean or sample proportion, to estimate the population parameter."
   ]
  },
  {
   "cell_type": "markdown",
   "id": "d2ef1f8f-f614-4cca-abb1-1849d375ffa0",
   "metadata": {},
   "source": [
    "2.Interval Estimate:\n",
    "An interval estimate is a range of values that is used to estimate a population parameter. Interval estimates are obtained by calculating a confidence interval, which is a range of values that we are confident contains the population parameter. "
   ]
  },
  {
   "cell_type": "markdown",
   "id": "053347c8-8c3a-4239-8688-2bbf1e44c69c",
   "metadata": {},
   "source": [
    "Q2. Write a Python function to estimate the population mean using a sample mean and standard deviation."
   ]
  },
  {
   "cell_type": "code",
   "execution_count": 1,
   "id": "b9fd6fab-d49e-40ba-84ae-fc445d98c45d",
   "metadata": {},
   "outputs": [
    {
     "name": "stdout",
     "output_type": "stream",
     "text": [
      "Estimated population mean: 75.2\n",
      "95% confidence interval: (73.31513616406914, 77.08486383593086)\n"
     ]
    }
   ],
   "source": [
    "import math\n",
    "\n",
    "def estimate_population_mean(sample_mean, sample_std_dev, sample_size):\n",
    "    # calculate the standard error of the mean\n",
    "    standard_error = sample_std_dev / math.sqrt(sample_size)\n",
    "    \n",
    "    # calculate the margin of error at 95% confidence level\n",
    "    margin_of_error = 1.96 * standard_error\n",
    "    \n",
    "    # calculate the lower and upper bounds of the confidence interval\n",
    "    lower_bound = sample_mean - margin_of_error\n",
    "    upper_bound = sample_mean + margin_of_error\n",
    "    \n",
    "    # return the estimated population mean and the confidence interval\n",
    "    return (sample_mean, (lower_bound, upper_bound))\n",
    "\n",
    "sample_mean = 75.2\n",
    "sample_std_dev = 6.8\n",
    "sample_size = 50\n",
    "\n",
    "estimated_mean, confidence_interval = estimate_population_mean(sample_mean, sample_std_dev, sample_size)\n",
    "\n",
    "print(\"Estimated population mean:\", estimated_mean)\n",
    "print(\"95% confidence interval:\", confidence_interval)"
   ]
  },
  {
   "cell_type": "markdown",
   "id": "34e32878-9c42-4382-a09a-b311794a0d84",
   "metadata": {},
   "source": [
    "Q3: What is Hypothesis testing? Why is it used? State the importance of Hypothesis testing."
   ]
  },
  {
   "cell_type": "markdown",
   "id": "35cd9901-7e46-494c-9386-6c414c7c120e",
   "metadata": {},
   "source": [
    "Hypothesis testing is a statistical method used to make decisions about a population based on sample data. "
   ]
  },
  {
   "cell_type": "markdown",
   "id": "549de529-0c61-4037-9549-d7c9db96b85c",
   "metadata": {},
   "source": [
    "Hypothesis testing is used to answer questions such as:\n",
    "\n",
    "1.Is there a significant difference between the means of two groups?\n",
    "2.Is there a significant relationship between two variables?\n",
    "3.Is a sample statistically different from a population?"
   ]
  },
  {
   "cell_type": "markdown",
   "id": "3a1b8ad2-86e6-4366-927a-e58fbb81fd3b",
   "metadata": {},
   "source": [
    "Hypothesis testing is important because it allows us to make decisions based on data and evidence rather than just intuition or guesswork."
   ]
  },
  {
   "cell_type": "markdown",
   "id": "03e15fd7-7aab-4ff3-b591-b07136f77b35",
   "metadata": {},
   "source": [
    "Q4. Create a hypothesis that states whether the average weight of male college students is greater than the average weight of female college students."
   ]
  },
  {
   "cell_type": "markdown",
   "id": "6f2b9386-9184-48a4-a720-409bec9b01b7",
   "metadata": {},
   "source": [
    "Create a hypothesis that states whether the average weight of male college students is greater than the average weight of female college students.\n",
    "\n",
    "The null hypothesis is that the average weight of male college students is equal to the average weight of female college students, while the alternative hypothesis is that the average weight of male college students is greater than the average weight of female college students.\n",
    "\n",
    "Null hypothesis: μmale = μfemale\n",
    "Alternative hypothesis: μmale > μfemale"
   ]
  },
  {
   "cell_type": "markdown",
   "id": "66af95a3-4d5a-4ed0-a82f-fa7c5fb1099c",
   "metadata": {},
   "source": [
    "Q5. Write a Python script to conduct a hypothesis test on the difference between two population means, given a sample from each population."
   ]
  },
  {
   "cell_type": "code",
   "execution_count": 3,
   "id": "6d737166-1e87-47ab-9a4b-9f9589a2fb54",
   "metadata": {},
   "outputs": [
    {
     "name": "stdout",
     "output_type": "stream",
     "text": [
      "t-statistic: -7.017715400699119\n",
      "p-value: 3.505474782117779e-11\n"
     ]
    }
   ],
   "source": [
    "import numpy as np\n",
    "from scipy.stats import ttest_ind\n",
    "\n",
    "# Generate two random samples\n",
    "sample1 = np.random.normal(10, 2, 100)\n",
    "sample2 = np.random.normal(12, 2, 100)\n",
    "\n",
    "# Perform two-sample t-test\n",
    "t_statistic, p_value = ttest_ind(sample1, sample2)\n",
    "\n",
    "# Print the results\n",
    "print(\"t-statistic:\", t_statistic)\n",
    "print(\"p-value:\", p_value)"
   ]
  },
  {
   "cell_type": "markdown",
   "id": "ad9dd5f1-9bc1-4480-91bf-56cf6ceb5a04",
   "metadata": {},
   "source": [
    "Q6: What is a null and alternative hypothesis? Give some examples."
   ]
  },
  {
   "cell_type": "markdown",
   "id": "46edd20f-2e43-48ef-93b1-407203c793ce",
   "metadata": {},
   "source": [
    "A null hypothesis (H0) is a statement that assumes that there is no difference or relationship between two or more populations or samples.\n",
    "example:- Null Hypothesis (H0): The new drug has no effect on lowering blood pressure.\n",
    "Null Hypothesis (H0): There is no difference in the average income of males and females in the population"
   ]
  },
  {
   "cell_type": "markdown",
   "id": "4792eafc-1868-4ee4-b206-c4e2cc4f8b67",
   "metadata": {},
   "source": [
    "An alternative hypothesis (Ha) is a statement that contradicts the null hypothesis and suggests that there is a difference or relationship between two or more populations or samples.\n",
    "example:- Alternative Hypothesis (Ha): The new drug has a significant effect on lowering blood pressure.\n",
    "Alternative Hypothesis (Ha): The average income of males is greater than the average income of females in the population."
   ]
  },
  {
   "cell_type": "markdown",
   "id": "70d9147c-5d7e-47a9-8583-9f8c88495412",
   "metadata": {},
   "source": [
    "Q7: Write down the steps involved in hypothesis testing."
   ]
  },
  {
   "cell_type": "markdown",
   "id": "e210ff12-4c81-4877-8827-931e88a32379",
   "metadata": {},
   "source": [
    "1.State the null hypothesis and the alternative hypothesis"
   ]
  },
  {
   "cell_type": "markdown",
   "id": "b61cb969-a999-4805-9dfb-35723b0b3126",
   "metadata": {},
   "source": [
    "2.Determine the level of significance"
   ]
  },
  {
   "cell_type": "markdown",
   "id": "203a4ef1-28aa-4419-a60b-3007bc02f4bb",
   "metadata": {},
   "source": [
    "3.Choose the appropriate test statistic"
   ]
  },
  {
   "cell_type": "markdown",
   "id": "9b081341-aeda-4b6f-9383-9e9127903f71",
   "metadata": {},
   "source": [
    "4.Set up the decision rule"
   ]
  },
  {
   "cell_type": "markdown",
   "id": "4b2264a2-afde-4a3f-8aa9-fb04a5db5125",
   "metadata": {},
   "source": [
    "5.Collect and analyze the data"
   ]
  },
  {
   "cell_type": "markdown",
   "id": "c1f4e7a3-6f6a-487b-b577-eb680311afdb",
   "metadata": {},
   "source": [
    "6.Calculate the test statistic and p-value"
   ]
  },
  {
   "cell_type": "markdown",
   "id": "b9a82848-fa0c-49f4-8d10-a372401f4dd1",
   "metadata": {},
   "source": [
    "7.Make a decision"
   ]
  },
  {
   "cell_type": "markdown",
   "id": "942f7e50-f6bb-405a-af27-5b3922e6f515",
   "metadata": {},
   "source": [
    "8.Interpret the results"
   ]
  },
  {
   "cell_type": "markdown",
   "id": "f173886c-3529-4036-b26e-6ebf0efbdc28",
   "metadata": {},
   "source": [
    "9.Report the findings"
   ]
  },
  {
   "cell_type": "markdown",
   "id": "95e93b2b-ce6a-4cad-b93c-3c1392e6f1ca",
   "metadata": {},
   "source": [
    "Q8. Define p-value and explain its significance in hypothesis testing."
   ]
  },
  {
   "cell_type": "markdown",
   "id": "f82e1c9b-b8b7-4634-aece-752bfd5d4efd",
   "metadata": {},
   "source": [
    "In hypothesis testing, the p-value is the probability of obtaining a test statistic at least as extreme as the one calculated from the sample data, assuming that the null hypothesis is true. In simpler terms, it measures the strength of evidence against the null hypothesis."
   ]
  },
  {
   "cell_type": "markdown",
   "id": "9068a44a-d85e-4e6e-a374-368e1196b8d5",
   "metadata": {},
   "source": [
    "The significance of the p-value in hypothesis testing is that it helps to determine whether to reject or fail to reject the null hypothesis."
   ]
  },
  {
   "cell_type": "markdown",
   "id": "6d11b85a-bfc6-48e5-862e-241469231d44",
   "metadata": {},
   "source": [
    "Q9. Generate a Student's t-distribution plot using Python's matplotlib library, with the degrees of freedom parameter set to 10."
   ]
  },
  {
   "cell_type": "code",
   "execution_count": 4,
   "id": "aa240803-0efe-4706-a8cb-987474a4b7f2",
   "metadata": {},
   "outputs": [
    {
     "data": {
      "image/png": "[encoded data removed]",
      "text/plain": [
       "<Figure size 640x480 with 1 Axes>"
      ]
     },
     "metadata": {},
     "output_type": "display_data"
    }
   ],
   "source": [
    "import numpy as np\n",
    "import matplotlib.pyplot as plt\n",
    "\n",
    "# Generate random data from a Student's t-distribution with df = 10\n",
    "df = 10\n",
    "data = np.random.standard_t(df, size=1000)\n",
    "\n",
    "# Create a histogram of the data\n",
    "plt.hist(data, bins=30, density=True, alpha=0.5)\n",
    "\n",
    "# Create x-axis values for the plot\n",
    "x = np.linspace(-5, 5, 100)\n",
    "\n",
    "# Calculate y-axis values using the Student's t-distribution pdf\n",
    "y = stats.t.pdf(x, df)\n",
    "\n",
    "# Plot the Student's t-distribution pdf\n",
    "plt.plot(x, y, 'r-', lw=2)\n",
    "\n",
    "# Set plot title and labels\n",
    "plt.title(\"Student's t-distribution with df = 10\")\n",
    "plt.xlabel('x')\n",
    "plt.ylabel('pdf')\n",
    "\n",
    "# Show the plot\n",
    "plt.show()"
   ]
  },
  {
   "cell_type": "markdown",
   "id": "e104b4c4-7b32-4044-8c03-1d980b371ea8",
   "metadata": {},
   "source": [
    "Q10. Write a Python program to calculate the two-sample t-test for independent samples, given two random samples of equal size and a null hypothesis that the population means are equal."
   ]
  },
  {
   "cell_type": "code",
   "execution_count": 5,
   "id": "59441fc6-4b38-44a9-991a-dfe39cccf571",
   "metadata": {},
   "outputs": [
    {
     "name": "stdout",
     "output_type": "stream",
     "text": [
      "Sample 1 Mean:  10.115466526643736\n",
      "Sample 2 Mean:  11.496407006604858\n",
      "t-statistic:  -3.6759275722940012\n",
      "p-value:  0.00038681947021607094\n"
     ]
    }
   ],
   "source": [
    "import numpy as np\n",
    "from scipy.stats import ttest_ind\n",
    "\n",
    "# Generate two random samples with equal size\n",
    "sample1 = np.random.normal(loc=10, scale=2, size=50)\n",
    "sample2 = np.random.normal(loc=12, scale=2, size=50)\n",
    "\n",
    "# Calculate the t-statistic and p-value using the ttest_ind function\n",
    "t_statistic, p_value = ttest_ind(sample1, sample2)\n",
    "\n",
    "# Print the results\n",
    "print(\"Sample 1 Mean: \", np.mean(sample1))\n",
    "print(\"Sample 2 Mean: \", np.mean(sample2))\n",
    "print(\"t-statistic: \", t_statistic)\n",
    "print(\"p-value: \", p_value)\n"
   ]
  },
  {
   "cell_type": "markdown",
   "id": "dda1463e-27f5-461f-b4b8-ee843dddeddc",
   "metadata": {},
   "source": [
    "Q11: What is Student’s t distribution? When to use the t-Distribution."
   ]
  },
  {
   "cell_type": "markdown",
   "id": "539bfb45-2b2e-4971-8d53-b9d285061d7b",
   "metadata": {},
   "source": [
    "Student's t-distribution is a probability distribution that arises when the sample size is small and the population variance is unknown. "
   ]
  },
  {
   "cell_type": "markdown",
   "id": "6c48e6ba-84bd-426d-9359-4462d5e74c72",
   "metadata": {},
   "source": [
    "The t-distribution is commonly used in hypothesis testing when the population variance is unknown and the sample size is small. "
   ]
  },
  {
   "cell_type": "markdown",
   "id": "bbeff48a-6eb3-4d5d-aba0-e8b11b59f8a3",
   "metadata": {},
   "source": [
    "Q12: What is t-statistic? State the formula for t-statistic."
   ]
  },
  {
   "cell_type": "markdown",
   "id": "a212dd0e-2e64-43da-aae5-c21df478d6af",
   "metadata": {},
   "source": [
    "The t-statistic is a measure of the difference between a sample mean and a population mean, relative to the variability in the data."
   ]
  },
  {
   "cell_type": "markdown",
   "id": "a6190bfb-42d4-4787-885d-d8f16aaf89be",
   "metadata": {},
   "source": [
    "The formula for the t-statistic is:\n",
    "\n",
    "t = (x̄ - μ) / (s / √n)\n",
    "\n",
    "where:\n",
    "\n",
    "x̄ is the sample mean\n",
    "μ is the hypothesized population mean\n",
    "s is the sample standard deviation\n",
    "n is the sample size"
   ]
  },
  {
   "cell_type": "markdown",
   "id": "cf62d373-1b5f-4e09-bfb6-21d586a2fbfe",
   "metadata": {},
   "source": [
    "Q13. A coffee shop owner wants to estimate the average daily revenue for their shop. They take a random sample of 50 days and find the sample mean revenue to be $500 with a standard deviation of $50. Estimate the population mean revenue with a 95% confidence interval."
   ]
  },
  {
   "cell_type": "code",
   "execution_count": 6,
   "id": "b91e2062-ad9e-49b4-bbab-1989189f47ac",
   "metadata": {},
   "outputs": [
    {
     "name": "stdout",
     "output_type": "stream",
     "text": [
      "95% Confidence Interval: ($485.79, $514.21)\n"
     ]
    }
   ],
   "source": [
    "import numpy as np\n",
    "from scipy.stats import t\n",
    "\n",
    "# Sample statistics\n",
    "x_bar = 500\n",
    "s = 50\n",
    "n = 50\n",
    "\n",
    "# Degrees of freedom\n",
    "df = n - 1\n",
    "\n",
    "# t-value for a 95% confidence interval and 49 degrees of freedom\n",
    "t_val = t.ppf(0.975, df)\n",
    "\n",
    "# Calculate the confidence interval\n",
    "lower_bound = x_bar - t_val * (s / np.sqrt(n))\n",
    "upper_bound = x_bar + t_val * (s / np.sqrt(n))\n",
    "\n",
    "# Print the results\n",
    "print(\"95% Confidence Interval: (${0:.2f}, ${1:.2f})\".format(lower_bound, upper_bound))"
   ]
  },
  {
   "cell_type": "markdown",
   "id": "1e0111c7-d6d0-4dd1-b685-66b661ea8c20",
   "metadata": {},
   "source": [
    "Q14. A researcher hypothesizes that a new drug will decrease blood pressure by 10 mmHg. They conduct a clinical trial with 100 patients and find that the sample mean decrease in blood pressure is 8 mmHg with a standard deviation of 3 mmHg. Test the hypothesis with a significance level of 0.05."
   ]
  },
  {
   "cell_type": "code",
   "execution_count": 7,
   "id": "028753ba-2504-4c23-9905-66cc2db00795",
   "metadata": {},
   "outputs": [
    {
     "name": "stdout",
     "output_type": "stream",
     "text": [
      "Sample statistics: x_bar = 8, s = 3, n = 100\n",
      "Hypothesized mean: mu = 10\n",
      "Degrees of freedom: df = 99\n",
      "t-statistic: t = -6.666666666666667\n",
      "p-value: p = 1.5012289009970215e-09\n",
      "Reject null hypothesis. The drug has a significant effect on decreasing blood pressure.\n"
     ]
    }
   ],
   "source": [
    "import numpy as np\n",
    "from scipy.stats import t\n",
    "\n",
    "# Sample statistics\n",
    "x_bar = 8\n",
    "mu = 10\n",
    "s = 3\n",
    "n = 100\n",
    "\n",
    "# Calculate the t-statistic and p-value\n",
    "t_stat = (x_bar - mu) / (s / np.sqrt(n))\n",
    "p_val = 2 * t.sf(np.abs(t_stat), n-1)\n",
    "\n",
    "# Print the results\n",
    "alpha = 0.05\n",
    "print(\"Sample statistics: x_bar = {}, s = {}, n = {}\".format(x_bar, s, n))\n",
    "print(\"Hypothesized mean: mu = {}\".format(mu))\n",
    "print(\"Degrees of freedom: df = {}\".format(n-1))\n",
    "print(\"t-statistic: t = {}\".format(t_stat))\n",
    "print(\"p-value: p = {}\".format(p_val))\n",
    "if p_val < alpha:\n",
    "    print(\"Reject null hypothesis. The drug has a significant effect on decreasing blood pressure.\")\n",
    "else:\n",
    "    print(\"Fail to reject null hypothesis. There is not enough evidence to conclude that the drug has a significant effect on decreasing blood pressure.\")"
   ]
  },
  {
   "cell_type": "markdown",
   "id": "fc85e23f-4bb7-4b5e-acb2-41f37d6cf2e9",
   "metadata": {},
   "source": [
    "Q15. An electronics company produces a certain type of product with a mean weight of 5 pounds and a standard deviation of 0.5 pounds. A random sample of 25 products is taken, and the sample mean weight is found to be 4.8 pounds. Test the hypothesis that the true mean weight of the products is less than 5 pounds with a significance level of 0.01."
   ]
  },
  {
   "cell_type": "markdown",
   "id": "704edcd6-fdc6-4afd-80da-87153580f747",
   "metadata": {},
   "source": [
    "To test the hypothesis that the true mean weight of the products is less than 5 pounds with a significance level of 0.01, we can use a one-sample t-test. The null hypothesis is that the mean weight is equal to 5 pounds, while the alternative hypothesis is that the mean weight is less than 5 pounds.\n",
    "\n",
    "The formula for the t-statistic in a one-sample t-test is:\n",
    "\n",
    "t = (x̄ - μ) / (s / √n)\n",
    "\n",
    "Where:\n",
    "x̄ is the sample mean weight (4.8 pounds)\n",
    "μ is the hypothesized value of the population mean weight (5 pounds)\n",
    "s is the sample standard deviation (0.5 pounds)\n",
    "n is the sample size (25)\n",
    "\n",
    "Plugging in the values, we get:\n",
    "\n",
    "t = (4.8 - 5) / (0.5 / √25)\n",
    "t = -2\n",
    "\n",
    "The t-value for a one-tailed test with 24 degrees of freedom and a significance level of 0.01 is approximately -2.492 (from a t-table or calculator). Since our calculated t-value (-2) is greater than the critical value (-2.492), we fail to reject the null hypothesis and conclude that there is insufficient evidence to suggest that the true mean weight of the products is less than 5 pounds."
   ]
  },
  {
   "cell_type": "markdown",
   "id": "e9d6c7b6-f9a9-4ae9-b74b-43162e2a0089",
   "metadata": {},
   "source": [
    "Q16. Two groups of students are given different study materials to prepare for a test. The first group (n1 = 30) has a mean score of 80 with a standard deviation of 10, and the second group (n2 = 40) has a mean score of 75 with a standard deviation of 8. Test the hypothesis that the population means for the two groups are equal with a significance level of 0.01."
   ]
  },
  {
   "cell_type": "code",
   "execution_count": 9,
   "id": "570143fe-098e-4671-b281-41d7fd5aab11",
   "metadata": {},
   "outputs": [
    {
     "name": "stdout",
     "output_type": "stream",
     "text": [
      "t-statistic: 2.2511258444537408\n",
      "p-value: 0.02845213338800089\n",
      "critical t-value: -2.3824458008642417\n",
      "Reject the null hypothesis that the population means for the two groups are equal.\n"
     ]
    }
   ],
   "source": [
    "from scipy import stats\n",
    "import numpy as np\n",
    "\n",
    "# Define the sample sizes, sample means, and sample standard deviations for the two groups\n",
    "n1 = 30\n",
    "xbar1 = 80\n",
    "s1 = 10\n",
    "n2 = 40\n",
    "xbar2 = 75\n",
    "s2 = 8\n",
    "\n",
    "# Calculate the t-statistic and p-value assuming unequal variances\n",
    "t_statistic, p_value = stats.ttest_ind_from_stats(xbar1, s1, n1, xbar2, s2, n2, equal_var=False)\n",
    "\n",
    "# Calculate the critical t-value at alpha = 0.01 and degrees of freedom = n1 + n2 - 2\n",
    "alpha = 0.01\n",
    "df = n1 + n2 - 2\n",
    "t_critical = stats.t.ppf(alpha, df)\n",
    "\n",
    "# Print the results\n",
    "print(\"t-statistic:\", t_statistic)\n",
    "print(\"p-value:\", p_value)\n",
    "print(\"critical t-value:\", t_critical)\n",
    "\n",
    "# Compare the t-statistic with the critical t-value\n",
    "if abs(t_statistic) > t_critical:\n",
    "    print(\"Reject the null hypothesis that the population means for the two groups are equal.\")\n",
    "else:\n",
    "    print(\"Fail to reject the null hypothesis that the population means for the two groups are equal.\")"
   ]
  },
  {
   "cell_type": "markdown",
   "id": "520a2677-ee32-4ef2-81cc-c2f50e584f4c",
   "metadata": {},
   "source": [
    "Q17. A marketing company wants to estimate the average number of ads watched by viewers during a TV program. They take a random sample of 50 viewers and find that the sample mean is 4 with a standard deviation of 1.5. Estimate the population mean with a 99% confidence interval."
   ]
  },
  {
   "cell_type": "code",
   "execution_count": 10,
   "id": "f3c4c7f4-6d52-4b5f-93d7-ed4c3ce0ac72",
   "metadata": {},
   "outputs": [
    {
     "name": "stdout",
     "output_type": "stream",
     "text": [
      "Sample mean: 4\n",
      "Standard deviation: 1.5\n",
      "Degrees of freedom: 49\n",
      "T-value: 2.67995197363155\n",
      "Standard error: 0.21213203435596426\n",
      "99% Confidence interval: [3.4314963358572577, 4.568503664142742]\n"
     ]
    }
   ],
   "source": [
    "from scipy import stats\n",
    "import numpy as np\n",
    "\n",
    "# Define the sample size, sample mean, and sample standard deviation\n",
    "n = 50\n",
    "xbar = 4\n",
    "s = 1.5\n",
    "\n",
    "# Calculate the t-value at alpha = 0.01/2 and degrees of freedom = n - 1\n",
    "alpha = 0.01\n",
    "df = n - 1\n",
    "t = stats.t.ppf(1 - alpha/2, df)\n",
    "\n",
    "# Calculate the standard error\n",
    "se = s / np.sqrt(n)\n",
    "\n",
    "# Calculate the confidence interval\n",
    "lower_ci = xbar - t * se\n",
    "upper_ci = xbar + t * se\n",
    "\n",
    "# Print the results\n",
    "print(\"Sample mean:\", xbar)\n",
    "print(\"Standard deviation:\", s)\n",
    "print(\"Degrees of freedom:\", df)\n",
    "print(\"T-value:\", t)\n",
    "print(\"Standard error:\", se)\n",
    "print(\"99% Confidence interval: [{}, {}]\".format(lower_ci, upper_ci))"
   ]
  }
 ],
 "metadata": {
  "kernelspec": {
   "display_name": "Python 3 (ipykernel)",
   "language": "python",
   "name": "python3"
  },
  "language_info": {
   "codemirror_mode": {
    "name": "ipython",
    "version": 3
   },
   "file_extension": ".py",
   "mimetype": "text/x-python",
   "name": "python",
   "nbconvert_exporter": "python",
   "pygments_lexer": "ipython3",
   "version": "3.10.8"
  }
 },
 "nbformat": 4,
 "nbformat_minor": 5
}
