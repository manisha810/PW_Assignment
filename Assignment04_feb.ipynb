{
 "cells": [
  {
   "cell_type": "markdown",
   "id": "51e714ca-620f-41fe-9c4e-4bb77c50b3fa",
   "metadata": {},
   "source": [
    "Q1.\n",
    "Create a python program to sort the given list of tuples based on integer value using a\n",
    "lambda function.\n",
    "[('Sachin Tendulkar', 34357), ('Ricky Ponting', 27483), ('Jack Kallis', 25534), ('Virat Kohli', 24936)]\n"
   ]
  },
  {
   "cell_type": "code",
   "execution_count": null,
   "id": "bbdc8d7d-6ab7-46d4-bd32-fe2da497cc51",
   "metadata": {},
   "outputs": [],
   "source": [
    "a =  [('Sachin Tendulkar', 34357), ('Ricky Ponting', 27483), ('Jack Kallis', 25534), ('Virat Kohli', 24936)]\n",
    "a.sort(key= lambda x: x[1])\n",
    "print(a)"
   ]
  },
  {
   "cell_type": "markdown",
   "id": "350703c7-72a5-413d-bedc-9cf1295df73c",
   "metadata": {},
   "source": [
    "Q2.\n",
    "Write a Python Program to find the squares of all the numbers in the given list of integers using\n",
    "lambda and map functions.\n",
    "[1,2,3,4,5, 6,7, 8, 9, 10]"
   ]
  },
  {
   "cell_type": "code",
   "execution_count": null,
   "id": "8c181554-deca-4e58-a032-4227e355b19e",
   "metadata": {},
   "outputs": [],
   "source": [
    "n = [1, 2, 3, 4, 5, 6, 7, 8, 9, 10]\n",
    "sq_n = list(map(lambda x : x ** 2, n))\n",
    "print(sq_n)"
   ]
  },
  {
   "cell_type": "markdown",
   "id": "df6016c2-5158-4e25-ac19-f0fe2fc7bf55",
   "metadata": {},
   "source": [
    "Q3.\n",
    "Write a python program to convert the given list of integers into a tuple of strings. Use map and\n",
    "lambda functions\n",
    "Given String: [1,2,3,4,5,6,7,8,9,10]\n",
    "Expected output: ('1','2','3','4','5','6','7','8','9','10)"
   ]
  },
  {
   "cell_type": "code",
   "execution_count": null,
   "id": "5d465d92-536b-48ce-9ad8-41534c6f769c",
   "metadata": {},
   "outputs": [],
   "source": [
    "m =  [1,2,3,4,5,6,7,8,9,10]\n",
    "tuple(map(lambda x : str(x), m))"
   ]
  },
  {
   "cell_type": "markdown",
   "id": "5cfeeaba-3a11-4652-88e1-d61f6c09228b",
   "metadata": {},
   "source": [
    " Q4.\n",
    "Write a python program using reduce function to compute the product of a list containing numbers\n",
    "from 1 to 25."
   ]
  },
  {
   "cell_type": "code",
   "execution_count": null,
   "id": "2f5f86bd-2e67-49c6-aeae-7e9f9771919b",
   "metadata": {},
   "outputs": [],
   "source": [
    "from functools import reduce \n",
    "l=[]\n",
    "for i in range(1,26):\n",
    "    l.append(i)\n",
    "    i +=1\n",
    "reduce(lambda x ,y : x*y,l)"
   ]
  },
  {
   "cell_type": "markdown",
   "id": "4fd6ff96-dd28-4d76-bbe0-41b67c0119aa",
   "metadata": {},
   "source": [
    "Q5.\n",
    "Write a python program to filter the numbers in a given list that are divisible by 2 and 3 using the\n",
    "filter function.\n",
    "[2,3,6, 9, 27, 60, 90, 120, 55, 46]"
   ]
  },
  {
   "cell_type": "code",
   "execution_count": null,
   "id": "7a01d564-de02-4aa8-b8f8-f2370b7f489c",
   "metadata": {},
   "outputs": [],
   "source": [
    " l = [2,3,6,9,90,120,55,46]\n",
    "list(filter(lambda x : x%2==0  or x%3==0,l))"
   ]
  },
  {
   "cell_type": "markdown",
   "id": "bf6f1ed6-7cca-490f-b49a-632540f39c04",
   "metadata": {},
   "source": [
    "Q6.\n",
    "Write a python program to find palindromes in the given list of strings using lambda and filiter\n",
    "function.\n",
    "['python', 'php', 'aba', 'radar', 'level']"
   ]
  },
  {
   "cell_type": "code",
   "execution_count": null,
   "id": "215551a2-c194-4c30-851c-704676f0e40c",
   "metadata": {},
   "outputs": [],
   "source": [
    "t = ['python', 'php', 'aba', 'radar', 'level']\n",
    "r = list(filter(lambda x : x==x[::-1],l))\n",
    "print(r)"
   ]
  }
 ],
 "metadata": {
  "kernelspec": {
   "display_name": "Python 3 (ipykernel)",
   "language": "python",
   "name": "python3"
  },
  "language_info": {
   "codemirror_mode": {
    "name": "ipython",
    "version": 3
   },
   "file_extension": ".py",
   "mimetype": "text/x-python",
   "name": "python",
   "nbconvert_exporter": "python",
   "pygments_lexer": "ipython3",
   "version": "3.10.8"
  }
 },
 "nbformat": 4,
 "nbformat_minor": 5
}
