{
 "cells": [
  {
   "cell_type": "markdown",
   "id": "d82e571c-b777-41da-815e-72df6ab5d461",
   "metadata": {},
   "source": [
    "Q1.\n",
    "Explain Class and Object with respect to object-oriented Programming. Give a suitable example."
   ]
  },
  {
   "cell_type": "code",
   "execution_count": null,
   "id": "09a625f4-0a73-4e61-bf2c-00c8e348041c",
   "metadata": {},
   "outputs": [],
   "source": [
    "Class and objects in Python Consider a class in OOPS as a user-defined prototype or blueprint of program attributes, instance methods and its set of instructions.\n",
    "It performs a way of binding a collection of objects to itself to lead large programs in a more understandable and manageable way.\n",
    "\n",
    "example :-\n",
    "\n",
    "class Employee:\n",
    "    def __init__(self, name, age):\n",
    "        self.name = name\n",
    "        self.age = age \n",
    "        \n",
    "e = Employee(\"Sam\", 36)\n",
    "print(e.name, e.age)        "
   ]
  },
  {
   "cell_type": "markdown",
   "id": "a8dc4a7a-52a9-41f1-9c2c-c8a3b3a71503",
   "metadata": {},
   "source": [
    "Q2.\n",
    "Name the four pillars of OOPs."
   ]
  },
  {
   "cell_type": "code",
   "execution_count": null,
   "id": "8c34fce0-ce6d-4cd4-a598-898029e19a99",
   "metadata": {},
   "outputs": [],
   "source": [
    "There are four pillars:-\n",
    ".Encapsulation\n",
    ".Inheritance\n",
    ".Polymorphism\n",
    ".Abstraction"
   ]
  },
  {
   "cell_type": "markdown",
   "id": "0c8555ff-afe2-4724-9235-5e6f3d7119e6",
   "metadata": {},
   "source": [
    "Q3.\n",
    "Explain why the _init_() function is used. Give a suitable example."
   ]
  },
  {
   "cell_type": "code",
   "execution_count": null,
   "id": "de5269da-3749-49a9-8166-c3ce3228fc9a",
   "metadata": {},
   "outputs": [],
   "source": [
    "The__init__() function to assign values to object properties, or other operations that are necessary to do when the object is being created.\n",
    "\n",
    "example:-\n",
    "\n",
    "# Find Greater Number\n",
    "\n",
    "class find:\n",
    "    def __init__(self, a, b, c):\n",
    "        self.val1 = a\n",
    "        self.val2 = b\n",
    "        self.val3 = c\n",
    "    def find_greater(self):\n",
    "        if (self.val1>self.val2 and self.val1>self.val3):\n",
    "            print(self.val1 + ' is greater')\n",
    "        elif (self.val2>self.val1 and self.val2>self.val3):\n",
    "            print(self.val2 + 'is greater')\n",
    "        elif (self.val3>self.val1 and self.val3>self.val2):\n",
    "            print(self.val3 + 'is greater')\n",
    "        else : \n",
    "            print(\"Try again\")\n",
    "            \n",
    "val1 = input(\"Enter first number : \")\n",
    "val2 = input(\"Enter second number : \")\n",
    "val3 = input(\"Enter third number : \")\n",
    "\n",
    "obj=find(val1,val2,val3)\n",
    "obj. find_greater()"
   ]
  },
  {
   "cell_type": "markdown",
   "id": "387af6c1-194c-4dbd-b2e6-43cb0087a1d8",
   "metadata": {},
   "source": [
    "Q4.\n",
    "Why self is used in ooPs?"
   ]
  },
  {
   "cell_type": "code",
   "execution_count": null,
   "id": "6cc2f03c-e3b3-4aa0-8fc0-5e42161fd200",
   "metadata": {},
   "outputs": [],
   "source": [
    "The self is used to represent the instance of the class. \n",
    "With this keyword, you can access the attributes and methods of the class in python."
   ]
  },
  {
   "cell_type": "markdown",
   "id": "355c76cc-25b1-43dc-b655-a6cf7cbc1510",
   "metadata": {},
   "source": [
    "Q5.\n",
    "What is inheritance? Give an example for each type of inheritance."
   ]
  },
  {
   "cell_type": "code",
   "execution_count": null,
   "id": "32444f25-2dc7-4c20-bd54-4226236a1aef",
   "metadata": {},
   "outputs": [],
   "source": [
    "Inheritance  is a mechanism that allows you to create a hierarchy of classes that share a set of properties and methods by deriving a class from another class. \n",
    "Inheritance is the capability of one class to derive or inherit the properties from another class. \n",
    "\n",
    "example:-\n",
    "\n",
    "# 1..Single Inheritance:\n",
    "\n",
    "# Base class\n",
    "class Parent:\n",
    "    def func1(self):\n",
    "        print(\"This function is in parent class.\")\n",
    "        \n",
    "# Derived class\n",
    "class Child(Parent):\n",
    "    def func2(self):\n",
    "        print(\"This function is in child class.\")\n",
    "\n",
    "# Driver's code\n",
    "object = Child()\n",
    "object.func1()\n",
    "object.func2()\n",
    "\n",
    "\n",
    "# 2.. Multiple Inheritance:\n",
    "\n",
    "class mother():\n",
    "    def mother(self):\n",
    "        print(\"I am mother\")\n",
    "        \n",
    "class child():\n",
    "    def child(self):\n",
    "        print(\"I am child\")\n",
    "        \n",
    "class grandchild(mother, child):\n",
    "    def granchild(self):\n",
    "        print(\"I am grand child\")\n",
    "        \n",
    "obj=grandchild()\n",
    "obj.mother()\n",
    "obj.child()\n",
    "obj.grandchild()\n",
    "\n",
    "\n",
    "# 3..Muiltilevel inheritance:\n",
    "\n",
    " \n",
    "# Base class\n",
    " \n",
    "class Grandfather:\n",
    " \n",
    "    def __init__(self, grandfathername):\n",
    "        self.grandfathername = grandfathername\n",
    " \n",
    " # Intermediate class\n",
    " \n",
    " \n",
    "class Father(Grandfather):\n",
    "    def __init__(self, fathername, grandfathername):\n",
    "        self.fathername = fathername\n",
    " \n",
    "        # invoking constructor of Grandfather class\n",
    "        Grandfather.__init__(self, grandfathername)\n",
    " \n",
    " # Derived class\n",
    " \n",
    " \n",
    "class Son(Father):\n",
    "    def __init__(self, sonname, fathername, grandfathername):\n",
    "        self.sonname = sonname\n",
    " \n",
    "        # invoking constructor of Father class\n",
    "        Father.__init__(self, fathername, grandfathername)\n",
    " \n",
    "    def print_name(self):\n",
    "        print('Grandfather name :', self.grandfathername)\n",
    "        print(\"Father name :\", self.fathername)\n",
    "        print(\"Son name :\", self.sonname)\n",
    " \n",
    " \n",
    "#  Driver code\n",
    "s1 = Son('Prince', 'Rampal', 'Lal mani')\n",
    "print(s1.grandfathername)\n",
    "s1.print_name()\n",
    "\n",
    "\n",
    "#  4... Hierarchical inheritance:\n",
    "\n",
    "class mother:\n",
    "    def mother(self):\n",
    "        print(\"I am mother\")\n",
    "        \n",
    "class child1(mother):\n",
    "    def child1(self):\n",
    "        print(\"I am first child\")\n",
    "\n",
    "class child2(mother):\n",
    "    def child2(self):\n",
    "        print(\"I am second child\")\n",
    "        \n",
    "obj = child1()\n",
    "obj1= child2()\n",
    "obj.mother()\n",
    "obj.child1()"
   ]
  }
 ],
 "metadata": {
  "kernelspec": {
   "display_name": "Python 3 (ipykernel)",
   "language": "python",
   "name": "python3"
  },
  "language_info": {
   "codemirror_mode": {
    "name": "ipython",
    "version": 3
   },
   "file_extension": ".py",
   "mimetype": "text/x-python",
   "name": "python",
   "nbconvert_exporter": "python",
   "pygments_lexer": "ipython3",
   "version": "3.10.8"
  }
 },
 "nbformat": 4,
 "nbformat_minor": 5
}
