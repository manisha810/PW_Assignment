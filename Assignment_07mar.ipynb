{
 "cells": [
  {
   "cell_type": "markdown",
   "id": "f60e065a-6bb5-40e7-9958-d3a5fb372cb0",
   "metadata": {},
   "source": [
    "Q1. What are the three measures of central tendency?"
   ]
  },
  {
   "cell_type": "markdown",
   "id": "bde4f7c1-293e-4a9b-aae3-4c4c967a4edb",
   "metadata": {},
   "source": [
    "1.Mean: The mean is the average value of a set of numbers. It is calculated by adding up all the values in the set and dividing by the number of values in the set."
   ]
  },
  {
   "cell_type": "markdown",
   "id": "39c7f909-24fd-418f-b9d8-16ccb89c8857",
   "metadata": {},
   "source": [
    "2.Median: The median is the middle value of a set of numbers when they are arranged in order from smallest to largest. If there is an even number of values, the median is the average of the two middle values."
   ]
  },
  {
   "cell_type": "markdown",
   "id": "81e81c71-8c1f-4890-95bc-cb625ef7ea6b",
   "metadata": {},
   "source": [
    "3.Mode: The mode is the value that appears most frequently in a set of numbers. If there is more than one mode, the set is said to be bimodal or multimodal. If no value appears more than once, the set is said to have no mode."
   ]
  },
  {
   "cell_type": "markdown",
   "id": "5e108f35-9268-4f1c-9ebd-124085163be0",
   "metadata": {},
   "source": [
    "Q2. What is the difference between the mean, median, and mode? How are they used to measure the central tendency of a dataset?"
   ]
  },
  {
   "cell_type": "markdown",
   "id": "fc616d5e-25ac-4965-805f-18b940353405",
   "metadata": {},
   "source": [
    "1.Mean: It represents the \"average\" value of the dataset."
   ]
  },
  {
   "cell_type": "markdown",
   "id": "d61ece7e-dd10-486f-aa92-69c94ee78a83",
   "metadata": {},
   "source": [
    "2.Median: It represents the value that divides the dataset into two equal parts. "
   ]
  },
  {
   "cell_type": "markdown",
   "id": "0f03334a-7b36-44a2-bd48-08b9328050b3",
   "metadata": {},
   "source": [
    "3.Mode: It represents the most common value in the dataset."
   ]
  },
  {
   "cell_type": "markdown",
   "id": "c7c2d0af-c812-4882-a41f-17a19aab43f8",
   "metadata": {},
   "source": [
    "These measures of central tendency are used to summarize and describe the distribution of data in a single value."
   ]
  },
  {
   "cell_type": "markdown",
   "id": "0a1dc88c-4a63-4ec8-85a7-903afd8014c5",
   "metadata": {},
   "source": [
    "Q3. Measure the three measures of central tendency for the given height data:\n",
    "[178,177,176,177,178.2,178,175,179,180,175,178.9,176.2,177,172.5,178,176.5]"
   ]
  },
  {
   "cell_type": "code",
   "execution_count": 4,
   "id": "8fa95537-5cc9-47b7-a790-bb4b736f5a83",
   "metadata": {},
   "outputs": [
    {
     "name": "stdout",
     "output_type": "stream",
     "text": [
      "Mean height: 177.01875\n",
      "Median height: 177.0\n"
     ]
    }
   ],
   "source": [
    "import numpy as np\n",
    "\n",
    "height_data = np.array([178, 177, 176, 177, 178.2, 178, 175, 179, 180, 175, 178.9, 176.2, 177, 172.5, 178, 176.5])\n",
    "\n",
    "# Mean\n",
    "mean = np.mean(height_data)\n",
    "print(\"Mean height:\", mean)\n",
    "\n",
    "# Median\n",
    "median = np.median(height_data)\n",
    "print(\"Median height:\", median)\n"
   ]
  },
  {
   "cell_type": "code",
   "execution_count": 5,
   "id": "e9ebf696-532c-481e-bf98-9ada494789a5",
   "metadata": {},
   "outputs": [
    {
     "name": "stderr",
     "output_type": "stream",
     "text": [
      "/tmp/ipykernel_71/802727725.py:2: FutureWarning: Unlike other reduction functions (e.g. `skew`, `kurtosis`), the default behavior of `mode` typically preserves the axis it acts along. In SciPy 1.11.0, this behavior will change: the default value of `keepdims` will become False, the `axis` over which the statistic is taken will be eliminated, and the value None will no longer be accepted. Set `keepdims` to True or False to avoid this warning.\n",
      "  stats.mode(height_data)\n"
     ]
    },
    {
     "data": {
      "text/plain": [
       "ModeResult(mode=array([177.]), count=array([3]))"
      ]
     },
     "execution_count": 5,
     "metadata": {},
     "output_type": "execute_result"
    }
   ],
   "source": [
    "from scipy import stats\n",
    "stats.mode(height_data)"
   ]
  },
  {
   "cell_type": "markdown",
   "id": "3c69947c-0bb0-48ea-aeef-c0afed9d59f6",
   "metadata": {},
   "source": [
    "Q4. Find the standard deviation for the given data:\n",
    "[178,177,176,177,178.2,178,175,179,180,175,178.9,176.2,177,172.5,178,176.5]"
   ]
  },
  {
   "cell_type": "code",
   "execution_count": 6,
   "id": "32a2fb05-bcc0-4f29-85a8-07747a85cb55",
   "metadata": {},
   "outputs": [
    {
     "name": "stdout",
     "output_type": "stream",
     "text": [
      "Standard deviation of height: 1.7885814036548633\n"
     ]
    }
   ],
   "source": [
    "import numpy as np\n",
    "\n",
    "height_data = np.array([178, 177, 176, 177, 178.2, 178, 175, 179, 180, 175, 178.9, 176.2, 177, 172.5, 178, 176.5])\n",
    "\n",
    "# Calculate the standard deviation\n",
    "std_height = np.std(height_data)\n",
    "print(\"Standard deviation of height:\", std_height)"
   ]
  },
  {
   "cell_type": "markdown",
   "id": "67512ffc-2563-491d-a219-92232727720d",
   "metadata": {},
   "source": [
    "Q5. How are measures of dispersion such as range, variance, and standard deviation used to describe the spread of a dataset? Provide an example."
   ]
  },
  {
   "cell_type": "markdown",
   "id": "036c0078-d8ba-4289-8a72-2bfbbc45c764",
   "metadata": {},
   "source": [
    "Range: The range is the difference between the maximum and minimum values in a dataset. It is a simple measure of dispersion that indicates the spread of data values from the lowest to the highest."
   ]
  },
  {
   "cell_type": "markdown",
   "id": "0b3aa6bb-624a-4261-8c86-2c4c5ccd3dfe",
   "metadata": {},
   "source": [
    "Variance: The variance is a measure of how far the data points are from the mean. It is the average of the squared differences between each data point and the mean."
   ]
  },
  {
   "cell_type": "markdown",
   "id": "85601dfb-e263-4785-8b02-ea792b3ee207",
   "metadata": {},
   "source": [
    "Standard deviation: The standard deviation is the square root of the variance. It is a widely used measure of dispersion that gives us an idea of how much the data values deviate from the mean."
   ]
  },
  {
   "cell_type": "code",
   "execution_count": 7,
   "id": "f341f9b3-35fb-419d-98fd-7f8593ecc397",
   "metadata": {},
   "outputs": [
    {
     "name": "stdout",
     "output_type": "stream",
     "text": [
      "Range of height data: 7.5\n",
      "Variance of height data: 3.199023437500001\n",
      "Standard deviation of height data: 1.7885814036548633\n"
     ]
    }
   ],
   "source": [
    "import numpy as np\n",
    "\n",
    "height_data = np.array([178, 177, 176, 177, 178.2, 178, 175, 179, 180, 175, 178.9, 176.2, 177, 172.5, 178, 176.5])\n",
    "\n",
    "# Calculate the range\n",
    "data_range = np.max(height_data) - np.min(height_data)\n",
    "print(\"Range of height data:\", data_range)\n",
    "\n",
    "# Calculate the variance\n",
    "data_variance = np.var(height_data)\n",
    "print(\"Variance of height data:\", data_variance)\n",
    "\n",
    "# Calculate the standard deviation\n",
    "data_std = np.std(height_data)\n",
    "print(\"Standard deviation of height data:\", data_std)"
   ]
  },
  {
   "cell_type": "markdown",
   "id": "8e23d570-9b66-42a0-b01e-2d59275428d1",
   "metadata": {},
   "source": [
    "Q6. What is a Venn diagram?"
   ]
  },
  {
   "cell_type": "markdown",
   "id": "67632570-a257-4c29-a09e-a5a5482f121f",
   "metadata": {},
   "source": [
    "A Venn diagram is a visual representation of the relationships between sets, typically used in mathematics, logic, statistics, and other fields. It consists of overlapping circles or other shapes, where each circle or shape represents a set, and the overlapping areas represent the intersection of the sets."
   ]
  },
  {
   "cell_type": "markdown",
   "id": "c3967b52-590f-403d-a9a4-edbac9525676",
   "metadata": {},
   "source": [
    "Q7. For the two given sets A = (2,3,4,5,6,7) & B = (0,2,6,8,10). Find:\n",
    "(i) A ⋂ B\n",
    "(ii) A ⋃ B"
   ]
  },
  {
   "cell_type": "code",
   "execution_count": 8,
   "id": "71eb96dd-b0fc-47d7-878a-114235b57c46",
   "metadata": {},
   "outputs": [
    {
     "name": "stdout",
     "output_type": "stream",
     "text": [
      "Intersection of A and B: {2, 6}\n",
      "Union of A and B: {0, 2, 3, 4, 5, 6, 7, 8, 10}\n"
     ]
    }
   ],
   "source": [
    "A = {2,3,4,5,6,7}\n",
    "B = {0,2,6,8,10}\n",
    "\n",
    "# Intersection of A and B\n",
    "intersection = A.intersection(B)\n",
    "print(\"Intersection of A and B:\", intersection)\n",
    "\n",
    "# Union of A and B\n",
    "union = A.union(B)\n",
    "print(\"Union of A and B:\", union)"
   ]
  },
  {
   "cell_type": "markdown",
   "id": "4fd22a2c-2384-4f75-808d-282301eea4b4",
   "metadata": {},
   "source": [
    "Q8. What do you understand about skewness in data?"
   ]
  },
  {
   "cell_type": "markdown",
   "id": "8c8d2924-3751-4b9f-b926-af25d0ea35bd",
   "metadata": {},
   "source": [
    "Skewness is a measure of the asymmetry of a distribution of data around its mean. A distribution is said to be symmetric if it is evenly distributed around its mean, meaning that the left and right halves of the distribution are mirror images of each other"
   ]
  },
  {
   "cell_type": "markdown",
   "id": "f643ed57-a999-4630-be03-b7f664d06917",
   "metadata": {},
   "source": [
    "Q9. If a data is right skewed then what will be the position of median with respect to mean?"
   ]
  },
  {
   "cell_type": "markdown",
   "id": "962e1660-e93a-4919-8856-733aaec67e60",
   "metadata": {},
   "source": [
    "If the data is right-skewed, the median will typically be less than the mean. This is because the right-skewed distribution has a long tail on the right side, meaning that there are a few extreme values on the high end of the distribution that pull the mean higher than the median"
   ]
  },
  {
   "cell_type": "markdown",
   "id": "444dca32-258b-440d-8438-4ef204c5bf71",
   "metadata": {},
   "source": [
    "Q10. Explain the difference between covariance and correlation. How are these measures used in statistical analysis?"
   ]
  },
  {
   "cell_type": "markdown",
   "id": "445d1bf9-1af6-47b7-b1c7-3073ca862daf",
   "metadata": {},
   "source": [
    "Covariance measures the linear association between two variables. Specifically, covariance measures how much two variables vary together. It is calculated as the average of the product of the deviations of each variable from its respective mean. Covariance can take on any value between negative infinity and positive infinity, with a value of zero indicating no linear relationship between the two variables."
   ]
  },
  {
   "cell_type": "markdown",
   "id": "beae9610-12fc-42ae-ae67-6fce73456825",
   "metadata": {},
   "source": [
    "Correlation, on the other hand, is a standardized measure of the linear relationship between two variables. It is calculated by dividing the covariance by the product of the standard deviations of the two variables. Correlation can take on a value between -1 and +1, with a value of -1 indicating a perfect negative linear relationship, 0 indicating no linear relationship, and +1 indicating a perfect positive linear relationship."
   ]
  },
  {
   "cell_type": "markdown",
   "id": "a5e619df-679c-49f7-83b0-c2d19a00f211",
   "metadata": {},
   "source": [
    "Q11. What is the formula for calculating the sample mean? Provide an example calculation for a dataset."
   ]
  },
  {
   "cell_type": "markdown",
   "id": "119a0e0b-3787-4742-8c1c-53a23c076038",
   "metadata": {},
   "source": [
    "x̄ = (sum of all data points) / (number of data points)"
   ]
  },
  {
   "cell_type": "code",
   "execution_count": 10,
   "id": "692fd64c-75e7-4d98-9d8d-02548de2d085",
   "metadata": {},
   "outputs": [
    {
     "name": "stdout",
     "output_type": "stream",
     "text": [
      "Sample mean: 15.0\n"
     ]
    }
   ],
   "source": [
    "data = [10, 12, 15, 18, 20]\n",
    "# Calculate the sample mean\n",
    "n = len(data)\n",
    "mean = sum(data) / n\n",
    "\n",
    "# Print the result\n",
    "print(\"Sample mean:\", mean)"
   ]
  },
  {
   "cell_type": "markdown",
   "id": "1dfd1180-589e-4f21-b6af-af2edee0d757",
   "metadata": {},
   "source": [
    "Q12. For a normal distribution data what is the relationship between its measure of central tendency?"
   ]
  },
  {
   "cell_type": "markdown",
   "id": "775d18b0-fefd-4c4a-8199-4c65c358d19f",
   "metadata": {},
   "source": [
    "For a normal distribution, the measures of central tendency, namely the mean, median, and mode, are all equal to each other. This means that the normal distribution is a symmetric distribution, where the values of the data cluster around the middle of the distribution and the tails of the distribution extend equally on both sides."
   ]
  },
  {
   "cell_type": "markdown",
   "id": "943d5e63-de01-4a47-8794-1428759ccb36",
   "metadata": {},
   "source": [
    "Q13. How is covariance different from correlation?"
   ]
  },
  {
   "cell_type": "markdown",
   "id": "ffe4c86a-e28e-424a-a591-686b8b280ddc",
   "metadata": {},
   "source": [
    "covariance and correlation are both measures of the relationship between two variables, but covariance measures the linear association between the two variables while correlation measures the strength and direction of the linear relationship between the two variables, and can also detect nonlinear associations. Correlation is preferred over covariance when comparing relationships between different datasets, as it is not affected by the units of measurement."
   ]
  },
  {
   "cell_type": "markdown",
   "id": "8da3b01f-2edf-41bd-989a-46d9311fec50",
   "metadata": {},
   "source": [
    "Q14. How do outliers affect measures of central tendency and dispersion? Provide an example."
   ]
  },
  {
   "cell_type": "markdown",
   "id": "949bb862-11ea-469b-9355-ab34af78d060",
   "metadata": {},
   "source": [
    "Measures of central tendency such as the mean and median are affected by outliers. In particular, outliers can shift the mean to one side or the other, making it a poor representation of the typical value in the dataset. The median is less affected by outliers, as it is simply the middle value of the dataset, but extreme outliers can still affect the median if they are far from the rest of the data."
   ]
  },
  {
   "cell_type": "markdown",
   "id": "4fbffbef-5835-42c8-a956-7190bc3f50a1",
   "metadata": {},
   "source": [
    "Measures of dispersion such as the range and standard deviation are also affected by outliers. Outliers can increase the range of the data and increase the standard deviation, as they represent extreme values that are far from the rest of the data."
   ]
  },
  {
   "cell_type": "code",
   "execution_count": 12,
   "id": "91700b09-4044-4e74-a2dc-62423c2614e4",
   "metadata": {},
   "outputs": [
    {
     "name": "stdout",
     "output_type": "stream",
     "text": [
      "Mean: 32.77777777777778\n"
     ]
    }
   ],
   "source": [
    "data = [10, 12, 15, 18, 20, 30, 40, 50, 100]\n",
    "mean = sum(data) / len(data)\n",
    "print(\"Mean:\", mean)"
   ]
  }
 ],
 "metadata": {
  "kernelspec": {
   "display_name": "Python 3 (ipykernel)",
   "language": "python",
   "name": "python3"
  },
  "language_info": {
   "codemirror_mode": {
    "name": "ipython",
    "version": 3
   },
   "file_extension": ".py",
   "mimetype": "text/x-python",
   "name": "python",
   "nbconvert_exporter": "python",
   "pygments_lexer": "ipython3",
   "version": "3.10.8"
  }
 },
 "nbformat": 4,
 "nbformat_minor": 5
}
