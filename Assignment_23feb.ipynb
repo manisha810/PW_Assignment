{
 "cells": [
  {
   "cell_type": "markdown",
   "id": "f6072aa9-719f-400f-969a-583d10149a8f",
   "metadata": {},
   "source": [
    "Q1. Create a Pandas Series that contains the following data: 4, 8, 15, 16, 23, and 42. Then, print the series."
   ]
  },
  {
   "cell_type": "code",
   "execution_count": null,
   "id": "6c24bf63-192d-494b-9459-d8f47dbd3f8c",
   "metadata": {},
   "outputs": [],
   "source": [
    "import pandas as pd \n",
    "list = [4, 8, 15, 16, 23,42]\n",
    "ser = pd.Series(list)\n",
    "print(ser)"
   ]
  },
  {
   "cell_type": "markdown",
   "id": "dc9288ee-fdb5-47b4-9430-ee9b0597518e",
   "metadata": {},
   "source": [
    "Q2. Create a variable of list type containing 10 elements in it, and apply pandas.Series function on the\n",
    "variable print it."
   ]
  },
  {
   "cell_type": "code",
   "execution_count": null,
   "id": "ef174f1f-bce3-4d74-95a6-511021ae334a",
   "metadata": {},
   "outputs": [],
   "source": [
    "import pandas as pd\n",
    "list = [1, 2, 3, 4, 5, 6, 7, 8, 9, 10]\n",
    "series = pd.Series(list)\n",
    "print(series)"
   ]
  },
  {
   "cell_type": "markdown",
   "id": "aa182b6e-b038-4e19-b0eb-c06328887ff2",
   "metadata": {},
   "source": [
    "Q3. Create a Pandas DataFrame that contains the following data:\n",
    "Name       Age      Gender\n",
    "Alice      25       Female\n",
    "Bob        30       Male\n",
    "Claire     27       Female\n",
    "Then, print the DataFrame."
   ]
  },
  {
   "cell_type": "code",
   "execution_count": null,
   "id": "13600abe-3314-46d0-a73f-bd0d30938086",
   "metadata": {},
   "outputs": [],
   "source": [
    "import pandas as pd \n",
    "data = {\n",
    "    \"Name\" : [\"Alice\", \"Bob\", \"Charlie\"],\n",
    "    \"Age\" : [25, 30, 27],\n",
    "    \"Gender\" : [\"Female\", \"Male\", \"Female\"]\n",
    "}\n",
    "df = pd.DataFrame(data)\n",
    "print(df)"
   ]
  },
  {
   "cell_type": "markdown",
   "id": "7711861d-a085-4a98-ac69-cd99ebd5452e",
   "metadata": {},
   "source": [
    "Q4.What is ‘DataFrame’ in pandas and how is it different from pandas.series? Explain with an example."
   ]
  },
  {
   "cell_type": "markdown",
   "id": "13911e80-242d-4b55-bcc8-cb952a70fdfc",
   "metadata": {},
   "source": [
    "A DataFrame is a two-dimensional labeled data structure with columns of potentially different data types. It is essentially a table or spreadsheet with rows and columns, where each column can be thought of as a pandas Series. A DataFrame can be created from various data sources such as a CSV file, a SQL query, or from a dictionary of Series objects."
   ]
  },
  {
   "cell_type": "code",
   "execution_count": null,
   "id": "0d03b5ee-c992-4f8f-9883-f8455b7ff809",
   "metadata": {},
   "outputs": [],
   "source": [
    "import pandas as pd\n",
    "data = {'name': pd.Series(['Alice', 'Bob', 'Charlie']),\n",
    "        'age': pd.Series([25, 30, 35]),\n",
    "        'country': pd.Series(['USA', 'Canada', 'Australia'])}\n",
    "df = pd.DataFrame(data)\n",
    "print(df)"
   ]
  },
  {
   "cell_type": "markdown",
   "id": "3e2e95fe-89b9-4e67-b5ab-ab8ada5f0331",
   "metadata": {},
   "source": [
    "A Series is a one-dimensional labeled array that can hold any data type such as integers, floats, strings, or even Python objects. It is similar to a column in a DataFrame. You can think of a DataFrame as a collection of Series objects."
   ]
  },
  {
   "cell_type": "code",
   "execution_count": null,
   "id": "c977636d-1c1a-4ced-8868-c9321dfcaa51",
   "metadata": {},
   "outputs": [],
   "source": [
    "import pandas as pd\n",
    "s = pd.Series([1, 3, 5, 7, 9])\n",
    "print(s)"
   ]
  },
  {
   "cell_type": "markdown",
   "id": "bcdd58b6-de2a-4fa7-afbb-69f5ae61502c",
   "metadata": {},
   "source": [
    "Q5. What are some common functions you can use to manipulate data in a Pandas DataFrame? Can you give an example of when you might use one of these functions?"
   ]
  },
  {
   "cell_type": "markdown",
   "id": "d38f497c-bf29-422d-9978-cee561c9af6d",
   "metadata": {},
   "source": [
    "head() and tail(): These functions are used to view the first or last n rows of a DataFrame, where n is an integer argument passed to the function."
   ]
  },
  {
   "cell_type": "code",
   "execution_count": null,
   "id": "4734b5ee-111c-459c-9889-a50d11149d69",
   "metadata": {},
   "outputs": [],
   "source": [
    "import pandas as pd\n",
    "df = pd.DataFrame({'name': ['Alice', 'Bob', 'Charlie', 'David'],\n",
    "                   'age': [25, 30, 35, 40],\n",
    "                   'country': ['USA', 'Canada', 'Australia', 'USA']})\n",
    "print(df.head(2))\n",
    "print(df.tail(2))"
   ]
  },
  {
   "cell_type": "markdown",
   "id": "02db146d-3a46-4520-9f73-403ac9e0df77",
   "metadata": {},
   "source": [
    "Q6. Which of the following is mutable in nature Series, DataFrame, Panel?"
   ]
  },
  {
   "cell_type": "markdown",
   "id": "c1e1b183-a7ba-4200-8029-9ce78e59232f",
   "metadata": {},
   "source": [
    "Series and DataFrame are mutable in nature."
   ]
  },
  {
   "cell_type": "markdown",
   "id": "24f2239a-6267-4c9f-ae38-5db6b7735dba",
   "metadata": {},
   "source": [
    "Q7. Create a DataFrame using multiple Series. Explain with an example."
   ]
  },
  {
   "cell_type": "markdown",
   "id": "d7bf5d7d-ddee-4e7e-a315-4cacc555cf6e",
   "metadata": {},
   "source": [
    "we can use the pd.DataFrame() function and pass a dictionary of Series as the data argument. Each Series becomes a column in the resulting DataFrame"
   ]
  },
  {
   "cell_type": "code",
   "execution_count": null,
   "id": "e2624584-536f-4ef2-99c8-2a7a3379f954",
   "metadata": {},
   "outputs": [],
   "source": [
    "import pandas as pd\n",
    "names = pd.Series(['Manisha', 'Neha', 'Moni', 'Divya'])\n",
    "ages = pd.Series([19, 18, 20, 21])\n",
    "states = pd.Series(['Bihar', 'Jaipur', 'Delhi', 'Agra'])\n",
    "data = {'Name': names, 'Age': ages, 'states': states}\n",
    "df = pd.DataFrame(data)\n",
    "print(df)"
   ]
  }
 ],
 "metadata": {
  "kernelspec": {
   "display_name": "Python 3 (ipykernel)",
   "language": "python",
   "name": "python3"
  },
  "language_info": {
   "codemirror_mode": {
    "name": "ipython",
    "version": 3
   },
   "file_extension": ".py",
   "mimetype": "text/x-python",
   "name": "python",
   "nbconvert_exporter": "python",
   "pygments_lexer": "ipython3",
   "version": "3.10.8"
  }
 },
 "nbformat": 4,
 "nbformat_minor": 5
}
