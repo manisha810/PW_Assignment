{
 "cells": [
  {
   "cell_type": "markdown",
   "id": "b037f85e-7095-4a51-967e-3aa518f49240",
   "metadata": {},
   "source": [
    "Consider the below code to answer further questions:\n",
    "import numpy as np\n",
    "list_ = [ ‘1’ , ’2’ , ‘3’ , ‘4’ , ‘5’ ]\n",
    "array_list = np.array(object = list_)\n",
    "Q1. Is there any difference in the data type of variables list_ and array_list? If there is then write a code to print the data types of both the variables."
   ]
  },
  {
   "cell_type": "markdown",
   "id": "6a8b0a56-dc4e-4ec0-8591-03c99f8b517a",
   "metadata": {},
   "source": [
    "Yes, there is a difference in the data type of variables list_ and array_list. list_ is a Python list data type, while array_list is a numpy array data type."
   ]
  },
  {
   "cell_type": "code",
   "execution_count": 2,
   "id": "8dfd62f9-a03d-4011-ad1f-3886f9c2c6a7",
   "metadata": {},
   "outputs": [
    {
     "name": "stdout",
     "output_type": "stream",
     "text": [
      "Data type of list_: <class 'list'>\n",
      "Data type of array_list: <class 'numpy.ndarray'>\n"
     ]
    }
   ],
   "source": [
    "import numpy as np\n",
    "\n",
    "list_ = ['1', '2', '3', '4', '5']\n",
    "array_list = np.array(object=list_)\n",
    "\n",
    "print(\"Data type of list_:\", type(list_))\n",
    "print(\"Data type of array_list:\", type(array_list))"
   ]
  },
  {
   "cell_type": "markdown",
   "id": "59afcc4e-8655-4c1f-b380-c06b662641b0",
   "metadata": {},
   "source": [
    "Q2. Write a code to print the data type of each and every element of both the variables list_ and array_list."
   ]
  },
  {
   "cell_type": "code",
   "execution_count": 3,
   "id": "84671faf-df62-4845-a074-3a4a1445cca8",
   "metadata": {},
   "outputs": [
    {
     "name": "stdout",
     "output_type": "stream",
     "text": [
      "Data type of element in list_: <class 'str'>\n",
      "Data type of element in list_: <class 'str'>\n",
      "Data type of element in list_: <class 'str'>\n",
      "Data type of element in list_: <class 'str'>\n",
      "Data type of element in list_: <class 'str'>\n",
      "Data type of element in array_list: <class 'numpy.str_'>\n",
      "Data type of element in array_list: <class 'numpy.str_'>\n",
      "Data type of element in array_list: <class 'numpy.str_'>\n",
      "Data type of element in array_list: <class 'numpy.str_'>\n",
      "Data type of element in array_list: <class 'numpy.str_'>\n"
     ]
    }
   ],
   "source": [
    "import numpy as np\n",
    "\n",
    "list_ = ['1', '2', '3', '4', '5']\n",
    "array_list = np.array(object=list_)\n",
    "\n",
    "# Printing data type of each element in list_\n",
    "for element in list_:\n",
    "    print(\"Data type of element in list_:\", type(element))\n",
    "\n",
    "# Printing data type of each element in array_list\n",
    "for element in array_list:\n",
    "    print(\"Data type of element in array_list:\", type(element))"
   ]
  },
  {
   "cell_type": "markdown",
   "id": "d29d3632-05d9-460b-8e1f-dd21a3bc1481",
   "metadata": {},
   "source": [
    "Q3. Considering the following changes in the variable, array_list:\n",
    "array_list = np.array(object = list_, dtype = int) \n",
    "Will there be any difference in the data type of the elements present in both the variables, list_ and array_list? If so then print the data types of each and every element present in both the variables, list_ and array_list. "
   ]
  },
  {
   "cell_type": "markdown",
   "id": "7a567ec6-d33e-4554-83d7-24cc7c254fe4",
   "metadata": {},
   "source": [
    "Yes, there will be a difference in the data type of the elements present in both list_ and array_list when dtype is set to int. In this case, the strings in list_ will be converted to integer data type in array_list"
   ]
  },
  {
   "cell_type": "code",
   "execution_count": 4,
   "id": "67982707-0e3c-43df-8c16-3c764520c08f",
   "metadata": {},
   "outputs": [
    {
     "name": "stdout",
     "output_type": "stream",
     "text": [
      "Data type of element in list_: <class 'str'>\n",
      "Data type of element in list_: <class 'str'>\n",
      "Data type of element in list_: <class 'str'>\n",
      "Data type of element in list_: <class 'str'>\n",
      "Data type of element in list_: <class 'str'>\n",
      "Data type of element in array_list: <class 'numpy.int64'>\n",
      "Data type of element in array_list: <class 'numpy.int64'>\n",
      "Data type of element in array_list: <class 'numpy.int64'>\n",
      "Data type of element in array_list: <class 'numpy.int64'>\n",
      "Data type of element in array_list: <class 'numpy.int64'>\n"
     ]
    }
   ],
   "source": [
    "import numpy as np\n",
    "\n",
    "list_ = ['1', '2', '3', '4', '5']\n",
    "array_list = np.array(object=list_, dtype=int)\n",
    "\n",
    "# Printing data type of each element in list_\n",
    "for element in list_:\n",
    "    print(\"Data type of element in list_:\", type(element))\n",
    "\n",
    "# Printing data type of each element in array_list\n",
    "for element in array_list:\n",
    "    print(\"Data type of element in array_list:\", type(element))"
   ]
  },
  {
   "cell_type": "markdown",
   "id": "c7aada41-4500-4c8b-94c7-0916733b2153",
   "metadata": {},
   "source": [
    "Consider the below code to answer further questions: \n",
    "import numpy as np \n",
    "num_list = [ [ 1 , 2 , 3 ] , [ 4 , 5 , 6 ] ]\n",
    "num_array = np.array(object = num_list)\n",
    "\n",
    "Q4. Write a code to find the following characteristics of variable, num_array:\n",
    "(i) shape\n",
    "(ii) size"
   ]
  },
  {
   "cell_type": "code",
   "execution_count": 7,
   "id": "a6ae7fe1-6689-40ca-b794-96474dd868e2",
   "metadata": {},
   "outputs": [
    {
     "name": "stdout",
     "output_type": "stream",
     "text": [
      "Shape of num_array: (2, 3)\n",
      "Size of num_array: 6\n"
     ]
    }
   ],
   "source": [
    "import numpy as np \n",
    "\n",
    "num_list = [[1, 2, 3], [4, 5, 6]]\n",
    "num_array = np.array(object=num_list)\n",
    "\n",
    "# Finding the shape and size of the num_array\n",
    "shape = num_array.shape\n",
    "size = num_array.size\n",
    "\n",
    "print(\"Shape of num_array:\", shape)\n",
    "print(\"Size of num_array:\", size)"
   ]
  },
  {
   "cell_type": "markdown",
   "id": "173a4d26-0c93-4de0-a096-08d3b86d80f8",
   "metadata": {},
   "source": [
    "Q5. Write a code to create numpy array of 3*3 matrix containing zeros only, using a numpy array.\n",
    "creation function.\n",
    "[Hint: The size of the array will be 9 and the shape will be (3,3).]"
   ]
  },
  {
   "cell_type": "code",
   "execution_count": 8,
   "id": "87e7a647-bd44-431a-bc6f-978ea4b05734",
   "metadata": {},
   "outputs": [
    {
     "name": "stdout",
     "output_type": "stream",
     "text": [
      "Zeros array:\n",
      " [[0. 0. 0.]\n",
      " [0. 0. 0.]\n",
      " [0. 0. 0.]]\n"
     ]
    }
   ],
   "source": [
    "import numpy as np\n",
    "\n",
    "# Creating a numpy array of 3x3 with zeros only\n",
    "zeros_array = np.zeros(shape=(3, 3))\n",
    "\n",
    "print(\"Zeros array:\\n\", zeros_array)"
   ]
  },
  {
   "cell_type": "markdown",
   "id": "fb28ae93-ec94-4758-9cf7-6eb4f6469464",
   "metadata": {},
   "source": [
    "Q6. Create an identity matrix of shape (5,5) using numpy functions?\n",
    "[Hint: An identity matrix is a matrix containing 1 diagonally and other elements will be 0.]"
   ]
  },
  {
   "cell_type": "code",
   "execution_count": 9,
   "id": "1f427279-1b09-4a51-ab09-55bcba2e706f",
   "metadata": {},
   "outputs": [
    {
     "name": "stdout",
     "output_type": "stream",
     "text": [
      "Identity matrix:\n",
      " [[1. 0. 0. 0. 0.]\n",
      " [0. 1. 0. 0. 0.]\n",
      " [0. 0. 1. 0. 0.]\n",
      " [0. 0. 0. 1. 0.]\n",
      " [0. 0. 0. 0. 1.]]\n"
     ]
    }
   ],
   "source": [
    "import numpy as np\n",
    "\n",
    "# Creating an identity matrix of shape (5,5)\n",
    "identity_matrix = np.identity(n=5)\n",
    "\n",
    "print(\"Identity matrix:\\n\", identity_matrix)"
   ]
  },
  {
   "cell_type": "code",
   "execution_count": null,
   "id": "fdea3fc8-b897-463e-af45-ef3e1d3c98c8",
   "metadata": {},
   "outputs": [],
   "source": []
  }
 ],
 "metadata": {
  "kernelspec": {
   "display_name": "Python 3 (ipykernel)",
   "language": "python",
   "name": "python3"
  },
  "language_info": {
   "codemirror_mode": {
    "name": "ipython",
    "version": 3
   },
   "file_extension": ".py",
   "mimetype": "text/x-python",
   "name": "python",
   "nbconvert_exporter": "python",
   "pygments_lexer": "ipython3",
   "version": "3.10.8"
  }
 },
 "nbformat": 4,
 "nbformat_minor": 5
}
