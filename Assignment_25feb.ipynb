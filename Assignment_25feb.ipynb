{
 "cells": [
  {
   "cell_type": "markdown",
   "id": "eecb92b2-d28e-45f2-9b0e-1efa8627377c",
   "metadata": {},
   "source": [
    "Consider following code to answer further questions:\n",
    "import pandas as pd\n",
    "course_name = [‘Data Science’, ‘Machine Learning’, ‘Big Data’, ‘Data Engineer’]\n",
    "duration = [2,3,6,4]\n",
    "df = pd.DataFrame(data = {‘course_name’ : course_name, ‘duration’ : duration})\n",
    "\n",
    "Q1. Write a code to print the data present in the second row of the dataframe, df."
   ]
  },
  {
   "cell_type": "code",
   "execution_count": 1,
   "id": "be36fa99-31cb-4c35-9403-96f1cfa3dda4",
   "metadata": {},
   "outputs": [
    {
     "name": "stdout",
     "output_type": "stream",
     "text": [
      "course_name    Machine Learning\n",
      "duration                      3\n",
      "Name: 1, dtype: object\n"
     ]
    }
   ],
   "source": [
    "import pandas as pd\n",
    "course_name = ['Data Science', 'Machine Learning', 'Big Data', 'Data Engineer']\n",
    "duration = [2,3,6,4]\n",
    "df = pd.DataFrame(data = {'course_name' : course_name, 'duration' : duration})\n",
    "second_row = df.iloc[1]\n",
    "print(second_row)"
   ]
  },
  {
   "cell_type": "markdown",
   "id": "9b043d66-43c0-4af1-b917-981f1a6c3c71",
   "metadata": {},
   "source": [
    "Q2. What is the difference between the functions loc and iloc in pandas.DataFrame?"
   ]
  },
  {
   "cell_type": "markdown",
   "id": "0d7dc9d8-a0a4-4e15-b25b-d5e8dc6ee41a",
   "metadata": {},
   "source": [
    "# loc():-\n",
    "The loc() function is label based data selecting method which means that we have to pass the name of the row or column which we want to select.\n",
    "# iloc():-\n",
    "The iloc() function is an indexed-based selecting method which means that we have to pass an integer index in the method to select a specific row/column"
   ]
  },
  {
   "cell_type": "markdown",
   "id": "29ed1bf8-7d87-4a86-9f56-9fc1f47174c6",
   "metadata": {},
   "source": [
    "Q3. Reindex the given dataframe using a variable, reindex = [3,0,1,2]and store it in the variable, new_df then find the output for both new_df.loc[2] and new_df.iloc[2].\n",
    "Did you observe any difference in both the outputs? If so then explain it. \n",
    "Consider the below code to answer further questions:\n",
    "import pandas as pd\n",
    "import numpy as np\n",
    "columns = ['column_1', 'column_2', 'column_3', 'column_4', 'column_5', 'column_6']\n",
    "indices = [1,2,3,4,5,6]\n",
    "#Creating a dataframe:\n",
    "df1 = pd.DataFrame(np.random.rand(6,6), columns = columns, index = indices)"
   ]
  },
  {
   "cell_type": "code",
   "execution_count": 26,
   "id": "72e196fa-a8ee-4971-840c-261177b1f4bf",
   "metadata": {},
   "outputs": [
    {
     "name": "stdout",
     "output_type": "stream",
     "text": [
      "   column_1  column_2  column_3  column_4  column_5  column_6\n",
      "3  0.809272  0.873062  0.670964  0.725630  0.419045  0.512004\n",
      "0       NaN       NaN       NaN       NaN       NaN       NaN\n",
      "1  0.709542  0.310507  0.061464  0.554425  0.519253  0.489962\n",
      "2  0.908201  0.047400  0.436741  0.295196  0.287345  0.498097\n",
      "column_1    0.908201\n",
      "column_2    0.047400\n",
      "column_3    0.436741\n",
      "column_4    0.295196\n",
      "column_5    0.287345\n",
      "column_6    0.498097\n",
      "Name: 2, dtype: float64\n",
      "column_1    0.709542\n",
      "column_2    0.310507\n",
      "column_3    0.061464\n",
      "column_4    0.554425\n",
      "column_5    0.519253\n",
      "column_6    0.489962\n",
      "Name: 1, dtype: float64\n"
     ]
    }
   ],
   "source": [
    "import pandas as pd\n",
    "import numpy as np\n",
    "columns = ['column_1', 'column_2', 'column_3', 'column_4', 'column_5', 'column_6']\n",
    "indices = [1,2,3,4,5,6]\n",
    "#Creating a dataframe:\n",
    "df1 = pd.DataFrame(np.random.rand(6,6), columns = columns, index = indices)\n",
    "new_df = df1.reindex([3,0,1,2])\n",
    "\n",
    "print(new_df)\n",
    "print(new_df.loc[2])\n",
    "print(new_df.iloc[2])"
   ]
  },
  {
   "cell_type": "markdown",
   "id": "cfbeabfe-4e24-493c-b815-dd856b17fab9",
   "metadata": {},
   "source": [
    "In case of new_df.loc[2], the row with index label 2 is returned, which is actually the row with index label 3 in the original DataFrame df1 after the reindexing. And, in case of new_df.iloc[2], the row at index position 2 (i.e. the third row) is returned, which is actually the row with index label 1 in the original DataFrame df1 after the reindexing."
   ]
  },
  {
   "cell_type": "markdown",
   "id": "a879c33b-83fa-4862-91ed-dd9423b0e365",
   "metadata": {},
   "source": [
    "Q4. Write a code to find the following statistical measurements for the above dataframe df1:\n",
    "(i) mean of each and every column present in the dataframe.\n",
    "(ii) standard deviation of column, ‘column_2’"
   ]
  },
  {
   "cell_type": "code",
   "execution_count": 28,
   "id": "c36d4480-579e-4feb-9216-6833563a9edd",
   "metadata": {},
   "outputs": [
    {
     "name": "stdout",
     "output_type": "stream",
     "text": [
      "Mean of each column:\n",
      "column_1    0.531788\n",
      "column_2    0.655215\n",
      "column_3    0.480515\n",
      "column_4    0.308941\n",
      "column_5    0.612900\n",
      "column_6    0.380933\n",
      "dtype: float64\n",
      "\n",
      "Standard deviation of column_2: 0.20460432321668692\n"
     ]
    }
   ],
   "source": [
    "import pandas as pd\n",
    "import numpy as np\n",
    "columns = ['column_1', 'column_2', 'column_3', 'column_4', 'column_5', 'column_6']\n",
    "indices = [1,2,3,4,5,6]\n",
    "#Creating a dataframe:\n",
    "df1 = pd.DataFrame(np.random.rand(6,6), columns = columns, index = indices)\n",
    "\n",
    "\n",
    "# Finding mean of each column\n",
    "column_means = df1.mean()\n",
    "print(\"Mean of each column:\")\n",
    "print(column_means)\n",
    "\n",
    "\n",
    "# Finding standard deviation of column_2\n",
    "column_2_std = df1['column_2'].std()\n",
    "print(\"\\nStandard deviation of column_2:\", column_2_std)"
   ]
  },
  {
   "cell_type": "markdown",
   "id": "47eb546d-d327-4f0e-becd-af784e0f67fb",
   "metadata": {},
   "source": [
    "Q5. Replace the data present in the second row of column, ‘column_2’ by a string variable then find the\n",
    "mean of column, column_2.\n",
    "If you are getting errors in executing it then explain why.\n",
    "[Hint: To replace the data use df1.loc[] and equate this to string data of your choice.]"
   ]
  },
  {
   "cell_type": "code",
   "execution_count": 32,
   "id": "59a1f6a2-1f7d-450c-a710-3b68da399aad",
   "metadata": {},
   "outputs": [
    {
     "name": "stdout",
     "output_type": "stream",
     "text": [
      "Error: unsupported operand type(s) for +: 'float' and 'str'\n"
     ]
    }
   ],
   "source": [
    "import pandas as pd\n",
    "import numpy as np\n",
    "\n",
    "# Creating a DataFrame\n",
    "columns = ['column_1', 'column_2', 'column_3', 'column_4', 'column_5', 'column_6']\n",
    "indices = [1, 2, 3, 4, 5, 6]\n",
    "df1 = pd.DataFrame(np.random.rand(6, 6), columns=columns, index=indices)\n",
    "\n",
    "# Replacing the data in the second row of column_2 with a string variable\n",
    "df1.loc[2, 'column_2'] = 'string'\n",
    "\n",
    "\n",
    "# Finding mean of column_2\n",
    "try:\n",
    "    column_2_mean = df1['column_2'].mean()\n",
    "    print(\"Mean of column_2:\", column_2_mean)\n",
    "except TypeError as e:\n",
    "    print(\"Error:\", e)"
   ]
  },
  {
   "cell_type": "markdown",
   "id": "dea8886e-b838-4cff-8081-e83ff32e6a4e",
   "metadata": {},
   "source": [
    "However, this code will result in an error because we have replaced a numeric value in column_2 with a string value, and as a result, the data type of the column_2 will be converted to an object type. So, when we try to find the mean of column_2, we get a TypeError because we cannot perform numerical operations on strings."
   ]
  },
  {
   "cell_type": "markdown",
   "id": "073fd4a1-d789-405e-817a-16f26fb996fd",
   "metadata": {},
   "source": [
    "Q6. What do you understand about the windows function in pandas and list the types of windows functions?"
   ]
  },
  {
   "cell_type": "code",
   "execution_count": null,
   "id": "b4aebfbf-6b28-46fc-99d6-1f368958b907",
   "metadata": {},
   "outputs": [],
   "source": [
    "In pandas, a window function is a function that operates on a set of rows (i.e., a window) of a DataFrame or Series, returning a new value for each row based on its position in the window. \n",
    "There are various types of window functions in pandas, including:\n",
    "1.Rolling window functions\n",
    "2.Expanding window function\n",
    "3.Exponentially weighted window functions\n",
    "4.Cumulative window functions\n",
    "5.User-defined window functions"
   ]
  },
  {
   "cell_type": "markdown",
   "id": "d8d3faba-1a88-47e1-8fb8-bdf1e8b06d5a",
   "metadata": {},
   "source": [
    "Q7. Write a code to print only the current month and year at the time of answering this question.\n",
    "[Hint: Use pandas.datetime function]"
   ]
  },
  {
   "cell_type": "code",
   "execution_count": 1,
   "id": "80b64dab-a813-437d-9b06-1cbc96fe1874",
   "metadata": {},
   "outputs": [
    {
     "name": "stdout",
     "output_type": "stream",
     "text": [
      "Current month and year: March 2023\n"
     ]
    }
   ],
   "source": [
    "import datetime\n",
    "\n",
    "# get current date and time\n",
    "now = datetime.datetime.now()\n",
    "\n",
    "# print the current month and year\n",
    "print(\"Current month and year:\", now.strftime(\"%B %Y\"))"
   ]
  },
  {
   "cell_type": "markdown",
   "id": "07ad5137-9e3c-4e04-946e-4b218869d373",
   "metadata": {},
   "source": [
    "Q8. Write a Python program that takes in two dates as input (in the format YYYY-MM-DD) and calculates the difference between them in days, hours, and minutes using Pandas time delta. The program should prompt the user to enter the dates and display the result."
   ]
  },
  {
   "cell_type": "code",
   "execution_count": 2,
   "id": "3141634a-4686-46c7-a8f4-a53ac814a661",
   "metadata": {},
   "outputs": [
    {
     "name": "stdin",
     "output_type": "stream",
     "text": [
      "Enter the first date (YYYY-MM-DD):  2023-03-04\n",
      "Enter the second date (YYYY-MM-DD):  2025-05-12\n"
     ]
    },
    {
     "name": "stdout",
     "output_type": "stream",
     "text": [
      "The difference between 2023-03-04 and 2025-05-12 is 800 days, 0 hours, and 0 minutes.\n"
     ]
    }
   ],
   "source": [
    "import pandas as pd\n",
    "\n",
    "# Get the two dates as input from the user\n",
    "date1_str = input(\"Enter the first date (YYYY-MM-DD): \")\n",
    "date2_str = input(\"Enter the second date (YYYY-MM-DD): \")\n",
    "\n",
    "# Convert the input strings to pandas datetime objects\n",
    "date1 = pd.to_datetime(date1_str)\n",
    "date2 = pd.to_datetime(date2_str)\n",
    "\n",
    "# Calculate the difference between the two dates using pandas time delta\n",
    "delta = date2 - date1\n",
    "\n",
    "# Extract the number of days, hours, and minutes from the delta object\n",
    "days = delta.days\n",
    "hours = delta.seconds // 3600\n",
    "minutes = (delta.seconds % 3600) // 60\n",
    "\n",
    "# Display the result\n",
    "print(\"The difference between\", date1_str, \"and\", date2_str, \"is\", days, \"days,\", hours, \"hours, and\", minutes, \"minutes.\")"
   ]
  },
  {
   "cell_type": "markdown",
   "id": "70d4eccb-eff0-4b30-bee7-4ece0af86cae",
   "metadata": {},
   "source": [
    "Q9. Write a Python program that reads a CSV file containing categorical data and converts a specified column to a categorical data type. The program should prompt the user to enter the file path, column name, and category order, and then display the sorted data."
   ]
  },
  {
   "cell_type": "code",
   "execution_count": null,
   "id": "fba9bc7c-fb92-4ffe-b49d-871209652b23",
   "metadata": {},
   "outputs": [],
   "source": [
    "import pandas as pd\n",
    "\n",
    "# Prompt user for file path\n",
    "file_path = input(\"Enter file path: \")\n",
    "\n",
    "# Read CSV file\n",
    "df = pd.read_csv(file_path)\n",
    "\n",
    "# Prompt user for column name\n",
    "column_name = input(\"Enter column name: \")\n",
    "\n",
    "# Prompt user for category order\n",
    "categories = input(\"Enter category order separated by comma: \")\n",
    "categories = [cat.strip() for cat in categories.split(\",\")]\n",
    "\n",
    "# Convert column to categorical data type\n",
    "df[column_name] = pd.Categorical(df[column_name], categories=categories, ordered=True)\n",
    "\n",
    "# Sort by the categorical column\n",
    "df_sorted = df.sort_values(by=column_name)\n",
    "\n",
    "# Display sorted data\n",
    "print(df_sorted)"
   ]
  },
  {
   "cell_type": "markdown",
   "id": "b6e074df-f861-4895-b35d-74f1e8938d35",
   "metadata": {},
   "source": [
    "Q10. Write a Python program that reads a CSV file containing sales data for different products and visualizes the data using a stacked bar chart to show the sales of each product category over time. The\n",
    "program should prompt the user to enter the file path and display the chart."
   ]
  },
  {
   "cell_type": "code",
   "execution_count": null,
   "id": "0f786509-542a-4a52-add6-3cce719fd89f",
   "metadata": {},
   "outputs": [],
   "source": [
    "import pandas as pd\n",
    "import matplotlib.pyplot as plt\n",
    "\n",
    "# Prompt user for file path\n",
    "file_path = input(\"Enter file path: \")\n",
    "\n",
    "# Load CSV file into a pandas dataframe\n",
    "df = pd.read_csv(file_path)\n",
    "\n",
    "# Pivot the dataframe to get total sales for each product category by year\n",
    "df_pivot = pd.pivot_table(df, values='Sales', index='Year', columns='Category', aggfunc=sum)\n",
    "\n",
    "# Create stacked bar chart\n",
    "ax = df_pivot.plot(kind='bar', stacked=True)\n",
    "\n",
    "# Set chart title and axis labels\n",
    "ax.set_title('Product Sales by Category')\n",
    "ax.set_xlabel('Year')\n",
    "ax.set_ylabel('Total Sales')\n",
    "\n",
    "# Display chart\n",
    "plt.show()"
   ]
  },
  {
   "cell_type": "markdown",
   "id": "82ca9b57-5b6b-408b-a0ad-d56839ede5ee",
   "metadata": {},
   "source": [
    "Q11. You are given a CSV file containing student data that includes the student ID and their test score. Write\n",
    "a Python program that reads the CSV file, calculates the mean, median, and mode of the test scores, and\n",
    "displays the results in a table.\n",
    "The program should do the followingM\n",
    "I Prompt the user to enter the file path of the CSV file containing the student dataR\n",
    "I Read the CSV file into a Pandas DataFrameR\n",
    "I Calculate the mean, median, and mode of the test scores using Pandas toolsR\n",
    "I Display the mean, median, and mode in a table.\n",
    "Assume the CSV file contains the following columnsM\n",
    "I Student ID: The ID of the studentR\n",
    "I Test Score: The score of the student's test.\n",
    "Example usage of the program:\n",
    "Enter the file path of the CSV file containing the student data: student_data.csv\n",
    "+-----------+--------+\n",
    "| Statistic | Value |\n",
    "+-----------+--------+\n",
    "| Mean | 79.6 |\n",
    "| Median | 82 |\n",
    "| Mode | 85, 90 |\n",
    "+-----------+--------+\n",
    "Assume that the CSV file student_data.csv contains the following data:\n",
    "Student ID,Test Score\n",
    "1,85\n",
    "2,90\n",
    "3,80\n",
    "4,75\n",
    "5,85\n",
    "6,82\n",
    "7,78\n",
    "8,85\n",
    "9,90\n",
    "10,85\n",
    "The program should calculate the mean, median, and mode of the test scores and display the results\n",
    "in a table."
   ]
  },
  {
   "cell_type": "code",
   "execution_count": null,
   "id": "c6338542-722e-4947-99fa-c79f5abfa252",
   "metadata": {},
   "outputs": [],
   "source": [
    "import pandas as pd\n",
    "\n",
    "# Prompt user for file path\n",
    "file_path = input(\"Enter file path: \")\n",
    "\n",
    "# Load CSV file into a pandas dataframe\n",
    "df = pd.read_csv(file_path)\n",
    "\n",
    "# Calculate mean, median, and mode of test scores\n",
    "mean_score = df['Score'].mean()\n",
    "median_score = df['Score'].median()\n",
    "mode_score = df['Score'].mode().values[0]\n",
    "\n",
    "# Create a dataframe to display results\n",
    "results = pd.DataFrame({'Statistic': ['Mean', 'Median', 'Mode'],\n",
    "                        'Score': [mean_score, median_score, mode_score]})\n",
    "\n",
    "# Display results\n",
    "print(results)"
   ]
  }
 ],
 "metadata": {
  "kernelspec": {
   "display_name": "Python 3 (ipykernel)",
   "language": "python",
   "name": "python3"
  },
  "language_info": {
   "codemirror_mode": {
    "name": "ipython",
    "version": 3
   },
   "file_extension": ".py",
   "mimetype": "text/x-python",
   "name": "python",
   "nbconvert_exporter": "python",
   "pygments_lexer": "ipython3",
   "version": "3.10.8"
  }
 },
 "nbformat": 4,
 "nbformat_minor": 5
}
