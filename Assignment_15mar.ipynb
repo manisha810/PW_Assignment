{
 "cells": [
  {
   "cell_type": "markdown",
   "id": "9e7b2403-b9b9-485b-99e1-717a7bdc1052",
   "metadata": {},
   "source": [
    "Q1: Explain the following with an example\n",
    "1.Artificicl Intelligence\n",
    "2.Machine Learning\n",
    "3.Deep Learning"
   ]
  },
  {
   "cell_type": "markdown",
   "id": "8c078480-5eaa-4a9b-80ce-34bc6175077d",
   "metadata": {},
   "source": [
    "1.Artificicl Intelligence :- Artificial Intelligence (AI): Artificial Intelligence refers to the ability of machines to perform tasks that would normally require human intelligence\n",
    "Example:-  A popular example of AI is a virtual assistant like Siri or Alexa, which can understand natural language input, recognize patterns in user behavior, and provide personalized responses based on the user's preferences."
   ]
  },
  {
   "cell_type": "markdown",
   "id": "e43adf1c-a589-4733-a4e9-b64b0c4a7691",
   "metadata": {},
   "source": [
    "2.Machine Learning (ML): Machine Learning is a subfield of AI that focuses on building systems that can learn from data and improve their performance over time without being explicitly programmed.\n",
    "Example:- A common example of ML is a spam filter that learns to recognize and filter out spam emails based on patterns in the email content and sender information. The filter is trained on a dataset of labeled spam and non-spam emails, and it uses this data to learn how to classify new emails as either spam or non-spam."
   ]
  },
  {
   "cell_type": "markdown",
   "id": "55610f65-ece7-4d3f-91b3-93aa6cb130a9",
   "metadata": {},
   "source": [
    "3.Deep Learning (DL): Deep Learning is a subset of ML that involves building neural networks with multiple layers of interconnected nodes that can learn complex representations of data.\n",
    "Example: One popular application of DL is image recognition, where deep neural networks are trained on large datasets of labeled images to recognize objects and patterns in new images. For example, a deep neural network can be trained to recognize cats in photos by learning the key features that distinguish cats from other objects and using these features to make predictions about new images."
   ]
  },
  {
   "cell_type": "markdown",
   "id": "d64a51ca-2c70-42d4-97c8-30a64dc541b4",
   "metadata": {},
   "source": [
    "Q2: What is supervised learning? List some examples of supervised learning."
   ]
  },
  {
   "cell_type": "markdown",
   "id": "e159ed4d-3495-4e71-b377-554c9fc83243",
   "metadata": {},
   "source": [
    "In supervised learning, the algorithm is provided with a set of input-output pairs (also called training data), where each input corresponds to a specific output or label."
   ]
  },
  {
   "cell_type": "markdown",
   "id": "6ad43a18-9f7b-445c-a892-a30ddfdcdb46",
   "metadata": {},
   "source": [
    "Some examples of supervised learning include:"
   ]
  },
  {
   "cell_type": "markdown",
   "id": "ce2df6ad-36ac-4d2c-a580-d940612381bb",
   "metadata": {},
   "source": [
    "1.Image classification: Given a set of labeled images, the algorithm learns to classify new images into different categories, such as cat, dog, or car."
   ]
  },
  {
   "cell_type": "markdown",
   "id": "979aa285-761d-4229-bdfc-ee13ee42283c",
   "metadata": {},
   "source": [
    "2.Spam detection: Given a set of labeled emails, the algorithm learns to distinguish between spam and non-spam emails and classify new emails accordingly."
   ]
  },
  {
   "cell_type": "markdown",
   "id": "bb5a0975-221f-423a-99a9-64ec6ee655e1",
   "metadata": {},
   "source": [
    "3.Speech recognition: Given a set of labeled audio recordings, the algorithm learns to recognize spoken words and transcribe them into text."
   ]
  },
  {
   "cell_type": "markdown",
   "id": "4d37ef9a-6135-4ace-9f22-5d23d1222585",
   "metadata": {},
   "source": [
    "Q3: What is unsupervised learning? List some examples of unsupervised Iearning."
   ]
  },
  {
   "cell_type": "markdown",
   "id": "61ab964c-fa01-4b7c-b014-be94d7be1d65",
   "metadata": {},
   "source": [
    "In unsupervised learning, the algorithm is provided with a set of input data without any corresponding output labels, and it tries to identify hidden structures or relationships in the data."
   ]
  },
  {
   "cell_type": "markdown",
   "id": "5313be4e-fbc0-46c8-aceb-3ae39513fd53",
   "metadata": {},
   "source": [
    "Some examples of unsupervised learning include:"
   ]
  },
  {
   "cell_type": "markdown",
   "id": "4598328c-5e23-4664-9604-174ade07e2f3",
   "metadata": {},
   "source": [
    "Examples of clustering applications include customer segmentation, anomaly detection, and image segmentation."
   ]
  },
  {
   "cell_type": "markdown",
   "id": "66843bbc-6d14-47d1-8661-4f4f6fd8a76f",
   "metadata": {},
   "source": [
    "Examples of dimensionality reduction applications include data visualization, data compression, and feature selection."
   ]
  },
  {
   "cell_type": "markdown",
   "id": "05231ebc-7eef-4e50-b722-7065da59f686",
   "metadata": {},
   "source": [
    "Examples of association rule mining applications include market basket analysis and recommendation systems."
   ]
  },
  {
   "cell_type": "markdown",
   "id": "50c70968-be20-4698-ad09-00934326ee35",
   "metadata": {},
   "source": [
    "Q4: What is the difference between Al, ML, DL, and DS?"
   ]
  },
  {
   "cell_type": "markdown",
   "id": "364e8d10-f166-4d9a-9053-993b92d949a8",
   "metadata": {},
   "source": [
    "1.Artificial Intelligence (AI) refers to the simulation of human intelligence in machines, where machines are programmed to perform tasks that typically require human intelligence"
   ]
  },
  {
   "cell_type": "markdown",
   "id": "2abfff48-fec0-45d5-ba0a-ecba5169044b",
   "metadata": {},
   "source": [
    "2.Machine Learning (ML) is a subset of AI that focuses on enabling machines to learn from data without being explicitly programmed. "
   ]
  },
  {
   "cell_type": "markdown",
   "id": "e789acb2-426d-4ae9-829b-8f5d6e7b3cef",
   "metadata": {},
   "source": [
    "3.Deep Learning (DL) is a subset of ML that uses artificial neural networks (ANNs) to model and solve complex problems. "
   ]
  },
  {
   "cell_type": "markdown",
   "id": "cc060c66-bd16-462b-858a-3a5d5de8780e",
   "metadata": {},
   "source": [
    "4.Data Science (DS) is a field that involves using statistical and computational techniques to extract insights and knowledge from data. "
   ]
  },
  {
   "cell_type": "markdown",
   "id": "193b5118-89a1-4192-9d02-5a7891057be3",
   "metadata": {},
   "source": [
    "Q5: What are the main differences between supervised, unsupervised, and semi-supervised learning?"
   ]
  },
  {
   "cell_type": "markdown",
   "id": "81340659-7792-4ee5-958c-829b7897774d",
   "metadata": {},
   "source": [
    "Supervised learning:\n",
    "1.In supervised learning, the algorithm is trained on labeled data, which means the input data is paired with the corresponding output or target values.\n",
    "2.The algorithm learns to map the input data to the output values using labeled data, and then it can use this mapping to make predictions on new, unseen data."
   ]
  },
  {
   "cell_type": "markdown",
   "id": "d61ea7af-9113-466d-aa40-a490ce5d3880",
   "metadata": {},
   "source": [
    "Unsupervised learning:\n",
    "1.In unsupervised learning, the algorithm is trained on unlabeled data, which means there are no corresponding output or target values.\n",
    "2.The algorithm learns to find hidden patterns or structures in the input data without any guidance from labeled data."
   ]
  },
  {
   "cell_type": "markdown",
   "id": "0645d572-50a3-4f24-96ae-a7fa6c24c67e",
   "metadata": {},
   "source": [
    "Semi-supervised learning:\n",
    "1.Semi-supervised learning is a hybrid of supervised and unsupervised learning, where the algorithm is trained on a combination of labeled and unlabeled data.\n",
    "2.Semi-supervised learning is useful when labeled data is expensive or difficult to obtain, but unlabeled data is abundant."
   ]
  },
  {
   "cell_type": "markdown",
   "id": "73187812-ff3c-43ad-91c4-ccbdf66835ec",
   "metadata": {},
   "source": [
    "Q6: What is train, test and validation split? Explain the importance of each term."
   ]
  },
  {
   "cell_type": "markdown",
   "id": "1e417b04-d63b-4832-8673-72ed75bbf944",
   "metadata": {},
   "source": [
    "Training Set: The training set is used to train the model. The model is exposed to the input data along with the corresponding output or target values."
   ]
  },
  {
   "cell_type": "markdown",
   "id": "79e3fe32-9bc5-4a79-ab35-65dbb9b74c44",
   "metadata": {},
   "source": [
    "Validation Set: The validation set is used to tune the model's hyperparameters and prevent overfitting. The hyperparameters are the parameters that are set before the training process, such as the learning rate, number of hidden layers, and number of neurons per layer. "
   ]
  },
  {
   "cell_type": "markdown",
   "id": "d5cafdb4-65cd-45da-ae41-69b5e1d199ae",
   "metadata": {},
   "source": [
    "Test Set: The test set is used to evaluate the final performance of the model. Once the model is trained and tuned on the training and validation sets, it is tested on the test set to evaluate its accuracy on unseen data. "
   ]
  },
  {
   "cell_type": "markdown",
   "id": "1acdafb2-10ae-4b17-aa3e-e99062e05f95",
   "metadata": {},
   "source": [
    "The importance of each term in the train-test-validation split is as follows:"
   ]
  },
  {
   "cell_type": "markdown",
   "id": "f7273180-76fa-44a6-87fc-2dbbff299ced",
   "metadata": {},
   "source": [
    "Training Set: The training set is essential for the model to learn the underlying patterns in the data. "
   ]
  },
  {
   "cell_type": "markdown",
   "id": "62e9bdcd-bcae-4370-900e-abddac053aa4",
   "metadata": {},
   "source": [
    "Validation Set: The validation set is essential for tuning the hyperparameters of the model."
   ]
  },
  {
   "cell_type": "markdown",
   "id": "650c5e04-51c5-4a16-a73a-ccaf819121c8",
   "metadata": {},
   "source": [
    "Test Set: The test set is essential for evaluating the final performance of the model on unseen data."
   ]
  },
  {
   "cell_type": "markdown",
   "id": "e3cc0411-cb9a-48fe-b4c5-90ae12268b94",
   "metadata": {},
   "source": [
    "Q7: How can unsupervised learning be used in anomaly detection?"
   ]
  },
  {
   "cell_type": "markdown",
   "id": "32beaf19-4b5b-4fa4-b2ec-213e4d25303f",
   "metadata": {},
   "source": [
    "Unsupervised learning can be used in anomaly detection by using clustering or density-based methods to identify data points that are significantly different from the rest of the data. Anomaly detection is the process of identifying data points or instances that deviate from the normal pattern or behavior of the data. This is useful in many applications such as fraud detection, network intrusion detection, and predictive maintenance."
   ]
  },
  {
   "cell_type": "markdown",
   "id": "5b9c7926-5fad-4ce5-a5e0-036504abcdcb",
   "metadata": {},
   "source": [
    "Q8: List down some commonly used supervised learning algorithms and unsupervised learning algorithms."
   ]
  },
  {
   "cell_type": "markdown",
   "id": "f8c50e60-f8ac-47e9-90fb-d240e3118149",
   "metadata": {},
   "source": [
    "Supervised Learning Algorithms:"
   ]
  },
  {
   "cell_type": "markdown",
   "id": "f25b0bd9-bce3-40ec-9c1c-a98f57f6bbf6",
   "metadata": {},
   "source": [
    "1.Linear Regression\n",
    "2.Logistic Regression\n",
    "3.Decision Trees\n",
    "4.Random Forest\n",
    "5.Gradient Boosting"
   ]
  },
  {
   "cell_type": "markdown",
   "id": "34a3c4c7-6e88-4d8a-9182-902bf47ff2a2",
   "metadata": {},
   "source": [
    "Unsupervised Learning Algorithms:"
   ]
  },
  {
   "cell_type": "markdown",
   "id": "1e4a14f6-11e9-4ccc-9f79-c1d890251012",
   "metadata": {},
   "source": [
    "1.K-Means Clustering\n",
    "2.Hierarchical Clustering\n",
    "3.DBSCAN (Density-Based Spatial Clustering of Applications with Noise)\n",
    "4.PCA (Principal Component Analysis)"
   ]
  }
 ],
 "metadata": {
  "kernelspec": {
   "display_name": "Python 3 (ipykernel)",
   "language": "python",
   "name": "python3"
  },
  "language_info": {
   "codemirror_mode": {
    "name": "ipython",
    "version": 3
   },
   "file_extension": ".py",
   "mimetype": "text/x-python",
   "name": "python",
   "nbconvert_exporter": "python",
   "pygments_lexer": "ipython3",
   "version": "3.10.8"
  }
 },
 "nbformat": 4,
 "nbformat_minor": 5
}
