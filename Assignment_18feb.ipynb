{
 "cells": [
  {
   "cell_type": "markdown",
   "id": "dc55940b-3fd9-4af4-8ded-27c11c75c9db",
   "metadata": {},
   "source": [
    "Q1. What is an API? Give an example, where an API is used in real life."
   ]
  },
  {
   "cell_type": "markdown",
   "id": "96531634-5067-4d62-9b96-511b2a389650",
   "metadata": {},
   "source": [
    "Application Programming Interface (API) is a software interface that allows two applications to interact with each other without any user intervention. API is a collection of software functions and procedures."
   ]
  },
  {
   "cell_type": "markdown",
   "id": "3fcb2574-1fc0-4448-b8e7-d49622145f4b",
   "metadata": {},
   "source": [
    " Travel Booking:-\n",
    "\n",
    "Travel booking is a very useful API example because making connections and building relationships is exactly the point of most travel websites.\n",
    "\n",
    "That is, travel websites like Trivago and Expedia have the power to feature and sell all-inclusive travel packages that account for both lodging and travel.\n",
    "\n",
    "But it's not just a coincidence that travel booking platforms can pull flight information from American Airlines and book you nights at the Marriot.\n",
    "\n",
    "No, this is the honest, hard work of application programming interfaces."
   ]
  },
  {
   "cell_type": "markdown",
   "id": "75fedc6a-82e8-478f-a2f3-7ca903492e66",
   "metadata": {},
   "source": [
    "Q2. Give advantages and disadvantages of using API."
   ]
  },
  {
   "cell_type": "markdown",
   "id": "8243147d-727a-47d2-a446-7ea5764fb9b9",
   "metadata": {},
   "source": [
    "Advantages:- \n",
    "1.You have the code written for you. Just plug and play. Your development time is reduced significantly.\n",
    "2.If you are using standard APIs, then a lot of other people are using that as well. So your codebase is somewhat portable which at times is beneficial."
   ]
  },
  {
   "cell_type": "markdown",
   "id": "519f1adb-5b91-4e9e-927f-a25e43a8be1b",
   "metadata": {},
   "source": [
    "Disadvantages:-\n",
    "1.Well since you are using someone else's code, you have to understand the structure and assumptions of the developer.\n",
    "2.In case you need to tweak existing code to add some extra functionality you might need to wade through layers and layers of files just to identify the line where you need to make any changes. It can get pretty annoying at times."
   ]
  },
  {
   "cell_type": "markdown",
   "id": "a27afa19-d00e-4e4c-8457-4b5439f139af",
   "metadata": {},
   "source": [
    "Q3. What is a Web API? Differentiate between API and Web API."
   ]
  },
  {
   "cell_type": "markdown",
   "id": "a5606e4d-acce-42b3-a7bb-5cbfb13ef717",
   "metadata": {},
   "source": [
    "Web API is an API as the name suggests, it can be accessed over the web using the HTTP protocol. It is a framework that helps you to create and develop HTTP based RESTFUL services."
   ]
  },
  {
   "cell_type": "markdown",
   "id": "edeb21e1-14c7-44b0-9d91-984e89442b4e",
   "metadata": {},
   "source": [
    "API:-\n",
    "1.t doesn’t have lightweight design, needs a SOAP convention to send or receive data over the system.\n",
    "2.It provides supports only for the HTTP protocol.\n",
    "Web API:-\n",
    "1.It has a light-weight architecture furthermore, useful for gadgets which have constrained transmission capacity like smart phones.\n",
    "2.It provides support for the HTTP/s protocol: URL Request/Response Headers, and so on."
   ]
  },
  {
   "cell_type": "markdown",
   "id": "448f2066-39d9-4621-bfc3-90df4251ec15",
   "metadata": {},
   "source": [
    "Q4. Explain REST and SOAP Architecture. Mention shortcomings of SOAP."
   ]
  },
  {
   "cell_type": "markdown",
   "id": "f639df5d-b69e-4c32-b4e2-21db5f2c13e5",
   "metadata": {},
   "source": [
    "REST, or REpresentational State Transfer, is an architectural style for providing standards between computer systems on the web, making it easier for systems to communicate with each other.\n",
    "SOAP (Simple Object Access Protocol) is a message protocol that enables the distributed elements of an application to communicate. SOAP can be carried over a variety of standard protocols, including the web-related Hypertext Transfer Protocol (HTTP).\n",
    ".There are no security features in the SOAP specification.\n",
    ".There is no state reference for the remote object in the SOAP client"
   ]
  },
  {
   "cell_type": "markdown",
   "id": "0e2a2ed4-4bb6-4587-9188-c48f06be3e96",
   "metadata": {},
   "source": [
    "Q5. Differentiate between REST and SOAP."
   ]
  },
  {
   "cell_type": "markdown",
   "id": "5cbf2040-8b31-4ae3-ba44-cb69239eb919",
   "metadata": {},
   "source": [
    "REST:- \n",
    ". Relies on REST (Representational State Transfer) architecture using HTTP.\n",
    ". It works with GET, POST, PUT, DELETE.\n",
    ". Works over HTTP and HTTPS.\n",
    ". Designed with mobile devices in mind."
   ]
  },
  {
   "cell_type": "markdown",
   "id": "b15f2aaf-04c9-42b1-972b-d1479f819595",
   "metadata": {},
   "source": [
    "SOAP:-\n",
    ". Relies on SOAP (Simple Object Access Protocol).\n",
    ". Because it is XML based and relies on SOAP, it works with WSDL.\n",
    ". Designed with large enterprise applications in mind.\n",
    ". Works over HTTP, HTTPS, SMTP, XMPP."
   ]
  }
 ],
 "metadata": {
  "kernelspec": {
   "display_name": "Python 3 (ipykernel)",
   "language": "python",
   "name": "python3"
  },
  "language_info": {
   "codemirror_mode": {
    "name": "ipython",
    "version": 3
   },
   "file_extension": ".py",
   "mimetype": "text/x-python",
   "name": "python",
   "nbconvert_exporter": "python",
   "pygments_lexer": "ipython3",
   "version": "3.10.8"
  }
 },
 "nbformat": 4,
 "nbformat_minor": 5
}
