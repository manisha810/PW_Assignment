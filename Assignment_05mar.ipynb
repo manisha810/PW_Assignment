{
 "cells": [
  {
   "cell_type": "markdown",
   "id": "b33fdc79-b76d-4e74-86ab-35e38c1ba3cd",
   "metadata": {},
   "source": [
    "Q1. How can you create a Bokeh plot using Python code?"
   ]
  },
  {
   "cell_type": "code",
   "execution_count": null,
   "id": "f6d39a30-e121-46e4-a056-3b93c3eb5c33",
   "metadata": {},
   "outputs": [],
   "source": [
    "from bokeh.plotting import figure, output_file, show\n",
    "\n",
    "# create data\n",
    "x = [1, 2, 3, 4, 5]\n",
    "y = [6, 7, 2, 4, 5]\n",
    "\n",
    "# output to static HTML file\n",
    "output_file(\"line.html\")\n",
    "\n",
    "# create a new plot with a title and axis labels\n",
    "p = figure(title=\"Line Plot\", x_axis_label='X-axis', y_axis_label='Y-axis')\n",
    "\n",
    "# add a line renderer with legend and line thickness\n",
    "p.line(x, y, legend_label=\"Line\", line_width=2)\n",
    "\n",
    "# show the plot\n",
    "show(p)"
   ]
  },
  {
   "cell_type": "markdown",
   "id": "3fb9ec38-9467-40b5-9d95-383ef80d196c",
   "metadata": {},
   "source": [
    "Q2. What are glyphs in Bokeh, and how can you add them to a Bokeh plot? Explain with an example."
   ]
  },
  {
   "cell_type": "markdown",
   "id": "3dcc2207-e72f-424d-bd64-fdcfb6e155dc",
   "metadata": {},
   "source": [
    "In Bokeh, glyphs are visual shapes or markers that can be added to a plot to represent data points. Glyphs can be used to create various types of plots, including scatter plots, line plots, and bar charts"
   ]
  },
  {
   "cell_type": "code",
   "execution_count": null,
   "id": "32cc33db-aac4-46f6-921a-cf387f25c8bf",
   "metadata": {},
   "outputs": [],
   "source": [
    "from bokeh.plotting import figure, output_file, show\n",
    "from bokeh.models import ColumnDataSource\n",
    "\n",
    "# create data\n",
    "x = [1, 2, 3, 4, 5]\n",
    "y = [6, 7, 2, 4, 5]\n",
    "\n",
    "# output to static HTML file\n",
    "output_file(\"scatter.html\")\n",
    "\n",
    "# create a new plot with a title and axis labels\n",
    "p = figure(title=\"Scatter Plot\", x_axis_label='X-axis', y_axis_label='Y-axis')\n",
    "\n",
    "# create a ColumnDataSource object\n",
    "source = ColumnDataSource(data=dict(x=x, y=y))\n",
    "\n",
    "# add circle glyphs to the plot\n",
    "p.circle('x', 'y', source=source, size=10, color='navy', alpha=0.5)\n",
    "\n",
    "# show the plot\n",
    "show(p)"
   ]
  },
  {
   "cell_type": "markdown",
   "id": "9cca8c11-5054-4d68-9e13-4f095b09d6ef",
   "metadata": {},
   "source": [
    "Q3. How can you customize the appearance of a Bokeh plot, including the axes, title, and legend?"
   ]
  },
  {
   "cell_type": "markdown",
   "id": "4568f662-3c44-4223-95bb-88d72ff32376",
   "metadata": {},
   "source": [
    "To customize the appearance of a Bokeh plot:\n",
    "\n",
    "1.To customize the axes, we can use p.xaxis and p.yaxis to set axis properties like axis_label and axis_label_standoff.\n",
    "2.To customize the title, we can set the plot's title attribute and modify its properties like text_color and text_font_size.\n",
    "3.To customize the legend, we can use p.legend to set legend properties like label_text_font_size and label_text_color, and we can also customize the position of the legend on the plot using p.legend.location."
   ]
  },
  {
   "cell_type": "code",
   "execution_count": null,
   "id": "da089c37-0816-4e4f-be5a-d5fcab08463f",
   "metadata": {},
   "outputs": [],
   "source": [
    "# customizing Axes\n",
    "p.xaxis.axis_label = 'X-axis'\n",
    "p.x_range = [0, 6]\n",
    "p.yaxis.axis_label = 'Y-axis'\n",
    "p.y_range = [0, 12]\n",
    "# customize title \n",
    "p.title.text = 'My Custom Title'\n",
    "p.title.text_color = 'blue'\n",
    "p.title.text_font_size = '20pt'\n",
    "# Customize the legend text size and color\n",
    "p.legend.label_text_font_size = '14pt'\n",
    "p.legend.label_text_color = 'green'\n",
    "p.legend.location = 'top_left'"
   ]
  },
  {
   "cell_type": "markdown",
   "id": "93b71237-eab7-4573-8de8-31f6231cd848",
   "metadata": {},
   "source": [
    "Q4. What is a Bokeh server, and how can you use it to create interactive plots that can be updated in real time?"
   ]
  },
  {
   "cell_type": "markdown",
   "id": "5fa335cb-aa9c-4990-b664-3bbc7dfe32dd",
   "metadata": {},
   "source": [
    "A Bokeh server is a Python application that allows for the creation of interactive web-based data visualizations. \n",
    "The Bokeh server allows for the creation of dynamic, interactive plots that can be updated in real-time based on user input or changes in the underlying data.\n",
    "To use the Bokeh server to create interactive plots, you need to define a Bokeh application, which is a Python function that returns a Bokeh document.\n",
    "The Bokeh document contains the various components of the plot, such as the data, glyphs, and layout. \n",
    "The application can then be run on the Bokeh server, which will serve the plot as a web application.\n",
    "When the Bokeh server is running, the plot can be updated in real-time based on user input or changes in the underlying data.\n",
    "For example, you could add a drop-down menu that allows the user to select which data to display, and the plot will update in real-time to show the new data."
   ]
  },
  {
   "cell_type": "markdown",
   "id": "f6f79509-edfe-4119-bc23-4189df861b99",
   "metadata": {},
   "source": [
    "Q5. How can you embed a Bokeh plot into a web page or dashboard using Flask or Django?"
   ]
  },
  {
   "cell_type": "code",
   "execution_count": null,
   "id": "ba5477a9-d9f3-4e5c-bc2d-2f4dacc1eba5",
   "metadata": {},
   "outputs": [],
   "source": [
    "from flask import Flask, render_template\n",
    "from bokeh.embed import server_document\n",
    "\n",
    "# create a Flask application\n",
    "app = Flask(__name__)\n",
    "\n",
    "# define a route to display the Bokeh plot\n",
    "@app.route('/')\n",
    "def bokeh_plot():\n",
    "    # get the URL of the Bokeh server application\n",
    "    bokeh_server_url = \"http://localhost:5006/myapp\"\n",
    "    # get the script tag and div tag to embed the Bokeh plot\n",
    "    script = server_document(bokeh_server_url)\n",
    "    div = \"<div class='bk-root'>\" + script + \"</div>\"\n",
    "    # render the HTML template with the Bokeh plot embedded\n",
    "    return render_template('bokeh.html', div=div)\n",
    "\n",
    "if __name__ == '__main__':\n",
    "    app.run(debug = True)"
   ]
  }
 ],
 "metadata": {
  "kernelspec": {
   "display_name": "Python 3 (ipykernel)",
   "language": "python",
   "name": "python3"
  },
  "language_info": {
   "codemirror_mode": {
    "name": "ipython",
    "version": 3
   },
   "file_extension": ".py",
   "mimetype": "text/x-python",
   "name": "python",
   "nbconvert_exporter": "python",
   "pygments_lexer": "ipython3",
   "version": "3.10.8"
  }
 },
 "nbformat": 4,
 "nbformat_minor": 5
}
