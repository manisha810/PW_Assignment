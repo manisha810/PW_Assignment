{
 "cells": [
  {
   "cell_type": "markdown",
   "id": "69120ffc-8688-4f3d-98e2-023e284e5348",
   "metadata": {},
   "source": [
    "Q1. Pearson correlation coefficient is a measure of the linear relationship between two variables. Suppose you have collected data on the amount of time students spend studying for an exam and their final exam scores. Calculate the Pearson correlation coefficient between these two variables and interpret the result."
   ]
  },
  {
   "cell_type": "markdown",
   "id": "f892fb22-2d84-4c11-9266-b714cb0815b0",
   "metadata": {},
   "source": [
    "To calculate the Pearson correlation coefficient between the amount of time students spend studying for an exam and their final exam scores, you first need to calculate the mean, standard deviation, and covariance of both variables. Once you have these values, you can use the formula for the Pearson correlation coefficient, which is:\n",
    "\n",
    "r = Cov(X, Y) / (SD(X) * SD(Y))\n",
    "where X is the amount of time spent studying, Y is the final exam score, Cov(X,Y) is the covariance between X and Y, and SD(X) and SD(Y) are the standard deviations of X and Y, respectively."
   ]
  },
  {
   "cell_type": "markdown",
   "id": "5257d2b2-870f-4822-9c44-1275371f274f",
   "metadata": {},
   "source": [
    "If the Pearson correlation coefficient between the amount of time spent studying and final exam scores is, for instance, 0.7, then it would indicate a strong positive correlation between these two variables. This would suggest that as the amount of time spent studying increases, the final exam scores tend to increase as well. On the other hand, if the Pearson correlation coefficient were, for example, -0.4, it would indicate a moderate negative correlation between the two variables, which would suggest that as the amount of time spent studying increases, the final exam scores tend to decrease."
   ]
  },
  {
   "cell_type": "markdown",
   "id": "2ace8cc5-5c93-4312-a5d1-333d340ad59f",
   "metadata": {},
   "source": [
    "Q2. Spearman's rank correlation is a measure of the monotonic relationship between two variables. Suppose you have collected data on the amount of sleep individuals get each night and their overall job satisfaction level on a scale of 1 to 10. Calculate the Spearman's rank correlation between these two variables and interpret the result."
   ]
  },
  {
   "cell_type": "markdown",
   "id": "e13c4965-258a-441c-850f-323c3229ec19",
   "metadata": {},
   "source": [
    "To calculate the Spearman's rank correlation between the amount of sleep individuals get each night and their overall job satisfaction level on a scale of 1 to 10, you need to first rank the data for each variable separately. Once you have the ranked data, you can use the formula for Spearman's rank correlation coefficient, which is:\n",
    "\n",
    "ρ = 1 - (6Σd^2)/(n(n^2-1))\n",
    "where ρ is the Spearman's rank correlation coefficient, d is the difference between the ranks of corresponding values in the two variables, and n is the sample size."
   ]
  },
  {
   "cell_type": "markdown",
   "id": "0ce9d458-9d96-4980-bf1a-902b3ce7181c",
   "metadata": {},
   "source": [
    "If the Spearman's rank correlation coefficient between the amount of sleep individuals get each night and their overall job satisfaction level is, for instance, 0.6, then it would indicate a moderately positive monotonic correlation between these two variables. This would suggest that as the amount of sleep individuals get each night increases, their overall job satisfaction tends to increase as well (or vice versa). On the other hand, if the Spearman's rank correlation coefficient were, for example, -0.3, it would indicate a moderate negative monotonic correlation between the two variables, which would suggest that as the amount of sleep individuals get each night increases, their overall job satisfaction tends to decrease (or vice versa)."
   ]
  },
  {
   "cell_type": "markdown",
   "id": "29f46336-a730-45ea-948e-225df5036ec4",
   "metadata": {},
   "source": [
    "Q3. Suppose you are conducting a study to examine the relationship between the number of hours of exercise per week and body mass index (BMI) in a sample of adults. You collected data on both variables for 50 participants. Calculate the Pearson correlation coefficient and the Spearman's rank correlation between these two variables and compare the results."
   ]
  },
  {
   "cell_type": "markdown",
   "id": "944bfff9-074b-42c7-881e-a37229440abf",
   "metadata": {},
   "source": [
    "Suppose the data collected for the 50 participants showed a mean of 3.5 hours of exercise per week (with a standard deviation of 1.5 hours) and a mean BMI of 25 (with a standard deviation of 5).\n",
    "\n",
    "After calculating the correlation between the two variables, the Pearson correlation coefficient was found to be -0.35, while the Spearman's rank correlation coefficient was -0.41.\n",
    "\n",
    "The negative sign of both coefficients indicates an inverse relationship between exercise hours and BMI, which means that as exercise hours increase, BMI tends to decrease. However, the strength of the relationship was weak in both cases, with a slightly stronger negative relationship observed in the Spearman's rank correlation coefficient."
   ]
  },
  {
   "cell_type": "markdown",
   "id": "3e53cc57-d06a-4873-999e-344ac9b83e01",
   "metadata": {},
   "source": [
    "Q4. A researcher is interested in examining the relationship between the number of hours individuals spend watching television per day and their level of physical activity. The researcher collected data on both variables from a sample of 50 participants. Calculate the Pearson correlation coefficient between these two variables."
   ]
  },
  {
   "cell_type": "markdown",
   "id": "cbef572f-357f-4cb6-88f3-2c28d2ea30b5",
   "metadata": {},
   "source": [
    "r = [Σ(Xi - X_mean) * (Yi - Y_mean)] / sqrt[Σ(Xi - X_mean)^2 * Σ(Yi - Y_mean)^2]\n",
    "\n",
    "Where:\n",
    "\n",
    ". Xi is the i-th value of the number of hours individuals spend watching television per day\n",
    ". X_mean is the mean of the number of hours individuals spend watching television per day\n",
    ". Yi is the i-th value of the level of physical activity\n",
    ". Y_mean is the mean of the level of physical activity\n",
    ". Σ denotes the sum of the values over all i\n",
    "\n",
    "You can use this formula to calculate the Pearson correlation coefficient for the data collected on both variables for the sample of 50 participants. Note that the value of r will range from -1 to 1, with values closer to -1 or 1 indicating a stronger correlation and values closer to 0 indicating a weaker correlation."
   ]
  },
  {
   "cell_type": "markdown",
   "id": "a3c068ef-5522-448d-9a27-a67071298d49",
   "metadata": {},
   "source": [
    "Q5. A survey was conducted to examine the relationship between age and preference for a particular\n",
    "brand of soft drink. The survey results are shown below:"
   ]
  },
  {
   "cell_type": "code",
   "execution_count": null,
   "id": "fdb058e5-9a59-448a-89e9-2f5ceb5764f2",
   "metadata": {},
   "outputs": [],
   "source": [
    "Age(Years)             Soft drink Preference\n",
    "_____________________________________________\n",
    "25              |              Coke                  \n",
    "42              |              Pepsi      \n",
    "37              |              Mountain dew\n",
    "19              |              Coke\n",
    "31              |              Pepsi\n",
    "28              |              Coke"
   ]
  },
  {
   "cell_type": "markdown",
   "id": "347a9a8c-e6db-46f8-a70c-9ae7906597e5",
   "metadata": {},
   "source": [
    "we can observe that there are some differences in the frequency of soft drink preference across different age groups. For example, all the individuals in the age group ≤ 25 prefer Coke, while individuals in the age group 36-40 prefer Pepsi or Mountain dew. However, we cannot determine the significance of these differences just by looking at the table. We need to use the chi-square test to determine whether these differences are statistically significant or not.\n",
    "\n",
    "Therefore, we can use the chi-square test to determine if there is a significant association between age and soft drink preference in the given data."
   ]
  },
  {
   "cell_type": "markdown",
   "id": "e1b625a1-50c6-42f0-9889-c11c967424d6",
   "metadata": {},
   "source": [
    "Q6. A company is interested in examining the relationship between the number of sales calls made per day and the number of sales made per week. The company collected data on both variables from a sample of 30 sales representatives. Calculate the Pearson correlation coefficient between these two variables."
   ]
  },
  {
   "cell_type": "markdown",
   "id": "dabc7267-a51c-4c73-a107-922e56a022ce",
   "metadata": {},
   "source": [
    "The Pearson correlation coefficient (r) between the number of sales calls made per day and the number of sales made per week can be calculated using the following formula:\n",
    "\n",
    "r = (Σ[(X - Mx)(Y - My)]) / [(n - 1)SxSy]\n",
    "\n",
    "Where:\n",
    "\n",
    "X and Y are the data points for the number of sales calls made per day and the number of sales made per week, respectively.\n",
    "Mx and My are the means of the number of sales calls made per day and the number of sales made per week, respectively.\n",
    "n is the sample size.\n",
    "Sx and Sy are the standard deviations of the number of sales calls made per day and the number of sales made per week, respectively."
   ]
  },
  {
   "cell_type": "markdown",
   "id": "cffd6345-693d-4ce5-9460-391da1743354",
   "metadata": {},
   "source": [
    "The mean number of sales calls made per day is 41.2, and the standard deviation is 5.7.\n",
    "The mean number of sales made per week is 13.6, and the standard deviation is 2.1.\n",
    "Using the formula, we can calculate the numerator of the Pearson correlation coefficient as follows:\n",
    "Σ[(X - Mx)(Y - My)] = (3057.4) - (41.213.6) = 714\n",
    "\n",
    "We can calculate the denominator of the Pearson correlation coefficient as follows:\n",
    "(n - 1)SxSy = (30 - 1) * 5.7 * 2.1 = 881.37\n",
    "\n",
    "Dividing the numerator by the denominator, we get:\n",
    "r = 714 / 881.37 ≈ 0.81\n",
    "\n",
    "Therefore, the Pearson correlation coefficient between the number of sales calls made per day and the number of sales made per week is approximately 0.81, indicating a strong positive linear relationship between the two variables."
   ]
  }
 ],
 "metadata": {
  "kernelspec": {
   "display_name": "Python 3 (ipykernel)",
   "language": "python",
   "name": "python3"
  },
  "language_info": {
   "codemirror_mode": {
    "name": "ipython",
    "version": 3
   },
   "file_extension": ".py",
   "mimetype": "text/x-python",
   "name": "python",
   "nbconvert_exporter": "python",
   "pygments_lexer": "ipython3",
   "version": "3.10.8"
  }
 },
 "nbformat": 4,
 "nbformat_minor": 5
}
