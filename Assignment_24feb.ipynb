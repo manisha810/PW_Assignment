{
 "cells": [
  {
   "cell_type": "markdown",
   "id": "d700b162-b8d5-460b-9a44-30d5efd67fbd",
   "metadata": {},
   "source": [
    "Q1. List any five functions of the pandas library with execution."
   ]
  },
  {
   "cell_type": "code",
   "execution_count": 25,
   "id": "66ba334e-cf68-4c35-8fad-b2db2a1815e3",
   "metadata": {},
   "outputs": [
    {
     "name": "stdout",
     "output_type": "stream",
     "text": [
      "    name  age gender\n",
      "0  Mohan   17      M\n",
      "1  Senha   19      F\n",
      "2   Ansu   18      M\n"
     ]
    }
   ],
   "source": [
    "# head()\n",
    "import pandas as pd\n",
    "data = {\n",
    "    \"name\": [\"Mohan\", \"Senha\", \"Ansu\", \"Depika\", \"Rahul\"],\n",
    "    \"age\": [17, 19, 18, 20, 21],\n",
    "    \"gender\": [\"M\", \"F\", \"M\", \"F\", \"M\"]\n",
    "}\n",
    "df = pd.DataFrame(data)\n",
    "print(df.head(3))"
   ]
  },
  {
   "cell_type": "code",
   "execution_count": 24,
   "id": "6bca7b7e-4243-4483-bed4-19493486e5ec",
   "metadata": {},
   "outputs": [
    {
     "name": "stdout",
     "output_type": "stream",
     "text": [
      "     name  age gender\n",
      "3  Depika   20      F\n",
      "4   Rahul   21      M\n"
     ]
    }
   ],
   "source": [
    "# tail()\n",
    "import pandas as pd\n",
    "data = {\n",
    "    \"name\": [\"Mohan\", \"Senha\", \"Ansu\", \"Depika\", \"Rahul\"],\n",
    "    \"age\": [17, 19, 18, 20, 21],\n",
    "    \"gender\": [\"M\", \"F\", \"M\", \"F\", \"M\"]\n",
    "}\n",
    "df = pd.DataFrame(data)\n",
    "print(df.tail(2))"
   ]
  },
  {
   "cell_type": "code",
   "execution_count": 21,
   "id": "1c1e2672-5377-4695-93f4-6bb5dae33149",
   "metadata": {},
   "outputs": [
    {
     "name": "stdout",
     "output_type": "stream",
     "text": [
      "             age      height     weight\n",
      "count   5.000000    5.000000   5.000000\n",
      "mean   19.000000  112.600000  40.800000\n",
      "std     1.581139   12.054045   2.774887\n",
      "min    17.000000  101.000000  38.000000\n",
      "25%    18.000000  105.000000  39.000000\n",
      "50%    19.000000  107.000000  40.000000\n",
      "75%    20.000000  120.000000  42.000000\n",
      "max    21.000000  130.000000  45.000000\n"
     ]
    }
   ],
   "source": [
    "# describe()\n",
    "import pandas as pd\n",
    "data = {\n",
    "    \"name\": [\"Mohan\", \"Senha\", \"Ansu\", \"Depika\", \"Rahul\"],\n",
    "    \"age\": [17, 19, 18, 20, 21],\n",
    "    \"gender\": [\"M\", \"F\", \"M\", \"F\", \"M\"],\n",
    "    \"height\": [101, 120, 105, 107, 130],\n",
    "    \"weight\": [38, 45, 39, 40, 42]\n",
    "}\n",
    "df = pd.DataFrame(data)\n",
    "print(df[[\"age\", \"height\", \"weight\"]].describe())"
   ]
  },
  {
   "cell_type": "code",
   "execution_count": 22,
   "id": "05d7c9b2-c22b-4242-b4cf-7248f5c35854",
   "metadata": {},
   "outputs": [
    {
     "name": "stdout",
     "output_type": "stream",
     "text": [
      "                 amount\n",
      "location item          \n",
      "Boston   banana    2.48\n",
      "New York apple     4.98\n",
      "         banana    0.99\n"
     ]
    }
   ],
   "source": [
    "# groupby()\n",
    "import pandas as pd\n",
    "\n",
    "data = {\n",
    "    'date': ['2022-01-01', '2022-01-01', '2022-01-02', '2022-01-02', '2022-01-02'],\n",
    "    'location': ['New York', 'Boston', 'New York', 'Boston', 'New York'],\n",
    "    'item': ['apple', 'banana', 'apple', 'banana', 'banana'],\n",
    "    'amount': [1.99, 0.99, 2.99, 1.49, 0.99]\n",
    "}\n",
    "\n",
    "df = pd.DataFrame(data)\n",
    "grouped = df.groupby(['location', 'item'])\n",
    "result = grouped.agg({'amount': 'sum'})\n",
    "print(result)"
   ]
  },
  {
   "cell_type": "code",
   "execution_count": 36,
   "id": "ff3c895b-0a1a-4d95-8050-0762da4edcaf",
   "metadata": {},
   "outputs": [
    {
     "name": "stdout",
     "output_type": "stream",
     "text": [
      "   customer_id     name              email  order_id product  quantity\n",
      "0            1  Manisha  manisha@gmail.com       101   Apple         1\n",
      "1            1  Manisha  manisha@gmail.com       102  Banana         2\n",
      "2            2    Sunil    sunil@gmail.com       103   Apple         3\n",
      "3            3    Sumit    sumit@gmail.com       104  Orange         2\n",
      "4            3    Sumit    sumit@gmail.com       105  Banana         1\n",
      "5            4    Disha    disha@gmail.com       106   Apple         3\n"
     ]
    }
   ],
   "source": [
    "# merge()\n",
    "import pandas as pd\n",
    "\n",
    "customers = pd.DataFrame({\n",
    "    'customer_id': [1, 2, 3, 4],\n",
    "    'name': ['Manisha', 'Sunil', 'Sumit', 'Disha'],\n",
    "    'email': ['manisha@gmail.com', 'sunil@gmail.com', 'sumit@gmail.com', 'disha@gmail.com']\n",
    "})\n",
    "\n",
    "orders = pd.DataFrame({\n",
    "    'order_id': [101, 102, 103, 104, 105, 106],\n",
    "    'customer_id': [1, 1, 2, 3, 3, 4],\n",
    "    'product': ['Apple', 'Banana', 'Apple', 'Orange', 'Banana', 'Apple'],\n",
    "    'quantity': [1, 2, 3, 2, 1, 3],\n",
    "})\n",
    "merged = pd.merge(customers, orders, on='customer_id')\n",
    "print(merged)\n"
   ]
  },
  {
   "cell_type": "markdown",
   "id": "a9a8706c-ca4d-4965-890e-43529cc6d9a8",
   "metadata": {},
   "source": [
    "Q2. Given a Pandas DataFrame df with columns 'A', 'B', and 'C', write a Python function to re-index the DataFrame with a new index that starts from 1 and increments by 2 for each row."
   ]
  },
  {
   "cell_type": "code",
   "execution_count": 29,
   "id": "a2c67a2a-b338-4cfb-82b2-98085436b61d",
   "metadata": {},
   "outputs": [
    {
     "name": "stdout",
     "output_type": "stream",
     "text": [
      "   A  B  C\n",
      "1  1  4  7\n",
      "3  2  5  8\n",
      "5  3  6  9\n"
     ]
    }
   ],
   "source": [
    "import pandas as pd\n",
    "df = pd.DataFrame({\n",
    "    'A': [1, 2, 3],\n",
    "    'B': [4, 5, 6],\n",
    "    'C': [7, 8, 9]\n",
    "})\n",
    "def reindex_df(df):\n",
    "    new_index = range(1, 2*len(df)+1, 2)  \n",
    "    df.index = new_index  \n",
    "    return df\n",
    "\n",
    "reindexed_df = reindex_df(df)\n",
    "print(reindexed_df)"
   ]
  },
  {
   "cell_type": "markdown",
   "id": "986d3446-3bd7-47f6-bbd5-431ae7feb7b9",
   "metadata": {},
   "source": [
    "Q3. You have a Pandas DataFrame df with a column named 'Values'. Write a Python function that iterates over the DataFrame and calculates the sum of the first three values in the'Values' column. The function should print the sum to the console.\n",
    "For example, if the 'Values' column of df contains the values [10, 20, 30, 40, 50], your function should calculate and print the sum of the first three values, which is 60."
   ]
  },
  {
   "cell_type": "code",
   "execution_count": 2,
   "id": "1707fa22-b8bc-4cbf-8131-d58bf01e3b78",
   "metadata": {},
   "outputs": [
    {
     "name": "stdout",
     "output_type": "stream",
     "text": [
      "the sum of the first three values, which is: 60\n"
     ]
    }
   ],
   "source": [
    "import pandas as pd\n",
    "\n",
    "def sum_first_three_values(df):\n",
    "    values_sum = 0\n",
    "    for i, row in df.iterrows():\n",
    "        values_sum += row['Values']\n",
    "        if i == 2:\n",
    "            break\n",
    "    print(f\"the sum of the first three values, which is: {values_sum}\")\n",
    "df = pd.DataFrame({\n",
    "    'Values': [10, 20, 30, 40, 50]\n",
    "})\n",
    "\n",
    "sum_first_three_values(df)"
   ]
  },
  {
   "cell_type": "markdown",
   "id": "9f4e6dc0-f354-4da8-beba-cc0274bd71d3",
   "metadata": {},
   "source": [
    "Q4. Given a Pandas DataFrame df with a column 'Text', write a Python function to create a new column 'Word_Count' that contains the number of words in each row of the 'Text' column."
   ]
  },
  {
   "cell_type": "code",
   "execution_count": 1,
   "id": "760b6cca-1508-4c7c-87be-67877c6ce25a",
   "metadata": {},
   "outputs": [
    {
     "name": "stdout",
     "output_type": "stream",
     "text": [
      "                          Text  word_count\n",
      "0           My name is manisha           4\n",
      "1   I am learning data science           5\n",
      "2              I am from Bihar           4\n"
     ]
    }
   ],
   "source": [
    "import pandas as pd\n",
    "df = pd.DataFrame({'Text' : ['My name is manisha' , \n",
    "                  ' I am learning data science',\n",
    "                  'I am from Bihar']})\n",
    "df['word_count'] = df['Text'].apply(lambda x : len(x.split()))\n",
    "print(df)"
   ]
  },
  {
   "cell_type": "markdown",
   "id": "841c54d1-a19e-4e5e-8855-2b58f15c48ae",
   "metadata": {},
   "source": [
    "Q5.How are DataFrame.size() and DataFrame.shape() different?"
   ]
  },
  {
   "cell_type": "markdown",
   "id": "90fd3001-64bd-48e6-acf7-311c8cf1c630",
   "metadata": {},
   "source": [
    "Dataframe.size() returns the number of elements in the dataframe, which is equal to the number of rows times the number of columns.\n",
    "Dataframe.shape() returns a tuple of (rows, columns) that represents the dimensions of the dataframe."
   ]
  },
  {
   "cell_type": "markdown",
   "id": "e2738d30-22e2-45a3-aea2-36759b4cd21d",
   "metadata": {},
   "source": [
    "Q6. Which function of pandas do we use to read an excel file?"
   ]
  },
  {
   "cell_type": "code",
   "execution_count": null,
   "id": "4a96372b-cba7-4737-a81b-1ab7b8c44d0b",
   "metadata": {},
   "outputs": [],
   "source": [
    "pd.read_excel() method to read an excel file in Pandas."
   ]
  },
  {
   "cell_type": "markdown",
   "id": "96941d7b-f6df-4b3e-aa1e-c2a1e9a2aaf2",
   "metadata": {},
   "source": [
    "Q7. You have a Pandas DataFrame df that contains a column named 'Email' that contains email addresses in the format 'username@domain.com'. Write a Python function that creates a new column 'Username' in df that contains only the username part of each email address. The username is the part of the email address that appears before the '@' symbol. For example, if the email address is 'john.doe@example.com', the 'Username' column should contain 'john.doe'. Your function should extract the username from each email address and store it in the new 'Username' column."
   ]
  },
  {
   "cell_type": "code",
   "execution_count": 19,
   "id": "840fcd75-f384-4503-b3d5-76ba031bf436",
   "metadata": {},
   "outputs": [
    {
     "name": "stdout",
     "output_type": "stream",
     "text": [
      "               email Username\n",
      "0  manisha@gmail.com  manisha\n",
      "1      shivani@gmail  shivani\n",
      "2    priya@gmail.com    priya\n"
     ]
    }
   ],
   "source": [
    "import pandas as pd\n",
    "df=pd.DataFrame({\n",
    "                 'email': ['manisha@gmail.com', 'shivani@gmail', 'priya@gmail.com']\n",
    "                })\n",
    "def extract_username(df):\n",
    "                df['Username'] = df['email'].apply(lambda x: x.split('@')[0])\n",
    "                return df\n",
    "df =  extract_username(df)\n",
    "print(df)        "
   ]
  },
  {
   "cell_type": "markdown",
   "id": "35660e9e-e3f1-4e65-a748-8c273ff196bf",
   "metadata": {},
   "source": [
    "Q8. You have a Pandas DataFrame df with columns 'A', 'B', and 'C'. Write a Python function that selects all rows where the value in column 'A' is greater than 5 and the value in column 'B' is less than 10. The function should return a new DataFrame that contains only the selected rows.\n",
    "For example, if df contains the following values:\n",
    "  A B C\n",
    "0 3 5 1\n",
    "1 8 2 7\n",
    "2 6 9 4\n",
    "3 2 3 5\n",
    "4 9 1 2\n",
    "Your function should select the following rows: A B C\n",
    "1 8 2 7\n",
    "4 9 1 2\n",
    "The function should return a new DataFrame that contains only the selected rows."
   ]
  },
  {
   "cell_type": "code",
   "execution_count": 31,
   "id": "b79f6d66-2e05-4d03-af7d-896eb28d0c2a",
   "metadata": {},
   "outputs": [
    {
     "name": "stdout",
     "output_type": "stream",
     "text": [
      "   A  B  C\n",
      "1  8  2  7\n",
      "4  9  1  2\n"
     ]
    }
   ],
   "source": [
    "import pandas as pd\n",
    "\n",
    "def select_rows(df):\n",
    "    selected_rows = df[(df['A'] > 6) & (df['B'] < 10)]\n",
    "    \n",
    "    return selected_rows\n",
    "df = pd.DataFrame({\n",
    "    'A': [3, 8, 6, 2, 9],\n",
    "    'B': [5, 2, 9, 3, 1],\n",
    "    'C': [1, 7, 4, 5, 2]\n",
    "})\n",
    "\n",
    "selected_rows = select_rows(df)\n",
    "print(selected_rows)"
   ]
  },
  {
   "cell_type": "markdown",
   "id": "e883312f-cbdf-4b90-a0a0-5bf71b7b0363",
   "metadata": {},
   "source": [
    "Q9. Given a Pandas DataFrame df with a column 'Values', write a Python function to calculate the mean, median, and standard deviation of the values in the 'Values' column."
   ]
  },
  {
   "cell_type": "code",
   "execution_count": 43,
   "id": "16982ad4-ceb2-449e-8f61-3d29a4aafef4",
   "metadata": {},
   "outputs": [
    {
     "name": "stdout",
     "output_type": "stream",
     "text": [
      "The median is: 15.0\n",
      "The mean is: 15.0\n",
      "The standard deviation is: 7.905694150420948\n"
     ]
    }
   ],
   "source": [
    "import pandas as pd\n",
    "\n",
    "df = pd.DataFrame({'numbers': [5, 10, 15, 20, 25]})\n",
    "\n",
    "median = df['numbers'].median()\n",
    "mean = df['numbers'].mean()\n",
    "std = df['numbers'].std()\n",
    "print(\"The median is:\", median)\n",
    "print(\"The mean is:\", mean)\n",
    "print(\"The standard deviation is:\", std)"
   ]
  },
  {
   "cell_type": "markdown",
   "id": "32e268c3-081d-46a8-963b-1106227d3fb3",
   "metadata": {},
   "source": [
    "Q10. Given a Pandas DataFrame df with a column 'Sales' and a column 'Date', write a Python function to create a new column 'MovingAverage' that contains the moving average of the sales for the past 7 days for each row in the DataFrame. The moving average should be calculated using a window of size 7 and should include the current day."
   ]
  },
  {
   "cell_type": "code",
   "execution_count": null,
   "id": "8819fb32-7e40-44f0-ac35-6dcb1d3b33de",
   "metadata": {},
   "outputs": [],
   "source": []
  },
  {
   "cell_type": "markdown",
   "id": "1d7b594f-2b29-43a1-83fb-f1a487e4cb38",
   "metadata": {},
   "source": [
    "Q11. You have a Pandas DataFrame df with a column 'Date'. Write a Python function that creates a new\n",
    "column 'Weekday' in the DataFrame. The 'Weekday' column should contain the weekday name (e.g.\n",
    "Monday, Tuesday) corresponding to each date in the 'Date' column.\n",
    "For example, if df contains the following values:\n",
    "Date\n",
    "0 2023-01-01\n",
    "1 2023-01-02\n",
    "2 2023-01-03\n",
    "3 2023-01-04\n",
    "4 2023-01-05\n",
    "Your function should create the following DataFrame:\n",
    "\n",
    "Date Weekday\n",
    "0 2023-01-01 Sunday\n",
    "1 2023-01-02 Monday\n",
    "2 2023-01-03 Tuesday\n",
    "3 2023-01-04 Wednesday\n",
    "4 2023-01-05 Thursday\n",
    "The function should return the modified DataFrame."
   ]
  },
  {
   "cell_type": "code",
   "execution_count": 53,
   "id": "ac5fb286-436e-450e-9db9-ead57e0a8edf",
   "metadata": {},
   "outputs": [
    {
     "name": "stdout",
     "output_type": "stream",
     "text": [
      "       Dates    weekday\n",
      "0 2023-01-01     Sunday\n",
      "1 2023-01-02     Monday\n",
      "2 2023-01-03    Tuesday\n",
      "3 2023-01-04  Wednesday\n",
      "4 2023-01-05   Thursday\n"
     ]
    }
   ],
   "source": [
    "import pandas as pd\n",
    "\n",
    "df = pd.DataFrame({'Dates': ['2023-01-01', '2023-01-02', '2023-01-03' , '2023-01-04', '2023-01-05']})\n",
    "df['Dates'] = pd.to_datetime(df['Dates'])\n",
    "\n",
    "df['weekday'] = df['Dates'].dt.day_name()\n",
    "print(df)"
   ]
  },
  {
   "cell_type": "markdown",
   "id": "7039ca4a-f2b7-4296-8066-b2ae0bb60ac9",
   "metadata": {},
   "source": [
    "Q12. Given a Pandas DataFrame df with a column 'Date' that contains timestamps, write a Python function to select all rows where the date is between '2023-01-01' and '2023-01-31'."
   ]
  },
  {
   "cell_type": "code",
   "execution_count": 59,
   "id": "7dddb3a4-6229-4306-97e6-5fbb942d97c6",
   "metadata": {},
   "outputs": [
    {
     "name": "stdout",
     "output_type": "stream",
     "text": [
      "         Date  Timestamp\n",
      "0  2023-01-01 2023-01-01\n",
      "1  2023-01-31 2023-01-31\n"
     ]
    }
   ],
   "source": [
    "import pandas as pd\n",
    "df = pd.DataFrame({\n",
    "    'Date': ['2023-01-01', '2023-01-31']   \n",
    "})\n",
    "df['Timestamp'] = pd.to_datetime(df['Date'])\n",
    "print(df)"
   ]
  },
  {
   "cell_type": "markdown",
   "id": "a378e4ec-83da-4545-9003-a43a1ecfd387",
   "metadata": {},
   "source": [
    "Q13. To use the basic functions of pandas, what is the first and foremost necessary library that needs to\n",
    "be imported?"
   ]
  },
  {
   "cell_type": "code",
   "execution_count": null,
   "id": "621350e6-2181-4b48-84a4-9b4ebace522b",
   "metadata": {},
   "outputs": [],
   "source": [
    "To use the basic functions of Pandas, you need to import the Pandas library that needs to be imported.\n",
    "import pandas as pd"
   ]
  }
 ],
 "metadata": {
  "kernelspec": {
   "display_name": "Python 3 (ipykernel)",
   "language": "python",
   "name": "python3"
  },
  "language_info": {
   "codemirror_mode": {
    "name": "ipython",
    "version": 3
   },
   "file_extension": ".py",
   "mimetype": "text/x-python",
   "name": "python",
   "nbconvert_exporter": "python",
   "pygments_lexer": "ipython3",
   "version": "3.10.8"
  }
 },
 "nbformat": 4,
 "nbformat_minor": 5
}
