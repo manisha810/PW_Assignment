{
 "cells": [
  {
   "cell_type": "markdown",
   "id": "27b65b8b-f649-4db1-9c99-7e5af8384923",
   "metadata": {},
   "source": [
    "Q1. What is an exception in python? write the difference between Exceptions  and syntax errors."
   ]
  },
  {
   "cell_type": "markdown",
   "id": "d5e9bb1b-8b72-4568-bf0e-32d82b2927f3",
   "metadata": {},
   "source": [
    "==> Exceptions are events that are used to modify the flow of control through a program when the error occurs.\n",
    "\n",
    "Even if a statement or expression is syntactically correct, it may cause an error when an attempt is made to execute it. Errors detected during code execution are called exceptions and are not unconditionally fatal.\n",
    "\n",
    "In Python, a syntax error is an error that occurs when the interpreter encounters code that it cannot interpret. Syntax errors are usually caused by incorrect indentation, incorrect punctuation, or mismatched parentheses."
   ]
  },
  {
   "cell_type": "markdown",
   "id": "ce8e0539-84c7-4645-8a71-34cce9271a75",
   "metadata": {},
   "source": [
    "Q2 what happens when an exception is not handled? Explain with an example."
   ]
  },
  {
   "cell_type": "markdown",
   "id": "c339c493-d4bd-4e42-af5a-680aef46744d",
   "metadata": {},
   "source": [
    "Python has many built-in exceptions which forces your program to output an error when something in it goes wrong. When these exceptions occur, it causes the current process to stop and passes it to the calling process until it is handled. If not handled, our program will crash."
   ]
  },
  {
   "cell_type": "code",
   "execution_count": null,
   "id": "af32acf6-efe3-43a9-ae74-8f82e67715f8",
   "metadata": {},
   "outputs": [],
   "source": [
    "(a,b) = (6,0)\n",
    "try:\n",
    "    c = a/b\n",
    "except ZeroDivisionError as n:\n",
    "    m =n\n",
    "    print (m)"
   ]
  },
  {
   "cell_type": "markdown",
   "id": "a773622a-9a79-4672-9f8c-aafd491275cc",
   "metadata": {},
   "source": [
    "Q3. which python statements are used to catch and handle exceptions? Explain with am example."
   ]
  },
  {
   "cell_type": "markdown",
   "id": "c6f49f7a-2610-460c-b81f-375463ca49c0",
   "metadata": {},
   "source": [
    "Try and except statements are used to catch and handle exceptions in Python."
   ]
  },
  {
   "cell_type": "code",
   "execution_count": null,
   "id": "781fe6c0-91e3-4fee-a98b-d9389365f055",
   "metadata": {},
   "outputs": [],
   "source": [
    "try:\n",
    "    f = open(\"test.txt\", 'w')\n",
    "    f.write(\"write into my file\")\n",
    "    f.close()\n",
    "except Exception as e:\n",
    "    print(\"This is my except block\",e)\n",
    "else :\n",
    "    f.close()\n",
    "    print(\"This will be executed once your try will excute without error.\")\n",
    "    "
   ]
  },
  {
   "cell_type": "markdown",
   "id": "29be1bb7-ac7b-4a0a-b7c6-942060453d36",
   "metadata": {},
   "source": [
    "Q4. Explain with an example:\n",
    "    a. try and else\n",
    "    b. finally\n",
    "    c. raise"
   ]
  },
  {
   "cell_type": "code",
   "execution_count": null,
   "id": "fd2d7b83-c3ba-4ced-bb39-bbfa36741c2b",
   "metadata": {},
   "outputs": [],
   "source": [
    "# try and else:\n",
    "\n",
    "try:\n",
    "    print(\"Hello\")\n",
    "except:\n",
    "    print(\"Something went wrong\")\n",
    "else:\n",
    "    print(\"Nothing went wrong\")"
   ]
  },
  {
   "cell_type": "code",
   "execution_count": null,
   "id": "1f38f38c-bf21-4956-b752-344d7789e3a7",
   "metadata": {},
   "outputs": [],
   "source": [
    "#  finally:\n",
    "\n",
    "try:\n",
    "    x > 3\n",
    "except:\n",
    "    print(\"Something went wrong\")\n",
    "else:\n",
    "    print(\"Nothing went wrong\")\n",
    "finally:\n",
    "    print(\"The try...except block is finished\")\n"
   ]
  },
  {
   "cell_type": "code",
   "execution_count": null,
   "id": "d27d45d6-731a-4915-a7c8-9ff6d114508f",
   "metadata": {},
   "outputs": [],
   "source": [
    "# raise:\n",
    "\n",
    "x = -1\n",
    "\n",
    "if x < 0:\n",
    "    raise Exception(\"Sorry, no numbers below zero\")"
   ]
  },
  {
   "cell_type": "markdown",
   "id": "073f7cb0-2399-4459-aac1-025d0b8845a4",
   "metadata": {},
   "source": [
    "Q5. what are custom Exceptions in python? Why do we need custom Exceptions? Explain with an example."
   ]
  },
  {
   "cell_type": "markdown",
   "id": "92c724f3-125e-44f9-abe0-1d4819dce269",
   "metadata": {},
   "source": [
    "In Python, we can define custom exceptions by creating a new class that is derived from the built-in Exception class."
   ]
  },
  {
   "cell_type": "code",
   "execution_count": null,
   "id": "f04f7729-c7e6-403a-a6ba-e9215a3f102d",
   "metadata": {},
   "outputs": [],
   "source": [
    "class validatage(Exception):\n",
    "    \n",
    "    def __init__(self, msg):\n",
    "        self.msg = msg\n",
    "        \n",
    "def validaetage(age):\n",
    "    if age < 0:\n",
    "        raise validatage(\"Entered age is negative \")\n",
    "    elif age > 200:\n",
    "        raise validatage(\"Entered age is very very high\")\n",
    "    else:\n",
    "        print(\"age is valid\")\n",
    "        \n",
    "try: \n",
    "    age = int(input(\"Enter your age \"))\n",
    "    validaetage(age)\n",
    "except validatage as e:\n",
    "    print(e)"
   ]
  },
  {
   "cell_type": "markdown",
   "id": "9600b09d-7d2c-4dba-82bb-ebd8ebf14f44",
   "metadata": {},
   "source": [
    "Q6. Create a custom exception class. use this class to handle an exception."
   ]
  },
  {
   "cell_type": "code",
   "execution_count": null,
   "id": "579c1549-bcd4-4bde-aa99-505dfd71d656",
   "metadata": {},
   "outputs": [],
   "source": [
    "class SalaryNotInRangeError(Exception):\n",
    "    def __init__(self, salary, message=\"Salary is not in (5000, 15000) range\"):\n",
    "        self.salary = salary\n",
    "        self.message = message\n",
    "        super().__init__(self.message)\n",
    "\n",
    "\n",
    "salary = int(input(\"Enter salary amount: \"))\n",
    "if not 5000 < salary < 15000:\n",
    "    raise SalaryNotInRangeError(salary)"
   ]
  }
 ],
 "metadata": {
  "kernelspec": {
   "display_name": "Python 3 (ipykernel)",
   "language": "python",
   "name": "python3"
  },
  "language_info": {
   "codemirror_mode": {
    "name": "ipython",
    "version": 3
   },
   "file_extension": ".py",
   "mimetype": "text/x-python",
   "name": "python",
   "nbconvert_exporter": "python",
   "pygments_lexer": "ipython3",
   "version": "3.10.8"
  }
 },
 "nbformat": 4,
 "nbformat_minor": 5
}
