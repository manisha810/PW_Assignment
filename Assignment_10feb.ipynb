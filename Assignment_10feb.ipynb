{
 "cells": [
  {
   "cell_type": "markdown",
   "id": "cc999bc6-2ddf-4c3e-bf0e-59ba5365bb02",
   "metadata": {},
   "source": [
    "Q1. Which function is used to open a file? What are the different modes of opening a file? Explain each mode of file opening."
   ]
  },
  {
   "cell_type": "markdown",
   "id": "15667b18-cfd1-4869-80f9-1b218ca234f5",
   "metadata": {},
   "source": [
    "==>  Open () function is used to open a file \n",
    "\n",
    "There are four different methods (modes) for opening a file:\n",
    "\n",
    "\"r\" - Read - Default value. Opens a file for reading, error if the file does not exist.\n",
    "\n",
    "\"a\" - Append - Opens a file for appending, creates the file if it does not exist.\n",
    "\n",
    "\"w\" - Write - Opens a file for writing, creates the file if it does not exist.\n",
    "\n",
    "\"x\" - Create - Creates the specified file, returns an error if the file exists.\n"
   ]
  },
  {
   "cell_type": "markdown",
   "id": "96b49d63-71ae-44b6-8fe2-f34905a0ba52",
   "metadata": {},
   "source": [
    "Q2. Why close() function is used? Why is it important to close a file?"
   ]
  },
  {
   "cell_type": "markdown",
   "id": "4b58a088-ed8b-40ab-881b-f28494ba18fb",
   "metadata": {},
   "source": [
    "==>   The close () method of a file object flushes any unwritten information and closes the file object, after which no more writing can be done. Python automatically closes a file when the reference object of a file is reassigned to another file."
   ]
  },
  {
   "cell_type": "markdown",
   "id": "97924a05-0537-4fc6-b4b6-8c8993cc9da7",
   "metadata": {},
   "source": [
    "Q3. Write a python program to create a text file. Write ‘I want to become a Data Scientist’ in that file. Then close the file. Open this file and read the content of the file."
   ]
  },
  {
   "cell_type": "code",
   "execution_count": 1,
   "id": "0e757ba4-fee2-45a0-b4de-5b246b9221dc",
   "metadata": {},
   "outputs": [],
   "source": [
    "f = open(\"test.txt\",'w')\n",
    "f.write(\"I want to become a Data Scientist\")\n",
    "f.close()\n",
    "\n",
    "# read\n",
    "data = open(\"test.txt\", 'r')\n",
    "data.read()"
   ]
  },
  {
   "cell_type": "markdown",
   "id": "c564c432-35f7-4ea4-aa6d-7236b58f4a9e",
   "metadata": {},
   "source": [
    "Q4. Explain the following with python code: read(), readline() and readlines()."
   ]
  },
  {
   "cell_type": "markdown",
   "id": "b249e3d7-1a77-426c-b489-dc3017b6c8de",
   "metadata": {},
   "source": [
    "# read()\n",
    "The read() method returns the specified number of bytes from the file. \n",
    "\n",
    "f = open(\"test.txt\", 'r')\n",
    "print(f.read())"
   ]
  },
  {
   "cell_type": "markdown",
   "id": "9b836347-d543-4e9f-a65b-68bd19e81afb",
   "metadata": {},
   "source": [
    "# readline()\n",
    "Python readline () is a file method that helps to read one complete line from the given file.\n",
    "\n",
    "f=open(\"test.txt\", 'r')\n",
    "print(f.readline())"
   ]
  },
  {
   "cell_type": "markdown",
   "id": "ab1b092b-4581-4780-b5a3-920f13cd26d3",
   "metadata": {},
   "source": [
    "# readlines()\n",
    "The readlines() method returns a list containing each line in the file as a list item.\n",
    "\n",
    "f = open(\"test.txt\",'r')\n",
    "print(f.readlines())"
   ]
  },
  {
   "cell_type": "markdown",
   "id": "8ba1d725-a62b-41a7-92eb-5823ba6e4b98",
   "metadata": {},
   "source": [
    "Q5. Explain why with statement is used with open(). What is the advantage of using with statement and\n",
    "open() together?"
   ]
  },
  {
   "cell_type": "markdown",
   "id": "a69ce28f-6a54-4dd5-b144-706a213e27dd",
   "metadata": {},
   "source": [
    "==>   In Python you need to give access to a file by opening it. You can do it by using the open () function. Open returns a file object, which has methods and attributes for getting information about and manipulating the opened file. With the “With” statement, you get better syntax and exceptions handling.\n",
    "Benefits of calling open () using “with statement” Fewer chances of bug due to coding error No need to explicitly close the opened file, “with statement” takes care of that. When with the block ends, it will automatically close the file."
   ]
  },
  {
   "cell_type": "markdown",
   "id": "c0c006e6-11ce-42cf-804c-14d4df73b292",
   "metadata": {},
   "source": [
    "Q6. Explain the write() and writelines() functions. Give a suitable example."
   ]
  },
  {
   "cell_type": "markdown",
   "id": "ff3580d8-1938-4dc6-a079-c39900cebffd",
   "metadata": {},
   "source": [
    "#  write()function\n",
    "\n",
    "The write() function will write the content in the file without adding any extra characters.\n",
    "\n",
    "f = open(\"test.txt\", \"a\")\n",
    "f.write(\"Hello pwskills\")\n",
    "f.close()"
   ]
  },
  {
   "cell_type": "markdown",
   "id": "0a87e3b7-8412-4059-bc42-c3e551ae7985",
   "metadata": {},
   "source": [
    "# writelines()function\n",
    "\n",
    "The writelines() method writes the items of a list to the file.\n",
    "\n",
    "f = open(\"test.txt\",'a')\n",
    "f.writelines([\"Hello pwskills\")\n",
    "f.close()\n"
   ]
  }
 ],
 "metadata": {
  "kernelspec": {
   "display_name": "Python 3 (ipykernel)",
   "language": "python",
   "name": "python3"
  },
  "language_info": {
   "codemirror_mode": {
    "name": "ipython",
    "version": 3
   },
   "file_extension": ".py",
   "mimetype": "text/x-python",
   "name": "python",
   "nbconvert_exporter": "python",
   "pygments_lexer": "ipython3",
   "version": "3.10.8"
  }
 },
 "nbformat": 4,
 "nbformat_minor": 5
}
