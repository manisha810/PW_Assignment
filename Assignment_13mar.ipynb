{
 "cells": [
  {
   "cell_type": "markdown",
   "id": "2c8f77d5-5afe-4213-8083-bfbf0026667f",
   "metadata": {},
   "source": [
    "Q1. Explain the assumptions required to use ANOVA and provide examples of violations that could impact the validity of the results."
   ]
  },
  {
   "cell_type": "markdown",
   "id": "54508eea-fd91-44bc-8544-0c47a5361ebc",
   "metadata": {},
   "source": [
    "1.Independence: If the observations are not independent, the results of the ANOVA may be biased. For example, if you are comparing the exam scores of students from different schools, but the students within each school are not independent (e.g. they all took the same prep course), this violates the independence assumption."
   ]
  },
  {
   "cell_type": "markdown",
   "id": "591bf4c9-02af-4aa1-b979-299439365f22",
   "metadata": {},
   "source": [
    "2.Normality: If the data within each group is not normally distributed, this can lead to inaccurate results. For example, if you are comparing the blood pressure of two different groups, but the data within each group is heavily skewed, this violates the normality assumption."
   ]
  },
  {
   "cell_type": "markdown",
   "id": "3515331a-637e-4043-9bc7-66fad0b52b2a",
   "metadata": {},
   "source": [
    "3.Homogeneity of variance: If the variances of the groups being compared are not equal, the ANOVA results may be inaccurate. For example, if you are comparing the weight of apples from two different orchards, but one orchard uses a different fertilizer that causes the weights to vary more widely, this violates the homogeneity of variance assumption."
   ]
  },
  {
   "cell_type": "markdown",
   "id": "c7e817e9-4f6e-422f-a02e-001f4f268569",
   "metadata": {},
   "source": [
    "Q2. What are the three types of ANOVA, and in what situations would each be used?"
   ]
  },
  {
   "cell_type": "markdown",
   "id": "87929f81-dca1-4318-85c3-9da31f843044",
   "metadata": {},
   "source": [
    "1.One-Way ANOVA: This is the most basic type of ANOVA and is used when there is only one independent variable. It is used to compare the means of three or more groups to determine if there is a statistically significant difference between them. "
   ]
  },
  {
   "cell_type": "markdown",
   "id": "4d6ad9fe-d5be-48e9-9c52-a09aadf20a2a",
   "metadata": {},
   "source": [
    "2.One-Way ANOVA: This is the most basic type of ANOVA and is used when there is only one independent variable. It is used to compare the means of three or more groups to determine if there is a statistically significant difference between them. "
   ]
  },
  {
   "cell_type": "markdown",
   "id": "81d67088-50f4-4e9d-8500-298bea5dae88",
   "metadata": {},
   "source": [
    "3.Three-Way ANOVA: This type of ANOVA is used when there are three independent variables. It is used to determine if there is a significant interaction between all three independent variables on the dependent variable. "
   ]
  },
  {
   "cell_type": "markdown",
   "id": "29f642bb-7ef6-40a8-8955-8d5c75c59747",
   "metadata": {},
   "source": [
    "Q3. What is the partitioning of variance in ANOVA, and why is it important to understand this concept?"
   ]
  },
  {
   "cell_type": "markdown",
   "id": "a45cbd45-f524-428d-b677-b1282bb3d252",
   "metadata": {},
   "source": [
    "Partitioning of variance in ANOVA refers to the breakdown of the total variance in the data into different sources of variation."
   ]
  },
  {
   "cell_type": "markdown",
   "id": "03c3a8af-28b8-44b7-be71-547da66743d6",
   "metadata": {},
   "source": [
    "It is important to understand the concept of partitioning of variance in ANOVA because it helps to identify the sources of variation that are contributing to the differences observed between the groups."
   ]
  },
  {
   "cell_type": "markdown",
   "id": "5e7aba9b-aa38-4bc1-8ca4-d34f0dc21676",
   "metadata": {},
   "source": [
    "Q4. How would you calculate the total sum of squares (SST), explained sum of squares (SSE), and residual sum of squares (SSR) in a one-way ANOVA using Python?"
   ]
  },
  {
   "cell_type": "code",
   "execution_count": 6,
   "id": "dd00a05f-fd9b-4901-86ad-533109193882",
   "metadata": {},
   "outputs": [
    {
     "name": "stdout",
     "output_type": "stream",
     "text": [
      "SST: 17.5\n",
      "SSE: 16.000000000000007\n",
      "SSR: 1.5\n"
     ]
    }
   ],
   "source": [
    "import pandas as pd\n",
    "import statsmodels.api as sm\n",
    "from statsmodels.formula.api import ols\n",
    "\n",
    "# create a sample data frame\n",
    "data = pd.DataFrame({'Group': ['A', 'A', 'B', 'B', 'C', 'C'],\n",
    "                     'Values': [1, 2, 3, 4, 5, 6]})\n",
    "\n",
    "# fit the one-way ANOVA model\n",
    "model = ols('Values ~ Group', data).fit()\n",
    "\n",
    "# calculate the total sum of squares (SST)\n",
    "sst = ((data['Values'] - data['Values'].mean()) ** 2).sum()\n",
    "\n",
    "# calculate the explained sum of squares (SSE)\n",
    "sse = ((model.fittedvalues - data['Values'].mean()) ** 2).sum()\n",
    "\n",
    "# calculate the residual sum of squares (SSR)\n",
    "ssr = ((model.resid) ** 2).sum()\n",
    "\n",
    "# print the results\n",
    "print('SST:', sst)\n",
    "print('SSE:', sse)\n",
    "print('SSR:', ssr)\n"
   ]
  },
  {
   "cell_type": "markdown",
   "id": "3f11f474-2848-48ee-9f40-a3cb1ab4430a",
   "metadata": {},
   "source": [
    "Q5. In a two-way ANOVA, how would you calculate the main effects and interaction effects using Python?"
   ]
  },
  {
   "cell_type": "code",
   "execution_count": null,
   "id": "cd00b0eb-d2b4-49fa-8d93-dd9262fcc3d6",
   "metadata": {},
   "outputs": [],
   "source": [
    "import statsmodels.api as sm\n",
    "from statsmodels.formula.api import ols\n",
    "import pandas as pd\n",
    "\n",
    "# Load the data into a pandas DataFrame\n",
    "data = pd.read_csv('data.csv')\n",
    "\n",
    "# Fit the two-way ANOVA model with interaction\n",
    "model = ols('response ~ C(factor1) + C(factor2) + C(factor1):C(factor2)', data).fit()\n",
    "\n",
    "# Calculate the main effects and interaction effects\n",
    "main_effects = sm.stats.anova_lm(model, typ=1)['sum_sq'][:-1]\n",
    "interaction_effect = sm.stats.anova_lm(model, typ=2)['sum_sq'][-1]\n",
    "\n",
    "print('Main effects:')\n",
    "print(main_effects)\n",
    "\n",
    "print('Interaction effect:')\n",
    "print(interaction_effect)\n"
   ]
  },
  {
   "cell_type": "markdown",
   "id": "830e9b4a-5a3d-4851-8bdd-4b705873a1ab",
   "metadata": {},
   "source": [
    "Q6. Suppose you conducted a one-way ANOVA and obtained an F-statistic of 5.23 and a p-value of 0.02. What can you conclude about the differences between the groups, and how would you interpret these results?"
   ]
  },
  {
   "cell_type": "markdown",
   "id": "b788bf93-ce62-4878-8deb-64a7f23fbdc9",
   "metadata": {},
   "source": [
    "The F-statistic indicates the ratio of between-group variance to within-group variance. A large F-statistic indicates that the between-group variance is larger than the within-group variance, which means that there are significant differences between the groups. The p-value of 0.02 indicates that the probability of obtaining such a large F-statistic by chance alone is only 2%, which is considered statistically significant at the commonly used significance level of 0.05.To interpret these results, you could say something like: \"The results of the one-way ANOVA indicated significant differences between the groups (F(2, 27) = 5.23, p = 0.02). "
   ]
  },
  {
   "cell_type": "markdown",
   "id": "1e68b117-9385-4dfc-b804-c827bd4a8971",
   "metadata": {},
   "source": [
    "Q7. In a repeated measures ANOVA, how would you handle missing data, and what are the potential consequences of using different methods to handle missing data?"
   ]
  },
  {
   "cell_type": "markdown",
   "id": "7e7e94c0-cea6-41bb-b872-a53c338949c7",
   "metadata": {},
   "source": [
    "1.Pairwise deletion: This method involves excluding any cases with missing data from the analysis."
   ]
  },
  {
   "cell_type": "markdown",
   "id": "19bf975e-4116-4738-883d-83d6ae5d1c01",
   "metadata": {},
   "source": [
    "2.Mean imputation: This method involves replacing missing values with the mean of the observed values for that variable. "
   ]
  },
  {
   "cell_type": "markdown",
   "id": "7c387e4a-f016-4269-9959-24b939ef9929",
   "metadata": {},
   "source": [
    "3.Last observation carried forward (LOCF): This method involves replacing missing values with the last observed value for that variable."
   ]
  },
  {
   "cell_type": "markdown",
   "id": "0ec21a1d-1a7a-45a7-8456-50b0dd1eef85",
   "metadata": {},
   "source": [
    "4.Multiple imputation: This method involves creating multiple imputed datasets, each with a different imputed value for the missing data, and combining the results of the repeated measures ANOVA across the imputed datasets. "
   ]
  },
  {
   "cell_type": "markdown",
   "id": "977bdddd-4099-4cd1-8a9b-3da2d6325118",
   "metadata": {},
   "source": [
    "The potential consequences of using different methods to handle missing data in a repeated measures ANOVA are that the results may be biased, invalid, or unreliable. "
   ]
  },
  {
   "cell_type": "markdown",
   "id": "3e0cda8d-fe3e-4941-9ae1-033dca56aedf",
   "metadata": {},
   "source": [
    "Q8. What are some common post-hoc tests used after ANOVA, and when would you use each one? Provide an example of a situation where a post-hoc test might be necessary."
   ]
  },
  {
   "cell_type": "markdown",
   "id": "6a19fcc1-4944-4683-889d-0a4a29c3a38c",
   "metadata": {},
   "source": [
    "1.Tukey's Honestly Significant Difference (HSD) Test: This test is used when comparing all possible pairs of means."
   ]
  },
  {
   "cell_type": "markdown",
   "id": "80d49276-5bbc-4a03-b5d8-edd4fa3ee9d5",
   "metadata": {},
   "source": [
    "2.Bonferroni Correction: This test is used to control for Type I errors when making multiple comparisons."
   ]
  },
  {
   "cell_type": "markdown",
   "id": "a123bf9d-eb55-4162-9378-c14b20b05562",
   "metadata": {},
   "source": [
    "3.Scheffe Test: This test is used when comparing all possible combinations of means, but it is more conservative than other tests. "
   ]
  },
  {
   "cell_type": "markdown",
   "id": "dfe81a1f-c99d-4203-8dec-abf8359d6de1",
   "metadata": {},
   "source": [
    "4.Fisher's Least Significant Difference (LSD) Test: This test is used to compare means between pairs of groups. "
   ]
  },
  {
   "cell_type": "markdown",
   "id": "a0e167bc-c6fa-4893-8532-2cac3d099648",
   "metadata": {},
   "source": [
    "A post-hoc test might be necessary in a situation where a researcher is comparing the effectiveness of three different treatments for a medical condition. After conducting an ANOVA, the researcher finds that there is a significant difference between the three treatments. To determine which treatments are significantly different from each other, a post-hoc test such as Tukey's HSD could be used."
   ]
  },
  {
   "cell_type": "markdown",
   "id": "5fb61511-6361-4c39-8b27-18de6befb99a",
   "metadata": {},
   "source": [
    "Q9. A researcher wants to compare the mean weight loss of three diets: A, B, and C. They collect data from 50 participants who were randomly assigned to one of the diets. Conduct a one-way ANOVA using Python to determine if there are any significant differences between the mean weight loss of the three diets. Report the F-statistic and p-value, and interpret the results."
   ]
  },
  {
   "cell_type": "code",
   "execution_count": 10,
   "id": "63e5d3ba-72eb-4865-b5d1-b137ec566312",
   "metadata": {},
   "outputs": [
    {
     "name": "stdout",
     "output_type": "stream",
     "text": [
      "F-statistic: 13.14157130813411\n",
      "p-value: 5.613515257394152e-06\n"
     ]
    }
   ],
   "source": [
    "import numpy as np\n",
    "from scipy.stats import f_oneway\n",
    "\n",
    "# generate some sample data\n",
    "diet_a = np.random.normal(loc=5, scale=2, size=50)\n",
    "diet_b = np.random.normal(loc=7, scale=2, size=50)\n",
    "diet_c = np.random.normal(loc=6, scale=2, size=50)\n",
    "\n",
    "# perform one-way ANOVA\n",
    "f_stat, p_val = f_oneway(diet_a, diet_b, diet_c)\n",
    "\n",
    "# print results\n",
    "print(\"F-statistic:\", f_stat)\n",
    "print(\"p-value:\", p_val)"
   ]
  },
  {
   "cell_type": "markdown",
   "id": "79c60187-f554-4afb-a3a4-8fdabe7f21c6",
   "metadata": {},
   "source": [
    "Q10. A company wants to know if there are any significant differences in the average time it takes to complete a task using three different software programs: Program A, Program B, and Program C. They randomly assign 30 employees to one of the programs and record the time it takes each employee to complete the task. Conduct a two-way ANOVA using Python to determine if there are any main effects or interaction effects between the software programs and employee experience level (novice vs. experienced). Report the F-statistics and p-values, and interpret the results."
   ]
  },
  {
   "cell_type": "code",
   "execution_count": 15,
   "id": "99dcf8b3-9d62-4276-9220-fffe71101922",
   "metadata": {},
   "outputs": [
    {
     "name": "stdout",
     "output_type": "stream",
     "text": [
      "                         sum_sq     df         F    PR(>F)\n",
      "programs               3.429288    2.0  0.385040  0.681002\n",
      "experience             8.558681    1.0  1.921935  0.167417\n",
      "programs:experience    4.438774    2.0  0.498385  0.608376\n",
      "Residual             774.849623  174.0       NaN       NaN\n"
     ]
    }
   ],
   "source": [
    "import numpy as np\n",
    "import pandas as pd\n",
    "import statsmodels.api as sm\n",
    "from statsmodels.formula.api import ols\n",
    "\n",
    "# Generate sample data\n",
    "np.random.seed(123)\n",
    "n = 30\n",
    "programs = np.repeat(['A', 'B', 'C'], 2*n)\n",
    "experience = np.tile(['novice', 'experienced'], 3*n)\n",
    "time = np.round(np.random.normal(10, 2, 6*n), 2)\n",
    "data = pd.DataFrame({'programs': programs, 'experience': experience, 'time': time})\n",
    "\n",
    "# Fit ANOVA model\n",
    "model = ols('time ~ programs + experience + programs:experience', data=data).fit()\n",
    "\n",
    "# Print ANOVA table\n",
    "print(sm.stats.anova_lm(model, typ=2))"
   ]
  },
  {
   "cell_type": "markdown",
   "id": "f84abee6-eaf5-428b-b2bf-216c1fc6ff86",
   "metadata": {},
   "source": [
    "Q11. An educational researcher is interested in whether a new teaching method improves student test scores. They randomly assign 100 students to either the control group  traditional teaching method) or the experimental group (new teaching method) and administer a test at the end of the semester. Conduct a two-sample t-test using Python to determine if there are any significant differences in test scores between the two groups. If the results are significant, follow up with a post-hoc test to determine which group(s) differ significantly from each other."
   ]
  },
  {
   "cell_type": "code",
   "execution_count": 16,
   "id": "cd81c2a5-7430-4424-831f-5e0d2276ef64",
   "metadata": {},
   "outputs": [
    {
     "name": "stdout",
     "output_type": "stream",
     "text": [
      "t = -2.76, p = 0.006\n",
      "   Multiple Comparison of Means - Tukey HSD, FWER=0.05   \n",
      "=========================================================\n",
      " group1    group2    meandiff p-adj  lower  upper  reject\n",
      "---------------------------------------------------------\n",
      "control experimental   4.4945 0.0063 1.2815 7.7074   True\n",
      "---------------------------------------------------------\n"
     ]
    }
   ],
   "source": [
    "import numpy as np\n",
    "import pandas as pd\n",
    "from scipy import stats\n",
    "\n",
    "# Generate sample data\n",
    "np.random.seed(123)\n",
    "control_scores = np.random.normal(70, 10, 100)\n",
    "experimental_scores = np.random.normal(75, 12, 100)\n",
    "\n",
    "# Conduct two-sample t-test\n",
    "t, p = stats.ttest_ind(control_scores, experimental_scores)\n",
    "print('t = {:.2f}, p = {:.3f}'.format(t, p))\n",
    "\n",
    "# Conduct post-hoc test (Tukey's HSD)\n",
    "data = pd.DataFrame({'score': np.concatenate([control_scores, experimental_scores]),\n",
    "                     'group': np.concatenate([np.repeat('control', 100), np.repeat('experimental', 100)])})\n",
    "from statsmodels.stats.multicomp import pairwise_tukeyhsd\n",
    "posthoc = pairwise_tukeyhsd(data['score'], data['group'])\n",
    "print(posthoc)"
   ]
  },
  {
   "cell_type": "markdown",
   "id": "ed38634d-a74f-4815-8ac6-f9781a7e07ba",
   "metadata": {},
   "source": [
    "Q12. A researcher wants to know if there are any significant differences in the average daily sales of three retail stores: Store A, Store B, and Store C. They randomly select 30 days and record the sales for each store on those days. Conduct a repeated measures ANOVA using Python to determine if there are any significant differences in sales between the three stores. If the results are significant, follow up with a post- hoc test to determine which store(s) differ significantly from each other."
   ]
  },
  {
   "cell_type": "code",
   "execution_count": 17,
   "id": "98fab161-a9a9-4a00-a698-736a6384f883",
   "metadata": {},
   "outputs": [
    {
     "name": "stdout",
     "output_type": "stream",
     "text": [
      "F = 74.10, p = 0.000\n",
      "  Multiple Comparison of Means - Tukey HSD, FWER=0.05   \n",
      "========================================================\n",
      "group1 group2  meandiff p-adj   lower     upper   reject\n",
      "--------------------------------------------------------\n",
      "     A      B  216.7514   0.0  133.0069  300.4959   True\n",
      "     A      C -210.7784   0.0 -294.5228 -127.0339   True\n",
      "     B      C -427.5297   0.0 -511.2742 -343.7853   True\n",
      "--------------------------------------------------------\n"
     ]
    }
   ],
   "source": [
    "import numpy as np\n",
    "import pandas as pd\n",
    "from scipy import stats\n",
    "from statsmodels.stats.multicomp import pairwise_tukeyhsd\n",
    "\n",
    "# Generate sample data\n",
    "np.random.seed(123)\n",
    "store_a_sales = np.random.normal(1000, 100, 30)\n",
    "store_b_sales = np.random.normal(1200, 150, 30)\n",
    "store_c_sales = np.random.normal(800, 80, 30)\n",
    "\n",
    "# Combine data into a single dataframe\n",
    "data = pd.DataFrame({'sales': np.concatenate([store_a_sales, store_b_sales, store_c_sales]),\n",
    "                     'store': np.repeat(['A', 'B', 'C'], 30)})\n",
    "\n",
    "# Conduct one-way ANOVA\n",
    "model = stats.f_oneway(store_a_sales, store_b_sales, store_c_sales)\n",
    "f, p = model.statistic, model.pvalue\n",
    "print('F = {:.2f}, p = {:.3f}'.format(f, p))\n",
    "\n",
    "# Conduct post-hoc test (Tukey's HSD)\n",
    "posthoc = pairwise_tukeyhsd(data['sales'], data['store'])\n",
    "print(posthoc)\n"
   ]
  }
 ],
 "metadata": {
  "kernelspec": {
   "display_name": "Python 3 (ipykernel)",
   "language": "python",
   "name": "python3"
  },
  "language_info": {
   "codemirror_mode": {
    "name": "ipython",
    "version": 3
   },
   "file_extension": ".py",
   "mimetype": "text/x-python",
   "name": "python",
   "nbconvert_exporter": "python",
   "pygments_lexer": "ipython3",
   "version": "3.10.8"
  }
 },
 "nbformat": 4,
 "nbformat_minor": 5
}
