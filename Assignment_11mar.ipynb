{
 "cells": [
  {
   "cell_type": "markdown",
   "id": "0a0d8b43-fde9-41c5-a97c-90cd46826835",
   "metadata": {},
   "source": [
    "Q1: What is the difference between a t-test and a z-test? Provide an example scenario where you would use each type of test."
   ]
  },
  {
   "cell_type": "markdown",
   "id": "d07f002f-9f14-4389-bc26-ee67b2f1a87e",
   "metadata": {},
   "source": [
    "A t-test is used when the sample size is small (typically less than 30) and when the population standard deviation is unknown. "
   ]
  },
  {
   "cell_type": "markdown",
   "id": "a7b2c7a0-e676-40c1-91bf-b55a35c2605d",
   "metadata": {},
   "source": [
    "Example scenario for t-test: A company wants to test whether a new training program improves the productivity of its employees. The company randomly selects a sample of 20 employees and measures their productivity before and after the training program. The null hypothesis is that the mean productivity before the training program is the same as the mean productivity after the training program. A two-sample t-test can be used to test this hypothesis."
   ]
  },
  {
   "cell_type": "markdown",
   "id": "e45c73d5-00f8-42cb-9c53-8e69627e4608",
   "metadata": {},
   "source": [
    "A z-test, on the other hand, is used when the sample size is large (typically greater than 30) and when the population standard deviation is known."
   ]
  },
  {
   "cell_type": "markdown",
   "id": "b8b1e0bd-2534-4bb7-b4df-70373253f3af",
   "metadata": {},
   "source": [
    "Example scenario for z-test: A researcher wants to test whether a new drug reduces blood pressure. The researcher selects a sample of 100 individuals with high blood pressure and administers the drug to them. The null hypothesis is that the mean blood pressure of the population is the same before and after taking the drug. Since the sample size is large and the population standard deviation is known, a z-test can be used to test this hypothesis."
   ]
  },
  {
   "cell_type": "markdown",
   "id": "bebf45c7-2f89-418c-87cb-f1b54915ec2c",
   "metadata": {},
   "source": [
    "Q2: Differentiate between one-tailed and two-tailed tests."
   ]
  },
  {
   "cell_type": "markdown",
   "id": "728d7001-0971-49ff-8f3f-1a791f4729d0",
   "metadata": {},
   "source": [
    "In a one-tailed test, the null hypothesis is tested against an alternative hypothesis that the population parameter lies either above or below a certain value, depending on the direction specified in the hypothesis."
   ]
  },
  {
   "cell_type": "markdown",
   "id": "294ec352-a0f2-4fe3-b85a-e92456c0931f",
   "metadata": {},
   "source": [
    "In a two-tailed test, the null hypothesis is tested against an alternative hypothesis that the population parameter is not equal to a certain value. "
   ]
  },
  {
   "cell_type": "markdown",
   "id": "9163b013-3ca6-4903-aea1-bcfb4cee7694",
   "metadata": {},
   "source": [
    "Q3: Explain the concept of Type 1 and Type 2 errors in hypothesis testing. Provide an example scenario for each type of error."
   ]
  },
  {
   "cell_type": "markdown",
   "id": "5dc16624-2a4e-466b-ab8c-7d57bd13abe8",
   "metadata": {},
   "source": [
    "Type I error occurs when the null hypothesis is rejected even though it is true. It is also called a false positive error. "
   ]
  },
  {
   "cell_type": "markdown",
   "id": "055e8a4a-555a-44cc-815e-0a4610cfa16b",
   "metadata": {},
   "source": [
    "For example, a pharmaceutical company wants to test whether a new drug is more effective than an existing drug for treating a particular condition. The null hypothesis is that the new drug is no more effective than the existing drug. If the company rejects the null hypothesis and concludes that the new drug is more effective, but in reality, there is no significant difference, this is a Type I error."
   ]
  },
  {
   "cell_type": "markdown",
   "id": "95f7f9d3-1a53-4c86-8250-c0908456010b",
   "metadata": {},
   "source": [
    "Type II error occurs when the null hypothesis is accepted even though it is false. It is also called a false negative error."
   ]
  },
  {
   "cell_type": "markdown",
   "id": "4412499c-9fcf-488d-8b20-378d818ce911",
   "metadata": {},
   "source": [
    "For example, a researcher wants to test whether a new teaching method improves students' exam scores. The null hypothesis is that the new teaching method does not improve scores. If the researcher accepts the null hypothesis and concludes that there is no significant difference in scores, but in reality, the new teaching method does improve scores, this is a Type II error."
   ]
  },
  {
   "cell_type": "markdown",
   "id": "1e81e5d1-1c8f-478a-addb-aac857f328d8",
   "metadata": {},
   "source": [
    "Q4: Explain Bayes's theorem with an example."
   ]
  },
  {
   "cell_type": "code",
   "execution_count": 1,
   "id": "def3b946-0027-4bda-b48e-c62b1ded76b0",
   "metadata": {},
   "outputs": [
    {
     "name": "stdout",
     "output_type": "stream",
     "text": [
      "Posterior probabilities: [0.8 0.2]\n"
     ]
    }
   ],
   "source": [
    "import numpy as np\n",
    "\n",
    "# prior probabilities\n",
    "prior = np.array([0.5, 0.5])  # uniform prior distribution\n",
    "\n",
    "# likelihoods\n",
    "likelihood = np.array([0.8, 0.2])  # 80 out of 100 are Type A, 20 out of 100 are Type B\n",
    "\n",
    "# evidence\n",
    "evidence = np.sum(likelihood * prior)  # probability of observing the evidence\n",
    "\n",
    "# posterior probabilities\n",
    "posterior = likelihood * prior / evidence\n",
    "\n",
    "print(\"Posterior probabilities:\", posterior)"
   ]
  },
  {
   "cell_type": "markdown",
   "id": "41b68d9e-b897-4e46-96c5-a7a172c83c8c",
   "metadata": {},
   "source": [
    "Q5: What is a confidence interval? How to calculate the confidence interval, explain with an example."
   ]
  },
  {
   "cell_type": "markdown",
   "id": "4675168f-385c-4126-9945-5b51db7f930d",
   "metadata": {},
   "source": [
    "A confidence interval is a range of values that is likely to contain the true value of a population parameter with a specified degree of confidence."
   ]
  },
  {
   "cell_type": "code",
   "execution_count": 2,
   "id": "1ccf6901-7c2a-4d01-a0f4-7308de2fbaf8",
   "metadata": {},
   "outputs": [
    {
     "name": "stdout",
     "output_type": "stream",
     "text": [
      "Lower bound of the 95% confidence interval: -0.5879891953620131\n",
      "Upper bound of the 95% confidence interval: 136.587989195362\n"
     ]
    }
   ],
   "source": [
    "import scipy.stats as stats\n",
    "import numpy as np\n",
    "\n",
    "# sample statistics\n",
    "n = 100\n",
    "X_bar = 68\n",
    "sigma = 3\n",
    "\n",
    "# confidence level\n",
    "alpha = 0.05\n",
    "z_alpha_2 = stats.norm.ppf(1 - alpha/2)\n",
    "\n",
    "# confidence interval\n",
    "CI = X_bar + z_alpha_2 * sigma / np.sqrt(n)\n",
    "print(\"Lower bound of the 95% confidence interval:\", X_bar - CI)\n",
    "print(\"Upper bound of the 95% confidence interval:\", X_bar + CI)"
   ]
  },
  {
   "cell_type": "markdown",
   "id": "a5da58cc-b16d-43eb-8fcc-5cd57c751eec",
   "metadata": {},
   "source": [
    "Q6. Use Bayes' Theorem to calculate the probability of an event occurring given prior knowledge of the event's probability and new evidence. Provide a sample problem and solution."
   ]
  },
  {
   "cell_type": "code",
   "execution_count": 3,
   "id": "40258c73-bc6c-4366-877c-7f6f2c755b92",
   "metadata": {},
   "outputs": [
    {
     "name": "stdout",
     "output_type": "stream",
     "text": [
      "The probability of having the disease given testing positive is: 0.16101694915254225\n"
     ]
    }
   ],
   "source": [
    "# prior probabilities\n",
    "p_D = 0.01\n",
    "p_notD = 0.99\n",
    "\n",
    "# likelihoods\n",
    "p_pos_given_D = 0.95\n",
    "p_neg_given_notD = 0.95\n",
    "\n",
    "# total probability of testing positive\n",
    "p_pos = p_pos_given_D * p_D + (1 - p_neg_given_notD) * p_notD\n",
    "\n",
    "# posterior probability of having the disease given testing positive\n",
    "p_D_given_pos = p_pos_given_D * p_D / p_pos\n",
    "\n",
    "print(\"The probability of having the disease given testing positive is:\", p_D_given_pos)"
   ]
  },
  {
   "cell_type": "markdown",
   "id": "1f94c1c7-a711-45e8-8094-9ab5624807fc",
   "metadata": {},
   "source": [
    "Q7. Calculate the 95% confidence interval for a sample of data with a mean of 50 and a standard deviation of 5. Interpret the results."
   ]
  },
  {
   "cell_type": "code",
   "execution_count": 1,
   "id": "a59c4193-3dc9-43d6-a194-6a85c2e344eb",
   "metadata": {},
   "outputs": [
    {
     "name": "stdout",
     "output_type": "stream",
     "text": [
      "The 95% confidence interval is (49.02, 50.98)\n"
     ]
    }
   ],
   "source": [
    "import math\n",
    "\n",
    "mean = 50\n",
    "std_dev = 5\n",
    "sample_size = 100 # let's assume the sample size is 100\n",
    "\n",
    "lower_bound = mean - 1.96 * (std_dev / math.sqrt(sample_size))\n",
    "upper_bound = mean + 1.96 * (std_dev / math.sqrt(sample_size))\n",
    "\n",
    "print(f\"The 95% confidence interval is ({lower_bound:.2f}, {upper_bound:.2f})\")"
   ]
  },
  {
   "cell_type": "markdown",
   "id": "84b62aa0-846b-40ba-973e-603ea0e03d23",
   "metadata": {},
   "source": [
    "Q8. What is the margin of error in a confidence interval? How does sample size affect the margin of error? Provide an example of a scenario where a larger sample size would result in a smaller margin of error."
   ]
  },
  {
   "cell_type": "markdown",
   "id": "5ca36f6c-4c45-4537-a465-e7c8149339f0",
   "metadata": {},
   "source": [
    "The margin of error is the maximum amount by which the sample estimate might differ from the true population parameter at a given level of confidence. "
   ]
  },
  {
   "cell_type": "markdown",
   "id": "21da4740-79b1-4917-a533-444f20cd1ac4",
   "metadata": {},
   "source": [
    "The sample size affects the margin of error in the following way: as the sample size increases, the margin of error decreases. "
   ]
  },
  {
   "cell_type": "code",
   "execution_count": 2,
   "id": "37786318-77eb-4938-9043-4e083aeb58dc",
   "metadata": {},
   "outputs": [
    {
     "name": "stdout",
     "output_type": "stream",
     "text": [
      "The sample mean is 50.02 with a margin of error of 0.90\n"
     ]
    }
   ],
   "source": [
    "import random\n",
    "import statistics\n",
    "\n",
    "# generate a population of 10,000 values with mean=50 and standard deviation=5\n",
    "population = [random.normalvariate(50, 5) for _ in range(10000)]\n",
    "\n",
    "# take a sample of size 100 and calculate its mean and standard deviation\n",
    "sample = random.sample(population, 100)\n",
    "sample_mean = statistics.mean(sample)\n",
    "sample_std_dev = statistics.stdev(sample)\n",
    "\n",
    "# calculate the margin of error for a 95% confidence interval\n",
    "z_score = 1.96 # critical value for 95% confidence interval\n",
    "standard_error = sample_std_dev / math.sqrt(100)\n",
    "margin_of_error = z_score * standard_error\n",
    "\n",
    "print(f\"The sample mean is {sample_mean:.2f} with a margin of error of {margin_of_error:.2f}\")\n"
   ]
  },
  {
   "cell_type": "markdown",
   "id": "0f1d4bef-110e-4be8-99ee-018e0da0664f",
   "metadata": {},
   "source": [
    "Q9. Calculate the z-score for a data point with a value of 75, a population mean of 70, and a population standard deviation of 5. Interpret the results."
   ]
  },
  {
   "cell_type": "markdown",
   "id": "1ce4e078-2300-4e1d-b325-0a8e21bef487",
   "metadata": {},
   "source": [
    "To calculate the z-score, we use the following formula:\n",
    "\n",
    "z = (x - μ) / σ\n",
    "\n",
    "where x is the value of the data point, μ is the population mean, and σ is the population standard deviation.\n",
    "\n",
    "Substituting the given values, we get:\n",
    "\n",
    "z = (75 - 70) / 5\n",
    "\n",
    "z = 1\n",
    "\n",
    "Therefore, the z-score for a data point with a value of 75, a population mean of 70, and a population standard deviation of 5 is 1."
   ]
  },
  {
   "cell_type": "markdown",
   "id": "bf007dc6-ac8c-4fc4-af75-78dd3c18f71e",
   "metadata": {},
   "source": [
    "Q10. In a study of the effectiveness of a new weight loss drug, a sample of 50 participants lost an averagevof 6 pounds with a standard deviation of 2.5 pounds. Conduct a hypothesis test to determine if the drug is significantly effective at a 95% confidence level using a t-test."
   ]
  },
  {
   "cell_type": "code",
   "execution_count": 6,
   "id": "8295dc22-f2e2-48c0-9245-ef0b1ae08a62",
   "metadata": {},
   "outputs": [
    {
     "name": "stdout",
     "output_type": "stream",
     "text": [
      "Reject the null hypothesis.\n"
     ]
    }
   ],
   "source": [
    "import scipy.stats as stats\n",
    "\n",
    "# Sample statistics\n",
    "n = 50\n",
    "x_bar = 6\n",
    "s = 2.5\n",
    "\n",
    "# Hypotheses\n",
    "mu_0 = 0\n",
    "alpha = 0.05\n",
    "\n",
    "# Calculate the t-value\n",
    "t_value = (x_bar - mu_0) / (s / (n ** 0.5))\n",
    "\n",
    "# Calculate the degrees of freedom\n",
    "df = n - 1\n",
    "\n",
    "# Calculate the critical t-value\n",
    "t_crit = stats.t.ppf(alpha/2, df), stats.t.ppf(1-alpha/2, df)\n",
    "\n",
    "# Decision\n",
    "if t_value < t_crit[0] or t_value > t_crit[1]:\n",
    "    print(\"Reject the null hypothesis.\")\n",
    "else:\n",
    "    print(\"Fail to reject the null hypothesis.\")"
   ]
  },
  {
   "cell_type": "markdown",
   "id": "90aa9c3c-5e06-4b7f-9bce-11ea6431ef8e",
   "metadata": {},
   "source": [
    "Q11. In a survey of 500 people, 65% reported being satisfied with their current job. Calculate the 95% confidence interval for the true proportion of people who are satisfied with their job."
   ]
  },
  {
   "cell_type": "code",
   "execution_count": 7,
   "id": "7f846223-a588-4710-8bd5-036356dfc3e9",
   "metadata": {},
   "outputs": [
    {
     "name": "stdout",
     "output_type": "stream",
     "text": [
      "The 95% confidence interval for the true proportion of people who are satisfied with their job is (0.6082, 0.6918).\n"
     ]
    }
   ],
   "source": [
    "import math\n",
    "\n",
    "# Sample statistics\n",
    "p = 0.65\n",
    "n = 500\n",
    "z = 1.96  # for a 95% confidence level\n",
    "\n",
    "# Calculate the standard error\n",
    "se = math.sqrt((p * (1 - p)) / n)\n",
    "\n",
    "# Calculate the confidence interval\n",
    "lower_ci = p - z * se\n",
    "upper_ci = p + z * se\n",
    "\n",
    "# Print the result\n",
    "print(\"The 95% confidence interval for the true proportion of people who are satisfied with their job is ({:.4f}, {:.4f}).\".format(lower_ci, upper_ci))"
   ]
  },
  {
   "cell_type": "markdown",
   "id": "99661264-bc3f-4678-aa73-3d733fe7b5d9",
   "metadata": {},
   "source": [
    "Q12. A researcher is testing the effectiveness of two different teaching methods on student performance. Sample A has a mean score of 85 with a standard deviation of 6, while sample B has a mean score of 82 with a standard deviation of 5. Conduct a hypothesis test to determine if the two teaching methods have a significant difference in student performance using a t-test with a significance level of 0.01."
   ]
  },
  {
   "cell_type": "code",
   "execution_count": 8,
   "id": "6d63f664-8ee7-4638-bbce-69bf7fae1bbd",
   "metadata": {},
   "outputs": [
    {
     "name": "stdout",
     "output_type": "stream",
     "text": [
      "Reject the null hypothesis.\n"
     ]
    }
   ],
   "source": [
    "import scipy.stats as stats\n",
    "\n",
    "# Sample statistics\n",
    "n_A = 50\n",
    "x_bar_A = 85\n",
    "s_A = 6\n",
    "\n",
    "n_B = 50\n",
    "x_bar_B = 82\n",
    "s_B = 5\n",
    "\n",
    "# Hypotheses\n",
    "alpha = 0.01\n",
    "\n",
    "# Calculate the pooled standard deviation\n",
    "s_pooled = ((n_A - 1) * s_A ** 2 + (n_B - 1) * s_B ** 2) / (n_A + n_B - 2)\n",
    "s_pooled = s_pooled ** 0.5\n",
    "\n",
    "# Calculate the t-value\n",
    "t_value = (x_bar_A - x_bar_B) / (s_pooled * (1/n_A + 1/n_B) ** 0.5)\n",
    "\n",
    "# Calculate the degrees of freedom\n",
    "df = n_A + n_B - 2\n",
    "\n",
    "# Calculate the critical t-value\n",
    "t_crit = stats.t.ppf(alpha/2, df), stats.t.ppf(1-alpha/2, df)\n",
    "\n",
    "# Decision\n",
    "if t_value < t_crit[0] or t_value > t_crit[1]:\n",
    "    print(\"Reject the null hypothesis.\")\n",
    "else:\n",
    "    print(\"Fail to reject the null hypothesis.\")"
   ]
  },
  {
   "cell_type": "markdown",
   "id": "4f0c0e6f-688a-46b2-9edd-d5a2e4aa6ebe",
   "metadata": {},
   "source": [
    "Q13. A population has a mean of 60 and a standard deviation of 8. A sample of 50 observations has a mean of 65. Calculate the 90% confidence interval for the true population mean."
   ]
  },
  {
   "cell_type": "code",
   "execution_count": 9,
   "id": "c77902b8-bd2e-4570-b99c-1ef21ffe4b41",
   "metadata": {},
   "outputs": [
    {
     "name": "stdout",
     "output_type": "stream",
     "text": [
      "The 90% confidence interval for the true population mean is (63.14, 66.86).\n"
     ]
    }
   ],
   "source": [
    "import scipy.stats as stats\n",
    "import math\n",
    "\n",
    "# Sample statistics\n",
    "n = 50\n",
    "x_bar = 65\n",
    "mu = 60\n",
    "sigma = 8\n",
    "\n",
    "# Hypotheses\n",
    "alpha = 0.1  # 90% confidence level\n",
    "\n",
    "# Calculate the standard error\n",
    "se = sigma / math.sqrt(n)\n",
    "\n",
    "# Calculate the critical value\n",
    "z_crit = stats.norm.ppf(1 - alpha/2)\n",
    "\n",
    "# Calculate the confidence interval\n",
    "lower_bound = x_bar - z_crit * se\n",
    "upper_bound = x_bar + z_crit * se\n",
    "\n",
    "# Print the result\n",
    "print(f\"The 90% confidence interval for the true population mean is ({lower_bound:.2f}, {upper_bound:.2f}).\")"
   ]
  },
  {
   "cell_type": "markdown",
   "id": "8e5e6feb-b2c2-4a0e-9cbb-79ad91ca2bde",
   "metadata": {},
   "source": [
    "Q14. In a study of the effects of caffeine on reaction time, a sample of 30 participants had an average reaction time of 0.25 seconds with a standard deviation of 0.05 seconds. Conduct a hypothesis test to determine if the caffeine has a significant effect on reaction time at a 90% confidence level using a t-test."
   ]
  },
  {
   "cell_type": "code",
   "execution_count": 10,
   "id": "0ad50551-de82-47a9-a5cb-ae3ec1211a01",
   "metadata": {},
   "outputs": [
    {
     "name": "stdout",
     "output_type": "stream",
     "text": [
      "t = 27.39\n",
      "t critical = -1.70\n",
      "p-value = 0.0000\n",
      "Reject the null hypothesis.\n"
     ]
    }
   ],
   "source": [
    "import scipy.stats as stats\n",
    "import math\n",
    "\n",
    "# Sample statistics\n",
    "n1 = 30\n",
    "x1 = 0.25\n",
    "s1 = 0.05\n",
    "\n",
    "# Assumed population mean and alpha level\n",
    "mu = 0\n",
    "alpha = 0.1  # 90% confidence level\n",
    "\n",
    "# Degrees of freedom\n",
    "df = n1 - 1\n",
    "\n",
    "# Calculate the t-statistic\n",
    "t = (x1 - mu) / (s1 / math.sqrt(n1))\n",
    "\n",
    "# Calculate the critical value\n",
    "t_crit = stats.t.ppf(alpha/2, df=df, loc=0, scale=1)\n",
    "\n",
    "# Calculate the p-value\n",
    "p_value = stats.t.sf(abs(t), df=df) * 2\n",
    "\n",
    "# Print the results\n",
    "print(f\"t = {t:.2f}\")\n",
    "print(f\"t critical = {t_crit:.2f}\")\n",
    "print(f\"p-value = {p_value:.4f}\")\n",
    "\n",
    "if abs(t) > abs(t_crit):\n",
    "    print(\"Reject the null hypothesis.\")\n",
    "else:\n",
    "    print(\"Fail to reject the null hypothesis.\")\n"
   ]
  }
 ],
 "metadata": {
  "kernelspec": {
   "display_name": "Python 3 (ipykernel)",
   "language": "python",
   "name": "python3"
  },
  "language_info": {
   "codemirror_mode": {
    "name": "ipython",
    "version": 3
   },
   "file_extension": ".py",
   "mimetype": "text/x-python",
   "name": "python",
   "nbconvert_exporter": "python",
   "pygments_lexer": "ipython3",
   "version": "3.10.8"
  }
 },
 "nbformat": 4,
 "nbformat_minor": 5
}
