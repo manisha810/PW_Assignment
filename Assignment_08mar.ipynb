{
 "cells": [
  {
   "cell_type": "markdown",
   "id": "1659d762-37ec-4446-a21b-73a65321621e",
   "metadata": {},
   "source": [
    "Q1. What is the Probability density function?"
   ]
  },
  {
   "cell_type": "markdown",
   "id": "c6c5fceb-51b4-4a62-a186-60f263ca5ce8",
   "metadata": {},
   "source": [
    "A probability density function (PDF) is a mathematical function that describes the probability distribution of a continuous random variable."
   ]
  },
  {
   "cell_type": "markdown",
   "id": "a264c5fe-e110-4547-b299-b5f5a349e3e5",
   "metadata": {},
   "source": [
    "Q2. What are the types of Probability distribution?"
   ]
  },
  {
   "cell_type": "markdown",
   "id": "a38245ac-10bb-47ff-928d-dda06b32924e",
   "metadata": {},
   "source": [
    "1.Discrete Probability Distribution: This type of distribution describes the probability of discrete or countable events. For example, the binomial distribution and the Poisson distribution are discrete probability distributions."
   ]
  },
  {
   "cell_type": "markdown",
   "id": "e12dd03e-7a9f-4cd2-a3b2-1ccc2fef8328",
   "metadata": {},
   "source": [
    "2.Continuous Probability Distribution: This type of distribution describes the probability of continuous events. For example, the normal distribution and the exponential distribution are continuous probability distributions."
   ]
  },
  {
   "cell_type": "markdown",
   "id": "124c2f25-9d3d-40e9-9dca-cd181547c383",
   "metadata": {},
   "source": [
    "3.Bernoulli Distribution: This distribution describes the probability of a single trial with two possible outcomes, such as success or failure."
   ]
  },
  {
   "cell_type": "markdown",
   "id": "c680f409-bf92-4b35-91bc-56d301cf9203",
   "metadata": {},
   "source": [
    "4.Binomial Distribution: This distribution describes the probability of a fixed number of successes in a fixed number of independent trials, where each trial has two possible outcomes."
   ]
  },
  {
   "cell_type": "markdown",
   "id": "6ed3c8a3-95e7-4edb-88db-fa290e17e340",
   "metadata": {},
   "source": [
    "5.Poisson Distribution: This distribution describes the probability of a certain number of events occurring in a fixed interval of time or space, when the events occur independently and at a constant rate."
   ]
  },
  {
   "cell_type": "markdown",
   "id": "5710b11b-7079-4a83-a153-581b4feadda3",
   "metadata": {},
   "source": [
    "6.Normal Distribution: This distribution, also known as the Gaussian distribution, describes a continuous probability distribution that is often used to describe real-world phenomena such as heights, weights, and test scores."
   ]
  },
  {
   "cell_type": "markdown",
   "id": "522a108f-32be-4b50-8642-bf79112a4221",
   "metadata": {},
   "source": [
    "7.Exponential Distribution: This distribution describes the probability of the time between events occurring in a Poisson process."
   ]
  },
  {
   "cell_type": "markdown",
   "id": "48bb1004-7880-4d1b-a82a-e3e198935156",
   "metadata": {},
   "source": [
    "Q3. Write a Python function to calculate the probability density function of a normal distribution with given mean and standard deviation at a given point."
   ]
  },
  {
   "cell_type": "code",
   "execution_count": 5,
   "id": "90f851de-ccef-4e25-a6d5-18a1bac62345",
   "metadata": {},
   "outputs": [
    {
     "name": "stdout",
     "output_type": "stream",
     "text": [
      "PDF at x = 1.5 with mean = 2 and standard deviation = 0.5 is 0.48394144903828673\n"
     ]
    }
   ],
   "source": [
    "import math\n",
    "\n",
    "def normal_pdf(x, mu, sigma):\n",
    "    \"\"\"\n",
    "    Calculates the probability density function of a normal distribution at a given point x.\n",
    "    mu: mean of the distribution\n",
    "    sigma: standard deviation of the distribution\n",
    "    x: point at which to calculate the PDF\n",
    "    \"\"\"\n",
    "    # Calculate the exponent in the PDF formula\n",
    "    exponent = -1 * ((x - mu) ** 2) / (2 * sigma ** 2)\n",
    "\n",
    "    # Calculate the coefficient in the PDF formula\n",
    "    coefficient = 1 / (sigma * math.sqrt(2 * math.pi))\n",
    "\n",
    "    # Calculate the PDF\n",
    "    pdf = coefficient * math.exp(exponent)\n",
    "\n",
    "    # Print the PDF\n",
    "    print(\"PDF at x = {} with mean = {} and standard deviation = {} is {}\".format(x, mu, sigma, pdf))\n",
    "\n",
    "    # Return the PDF\n",
    "    return pdf\n",
    "pdf = normal_pdf(1.5, 2, 0.5)"
   ]
  },
  {
   "cell_type": "markdown",
   "id": "240de93d-1f9d-4283-9c79-be2c5a0ad833",
   "metadata": {},
   "source": [
    "Q4. What are the properties of Binomial distribution? Give two examples of events where binomial distribution can be applied."
   ]
  },
  {
   "cell_type": "markdown",
   "id": "62039a51-e490-49db-9b06-91d10163f62e",
   "metadata": {},
   "source": [
    "Some properties of the binomial distribution are:"
   ]
  },
  {
   "cell_type": "markdown",
   "id": "bb8a504c-bfce-4122-a3c1-260954bec2ff",
   "metadata": {},
   "source": [
    "1.The trials are independent: The outcome of one trial does not affect the outcome of any other trial."
   ]
  },
  {
   "cell_type": "markdown",
   "id": "acd1d69e-68a2-4d0e-9a1e-f105df7864af",
   "metadata": {},
   "source": [
    "2.The probability of success is constant: The probability of success (p) is the same for each trial."
   ]
  },
  {
   "cell_type": "markdown",
   "id": "75b8c596-0c0c-4de8-93df-3fb5f4bcff89",
   "metadata": {},
   "source": [
    "3.The distribution is discrete: The binomial distribution only applies to discrete events, where the number of trials (n) and the number of successes (x) are both integers."
   ]
  },
  {
   "cell_type": "markdown",
   "id": "2257146d-932a-477b-a511-a0cd02295ee3",
   "metadata": {},
   "source": [
    "4.The distribution is bounded: The binomial distribution is only defined for values of x between 0 and n."
   ]
  },
  {
   "cell_type": "markdown",
   "id": "685ba096-21fc-41b1-8040-8859f8d38d90",
   "metadata": {},
   "source": [
    "Two examples of events where the binomial distribution can be applied are:"
   ]
  },
  {
   "cell_type": "markdown",
   "id": "b9958ac0-e579-4909-96ba-cb91fdcd0169",
   "metadata": {},
   "source": [
    "1.A coin toss: A coin toss can be modeled as a binomial distribution, where the number of trials (n) is the number of times the coin is flipped, and the number of successes (x) is the number of times the coin comes up heads. The probability of success (p) is 0.5, assuming the coin is fair."
   ]
  },
  {
   "cell_type": "markdown",
   "id": "648715a4-646a-444d-bc8b-476597e20c38",
   "metadata": {},
   "source": [
    "2.Quality control: A manufacturer may randomly sample a batch of products and test each one for defects. The number of defects found can be modeled as a binomial distribution, where the number of trials (n) is the number of products tested, and the number of successes (x) is the number of defective products found. The probability of success (p) is the proportion of defective products in the batch."
   ]
  },
  {
   "cell_type": "markdown",
   "id": "078cd045-bc70-4b5a-8a7b-7272d7dc4da2",
   "metadata": {},
   "source": [
    "Q5. Generate a random sample of size 1000 from a binomial distribution with probability of success 0.4 and plot a histogram of the results using matplotlib."
   ]
  },
  {
   "cell_type": "code",
   "execution_count": 6,
   "id": "eb509413-310e-4ec2-b327-9eb1788d51c4",
   "metadata": {},
   "outputs": [
    {
     "data": {
      "image/png": "[encoded data removed]",
      "text/plain": [
       "<Figure size 640x480 with 1 Axes>"
      ]
     },
     "metadata": {},
     "output_type": "display_data"
    }
   ],
   "source": [
    "import numpy as np\n",
    "import matplotlib.pyplot as plt\n",
    "\n",
    "# Set the parameters of the binomial distribution\n",
    "n = 100    # number of trials\n",
    "p = 0.4    # probability of success\n",
    "\n",
    "# Generate a random sample of size 1000 from the binomial distribution\n",
    "sample = np.random.binomial(n, p, size=1000)\n",
    "\n",
    "# Plot a histogram of the sample using matplotlib\n",
    "plt.hist(sample, bins=range(n+1))\n",
    "plt.xlabel('Number of Successes')\n",
    "plt.ylabel('Frequency')\n",
    "plt.title('Binomial Distribution with n=100 and p=0.4')\n",
    "plt.show()"
   ]
  },
  {
   "cell_type": "markdown",
   "id": "ccb25a98-9bd1-446e-8846-68d296bc8758",
   "metadata": {},
   "source": [
    "Q6. Write a Python function to calculate the cumulative distribution function of a Poisson distribution with given mean at a given point."
   ]
  },
  {
   "cell_type": "code",
   "execution_count": 7,
   "id": "f1f14339-e691-428a-aab2-2de8b2cd72fd",
   "metadata": {},
   "outputs": [
    {
     "name": "stdout",
     "output_type": "stream",
     "text": [
      "CDF at x = 3 with mean = 2 is 0.8571234604985472\n"
     ]
    }
   ],
   "source": [
    "import math\n",
    "\n",
    "def poisson_cdf(x, mu):\n",
    "    \"\"\"\n",
    "    Calculates the cumulative distribution function of a Poisson distribution at a given point x.\n",
    "    mu: mean of the distribution\n",
    "    x: point at which to calculate the CDF\n",
    "    \"\"\"\n",
    "    # Calculate the CDF using the formula for a Poisson distribution\n",
    "    cdf = 0\n",
    "    for i in range(x+1):\n",
    "        cdf += math.exp(-mu) * mu ** i / math.factorial(i)\n",
    "\n",
    "    # Print the CDF\n",
    "    print(\"CDF at x = {} with mean = {} is {}\".format(x, mu, cdf))\n",
    "\n",
    "    # Return the CDF\n",
    "    return cdf\n",
    "cdf = poisson_cdf(3, 2)"
   ]
  },
  {
   "cell_type": "markdown",
   "id": "e2cf68df-ca44-470f-81af-02b94fda7559",
   "metadata": {},
   "source": [
    "Q7. How Binomial distribution different from Poisson distribution?"
   ]
  },
  {
   "cell_type": "markdown",
   "id": "3967d343-1618-4e6f-b62d-a0de6305a672",
   "metadata": {},
   "source": [
    "The binomial distribution is used to model the number of successes in a fixed number of independent trials with two possible outcomes, while the Poisson distribution is used to model the number of random and independent events that occur in a fixed interval of time or space."
   ]
  },
  {
   "cell_type": "markdown",
   "id": "671cf6fe-8901-427f-b8e3-c282f453cd90",
   "metadata": {},
   "source": [
    "Q8. Generate a random sample of size 1000 from a Poisson distribution with mean 5 and calculate the sample mean and variance."
   ]
  },
  {
   "cell_type": "code",
   "execution_count": 8,
   "id": "692f047a-35f6-43f5-9bfc-1ace75dbcbd6",
   "metadata": {},
   "outputs": [
    {
     "name": "stdout",
     "output_type": "stream",
     "text": [
      "Sample Mean: 4.994\n",
      "Sample Variance: 5.039003003003003\n"
     ]
    }
   ],
   "source": [
    "import numpy as np\n",
    "\n",
    "# Set the parameters of the Poisson distribution\n",
    "mu = 5    # mean\n",
    "\n",
    "# Generate a random sample of size 1000 from the Poisson distribution\n",
    "sample = np.random.poisson(mu, size=1000)\n",
    "\n",
    "# Calculate the sample mean and variance\n",
    "sample_mean = np.mean(sample)\n",
    "sample_var = np.var(sample, ddof=1)\n",
    "\n",
    "# Print the sample mean and variance\n",
    "print(\"Sample Mean:\", sample_mean)\n",
    "print(\"Sample Variance:\", sample_var)"
   ]
  },
  {
   "cell_type": "markdown",
   "id": "4a1780c4-b629-4557-9b4f-656e430bcc73",
   "metadata": {},
   "source": [
    "Q9. How mean and variance are related in Binomial distribution and Poisson distribution?"
   ]
  },
  {
   "cell_type": "markdown",
   "id": "be32eb32-1f13-4b91-82aa-6f8a7db7ac4f",
   "metadata": {},
   "source": [
    "In a Binomial distribution, the variance is proportional to np(1-p), while in a Poisson distribution, the variance is equal to the mean."
   ]
  },
  {
   "cell_type": "markdown",
   "id": "f801f7df-dd74-4db9-aaf1-165818de7abe",
   "metadata": {},
   "source": [
    "Q10. In normal distribution with respect to mean position, where does the least frequent data appear?"
   ]
  },
  {
   "cell_type": "markdown",
   "id": "864455ea-5770-4939-8bc0-2621087d36f8",
   "metadata": {},
   "source": [
    "In a normal distribution, the least frequent data appears in the tails of the distribution, which are located farthest from the mean. "
   ]
  }
 ],
 "metadata": {
  "kernelspec": {
   "display_name": "Python 3 (ipykernel)",
   "language": "python",
   "name": "python3"
  },
  "language_info": {
   "codemirror_mode": {
    "name": "ipython",
    "version": 3
   },
   "file_extension": ".py",
   "mimetype": "text/x-python",
   "name": "python",
   "nbconvert_exporter": "python",
   "pygments_lexer": "ipython3",
   "version": "3.10.8"
  }
 },
 "nbformat": 4,
 "nbformat_minor": 5
}
