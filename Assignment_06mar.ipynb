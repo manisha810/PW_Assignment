{
 "cells": [
  {
   "cell_type": "markdown",
   "id": "2542787b-e179-4b7a-8aa7-aad722f723ea",
   "metadata": {},
   "source": [
    "Q1. What is Statistics?"
   ]
  },
  {
   "cell_type": "markdown",
   "id": "d2cfea30-ddd2-4b89-9cbf-468bb7f94772",
   "metadata": {},
   "source": [
    "Statistics is a branch of mathematics that deals with collecting, analyzing, and interpreting data. It involves methods for summarizing and describing data, making inferences and predictions about populations based on sample data, and testing hypotheses."
   ]
  },
  {
   "cell_type": "markdown",
   "id": "f6032067-fa99-4818-9088-2d64b4f89172",
   "metadata": {},
   "source": [
    "Q2. Define the different types of statistics and give an example of when each type might be used."
   ]
  },
  {
   "cell_type": "markdown",
   "id": "6b35b6bc-572a-4892-b0da-2aca884e6b41",
   "metadata": {},
   "source": [
    "1.Descriptive Statistics: Descriptive statistics involves summarizing and describing the characteristics of a dataset. \n",
    "example: - A marketing company analyzing sales data to determine the average amount spent by customers on a particular product."
   ]
  },
  {
   "cell_type": "markdown",
   "id": "a2e02987-a160-4823-a2be-3eaa72ec0ac3",
   "metadata": {},
   "source": [
    "2.Inferential Statistics: Inferential statistics involves making inferences and predictions about a population based on a sample of data. It is used to draw conclusions about a larger group or population based on a smaller sample.\n",
    "example:- A political pollster conducting a survey of likely voters to predict the outcome of an election."
   ]
  },
  {
   "cell_type": "markdown",
   "id": "20dd2370-e879-49dc-b5a4-b80026c2be60",
   "metadata": {},
   "source": [
    "Q3. What are the different types of data and how do they differ from each other? Provide an example of each type of data."
   ]
  },
  {
   "cell_type": "markdown",
   "id": "565582b4-0546-4daf-b4c0-ed2f1232c107",
   "metadata": {},
   "source": [
    "1.Nominal Data: Nominal data is categorical data in which the categories have no inherent order or ranking. It is used to label variables and cannot be ordered or measured numerically.\n",
    "example:- gender (male or female), race (Caucasian, African American, Hispanic, etc.), and marital status (single, married, divorced, etc.)."
   ]
  },
  {
   "cell_type": "markdown",
   "id": "e8043a18-66bb-48a3-9fa5-d8b4dd205beb",
   "metadata": {},
   "source": [
    "2.Ordinal Data: Ordinal data is categorical data in which the categories have a natural order or ranking. It is used to label variables that can be ordered or ranked, but the differences between values are not necessarily meaningful or consistent.\n",
    "example:- socioeconomic status (low, middle, high), educational level (elementary, high school, college), and performance ratings (poor, fair, good, excellent)."
   ]
  },
  {
   "cell_type": "markdown",
   "id": "1d0fc40b-f379-43cd-8c46-e6c9aa85dd18",
   "metadata": {},
   "source": [
    "3.Interval Data: Interval data is numerical data in which the differences between values are meaningful and consistent, but there is no true zero point. It is used to label variables that can be measured on a continuous scale with equal intervals between values, but where zero does not indicate an absence of the variable.\n",
    "example:- temperature (measured in Celsius or Fahrenheit), dates (measured in days, months, or years), and IQ scores."
   ]
  },
  {
   "cell_type": "markdown",
   "id": "3f0cf7db-06f2-43a0-a95b-4d890f2ad582",
   "metadata": {},
   "source": [
    "4.Ratio Data: Ratio data is numerical data in which the differences between values are meaningful and consistent, and there is a true zero point. It is used to label variables that can be measured on a continuous scale with equal intervals between values, and where zero indicates an absence of the variable. \n",
    "example:- height (measured in inches or centimeters), weight (measured in pounds or kilograms), and income (measured in dollars or euros)."
   ]
  },
  {
   "cell_type": "markdown",
   "id": "c007e604-5cf2-47d6-aa98-ed60ed96c74f",
   "metadata": {},
   "source": [
    "Q4. Categorise the following datasets with respect to quantitative and qualitative data types:\n",
    "(i) Grading in exam: A+, A, B+, B, C+, C, D, E\n",
    "(ii) Colour of mangoes: yellow, green, orange, red\n",
    "(iii) Height data of a class: [178.9, 179, 179.5, 176, 177.2, 178.3, 175.8,...]\n",
    "(iv) Number of mangoes exported by a farm: [500, 600, 478, 672, ...]"
   ]
  },
  {
   "cell_type": "markdown",
   "id": "f4d93629-dfb6-4ff9-90f6-036a56761e83",
   "metadata": {},
   "source": [
    "(i) Grading in exam: A+, A, B+, B, C+, C, D, E ---> Data type: Qualitative data (Ordinal)"
   ]
  },
  {
   "cell_type": "markdown",
   "id": "e3f3265d-cff0-45a0-b642-bf69e3a47e9b",
   "metadata": {},
   "source": [
    "(ii) Colour of mangoes: yellow, green, orange, red  ---> Data type: Qualitative data (Nominal)"
   ]
  },
  {
   "cell_type": "markdown",
   "id": "6289817c-b046-4a00-a171-17808ac29aa9",
   "metadata": {},
   "source": [
    "(iii) Height data of a class: [178.9, 179, 179.5, 176, 177.2, 178.3, 175.8,...]  ---> Data type: Quantitative data (Continuous, Interval)"
   ]
  },
  {
   "cell_type": "markdown",
   "id": "ab38ae39-6ed5-47be-9b3f-ba7f979760a9",
   "metadata": {},
   "source": [
    "(iv) Number of mangoes exported by a farm: [500, 600, 478, 672, ...]  ---> Data type: Quantitative data (Discrete, Ratio)"
   ]
  },
  {
   "cell_type": "markdown",
   "id": "f7b60b2c-9ca4-4fc7-a220-45e5fdd44893",
   "metadata": {},
   "source": [
    "Q5. Explain the concept of levels of measurement and give an example of a variable for each level."
   ]
  },
  {
   "cell_type": "markdown",
   "id": "1f97d354-20d6-40ed-9a9c-8133ae0dd963",
   "metadata": {},
   "source": [
    "Levels of measurement, also known as scales of measurement, refer to the different ways in which variables can be measured or classified. There are four main levels of measurement: nominal, ordinal, interval, and ratio."
   ]
  },
  {
   "cell_type": "markdown",
   "id": "a0804a62-dc73-4819-a15d-9560191b9ebe",
   "metadata": {},
   "source": [
    "1.Nominal Level of Measurement: \n",
    "Gender (male, female)\n",
    "Marital status (single, married, divorced)\n",
    "Eye color (blue, green, brown)"
   ]
  },
  {
   "cell_type": "markdown",
   "id": "01625411-4eec-4fa5-894a-565870688781",
   "metadata": {},
   "source": [
    "2.Ordinal Level of Measurement: \n",
    "Educational level (elementary, high school, college)\n",
    "Performance ratings (poor, fair, good, excellent)\n",
    "Socioeconomic status (low, middle, high)    "
   ]
  },
  {
   "cell_type": "markdown",
   "id": "9c8e7956-4713-48d9-8c2e-49f0450823d4",
   "metadata": {},
   "source": [
    "3.Interval Level of Measurement:\n",
    "Temperature (measured in Celsius or Fahrenheit)\n",
    "Dates (measured in days, months, or years)\n",
    "IQ scores"
   ]
  },
  {
   "cell_type": "markdown",
   "id": "4054b8cc-b418-46c7-85b0-eb46309d15e3",
   "metadata": {},
   "source": [
    "4.Ratio Level of Measurement: \n",
    "Height (measured in inches or centimeters)\n",
    "Weight (measured in pounds or kilograms)\n",
    "Income (measured in dollars or euros)"
   ]
  },
  {
   "cell_type": "markdown",
   "id": "f40cbb76-d086-4c0a-a486-1ad75ed763b8",
   "metadata": {},
   "source": [
    "Q6. Why is it important to understand the level of measurement when analyzing data? Provide an\n",
    "example to illustrate your answer."
   ]
  },
  {
   "cell_type": "markdown",
   "id": "2740375b-f212-4841-8da0-651d25fb0c34",
   "metadata": {},
   "source": [
    "Understanding the level of measurement of a variable is important because it determines the types of statistical analyses that can be performed on the data. Different levels of measurement require different statistical tests and techniques for analysis, and using an incorrect analysis technique can lead to inaccurate or misleading results."
   ]
  },
  {
   "cell_type": "markdown",
   "id": "60db2188-786d-4746-b104-b2a3f92a37d8",
   "metadata": {},
   "source": [
    "For example, let's consider a study that examines the relationship between height and weight in a group of individuals. If height and weight are measured on an interval or ratio scale, we can use correlation analysis to determine the strength and direction of the relationship between the two variables. However, if height and weight are measured on a nominal or ordinal scale, we cannot use correlation analysis, as these scales do not have a meaningful numerical relationship between categories. In this case, we might use contingency tables or chi-square tests to examine the association between height and weight."
   ]
  },
  {
   "cell_type": "markdown",
   "id": "b16a280d-e904-4064-a7b3-2fb70f09c2a3",
   "metadata": {},
   "source": [
    "Q7. How nominal data type is different from ordinal data type."
   ]
  },
  {
   "cell_type": "markdown",
   "id": "70ed5bf3-1be7-4832-80d6-d754e246fa27",
   "metadata": {},
   "source": [
    "Nominal data is a type of categorical data where the categories or variables have no natural order or ranking. Each category is distinct and separate, and the variables cannot be ordered or ranked."
   ]
  },
  {
   "cell_type": "markdown",
   "id": "009221e2-f577-43d6-aa1a-53bdc26b0a3c",
   "metadata": {},
   "source": [
    "Ordinal data is a type of categorical data where the categories or variables have a natural order or ranking. The values can be ordered or ranked, but the differences between values are not necessarily equal or meaningful."
   ]
  },
  {
   "cell_type": "markdown",
   "id": "065ada55-91fc-4261-96ff-bb388a859af6",
   "metadata": {},
   "source": [
    "Q8. Which type of plot can be used to display data in terms of range?"
   ]
  },
  {
   "cell_type": "markdown",
   "id": "7a5d4490-2c27-4e3d-b188-e8e9f2c3f76d",
   "metadata": {},
   "source": [
    "A box plot or box-and-whisker plot can be used to display data in terms of range. "
   ]
  },
  {
   "cell_type": "markdown",
   "id": "a6a4cde4-7210-4762-a800-451cb32c259e",
   "metadata": {},
   "source": [
    "Q9. Describe the difference between descriptive and inferential statistics. Give an example of each type of statistics and explain how they are used."
   ]
  },
  {
   "cell_type": "markdown",
   "id": "bf9cae94-ff25-45fb-af6a-f6e1e7f2d823",
   "metadata": {},
   "source": [
    "Descriptive statistics refer to the methods used to summarize and describe the basic features of a dataset. These methods include measures of central tendency, such as the mean, median, and mode, and measures of variability, such as the range, variance, and standard deviation. Descriptive statistics are used to provide a quick summary of the data and to identify any patterns or trends in the dataset. \n",
    "example:- the average age of a group of students, the frequency of different types of cars on a highway, and the percentage of students passing an exam "
   ]
  },
  {
   "cell_type": "markdown",
   "id": "7189725a-e48b-4018-bce1-6068fb66599d",
   "metadata": {},
   "source": [
    "Inferential statistics, on the other hand, refer to the methods used to draw conclusions or make predictions about a population based on a sample of data. Inferential statistics use probability theory to make inferences about the population from the sample data. Inferential statistics are used to test hypotheses and to make predictions about the population based on the sample data. \n",
    "example:-  testing whether there is a significant difference in the mean age of two different groups of students, predicting the success rate of a marketing campaign based on a sample survey, and estimating the proportion of defective products in a production line based on a sample."
   ]
  },
  {
   "cell_type": "markdown",
   "id": "2a7f0050-6696-42aa-b3a2-50300a0f4543",
   "metadata": {},
   "source": [
    "Q10. What are some common measures of central tendency and variability used in statistics? Explain how each measure can be used to describe a dataset."
   ]
  },
  {
   "cell_type": "markdown",
   "id": "a3bdc519-f286-42b2-b2ba-a261f9bce6f3",
   "metadata": {},
   "source": [
    "Measures of Central Tendency:"
   ]
  },
  {
   "cell_type": "markdown",
   "id": "77c015e0-7a55-495a-af21-29c21186853c",
   "metadata": {},
   "source": [
    "1.Mean: The mean is the average value of a dataset. It is calculated by adding up all the values in the dataset and dividing by the number of values."
   ]
  },
  {
   "cell_type": "markdown",
   "id": "d0d58356-9e2a-4471-9692-f9819a2be5ef",
   "metadata": {},
   "source": [
    "2.Median: The median is the middle value of a dataset. It is the value that separates the lower 50% of the dataset from the upper 50%. "
   ]
  },
  {
   "cell_type": "markdown",
   "id": "f90f9251-8a5a-4de9-aceb-0bd279946093",
   "metadata": {},
   "source": [
    "3.Mode: The mode is the value that appears most frequently in a dataset. "
   ]
  },
  {
   "cell_type": "markdown",
   "id": "28075ae9-e00e-4dcf-a19e-c4a44fc0c936",
   "metadata": {},
   "source": [
    "Measures of Variability:"
   ]
  },
  {
   "cell_type": "markdown",
   "id": "bdc613c1-63ad-4406-9823-cf49e8106049",
   "metadata": {},
   "source": [
    "1.Range: The range is the difference between the largest and smallest values in a dataset. It provides a measure of the spread of the dataset."
   ]
  },
  {
   "cell_type": "markdown",
   "id": "7834399d-bc85-4703-bf35-c989044998b9",
   "metadata": {},
   "source": [
    "2.Variance: The variance is a measure of how spread out the values in a dataset are from the mean. It is calculated by taking the sum of the squared differences between each value and the mean, and dividing by the number of values in the dataset. "
   ]
  },
  {
   "cell_type": "markdown",
   "id": "463b25c5-b977-4fc9-8319-75bd494aa780",
   "metadata": {},
   "source": [
    "3.Standard Deviation: The standard deviation is the square root of the variance. It is a measure of the average amount by which the values in the dataset deviate from the mean."
   ]
  }
 ],
 "metadata": {
  "kernelspec": {
   "display_name": "Python 3 (ipykernel)",
   "language": "python",
   "name": "python3"
  },
  "language_info": {
   "codemirror_mode": {
    "name": "ipython",
    "version": 3
   },
   "file_extension": ".py",
   "mimetype": "text/x-python",
   "name": "python",
   "nbconvert_exporter": "python",
   "pygments_lexer": "ipython3",
   "version": "3.10.8"
  }
 },
 "nbformat": 4,
 "nbformat_minor": 5
}
