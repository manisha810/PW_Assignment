{
 "cells": [
  {
   "cell_type": "markdown",
   "id": "399a65da-85bc-447e-a8b6-0a68d6b70c51",
   "metadata": {},
   "source": [
    "Q1. What is multithreading in python? Why is it used? Name the module used to handel thrads in pyhton."
   ]
  },
  {
   "cell_type": "markdown",
   "id": "0306c81c-e445-4322-aa70-c611ab14349d",
   "metadata": {},
   "source": [
    ". Multithreading in Python is a popular technique that enables multiple tasks to be executed simultaneously. In simple words, the ability of a processor to execute multiple threads simultaneously is known as multithreading.\n",
    ". Multithreading in Python should be used only when there is no existing inter-dependency between the threads.\n",
    ". Threading Module used to handel thrads in pyhton."
   ]
  },
  {
   "cell_type": "markdown",
   "id": "a069ab41-bc4c-4754-b411-fd7165ad8075",
   "metadata": {},
   "source": [
    "Q2. Why threading module used? Write the use of the following functions:\n",
    "    1. activeCount()\n",
    "    2. currentThread()\n",
    "    3. enumerate()"
   ]
  },
  {
   "cell_type": "markdown",
   "id": "bd332a9c-bcc3-43fa-850e-48150837889f",
   "metadata": {},
   "source": [
    "The threading module is the high-level implementation of multithreading in Python. It is the go-to approach for managing multithreaded applications. The benefits of the Threading module outweigh the ones of the Thread module.\n",
    "\n",
    "<!--   activeCount() --> \n",
    "Returns the number of thread objects that are active.\n",
    "\n",
    "<!--  currentThread() -->\n",
    "Returns the number of thread objects in the caller's thread control.\n",
    "\n",
    "<!--  enumerate()  -->\n",
    "Returns a list of all thread objects that are currently active."
   ]
  },
  {
   "cell_type": "markdown",
   "id": "49cb420b-383d-4778-97f0-6f619b95b840",
   "metadata": {},
   "source": [
    "Q3. Explain the following functions:\n",
    "    1.run()\n",
    "    2.start()\n",
    "    3.join()\n",
    "    4.isAlive()"
   ]
  },
  {
   "cell_type": "markdown",
   "id": "edc088dd-8f6b-4925-bf63-fded230f5eab",
   "metadata": {},
   "source": [
    ". run()  − The run() method is the entry point for a thread.\n",
    ". start()  − The start() method starts a thread by calling the run method.\n",
    ". join()  − The join() waits for threads to terminate.\n",
    ". isAlive()  − The isAlive() method checks whether a thread is still executing."
   ]
  },
  {
   "cell_type": "markdown",
   "id": "60ed7ae3-0608-4041-9294-dd333f3ffe94",
   "metadata": {},
   "source": [
    "Q4. Write a python program to create two threads. Thread one must print the list of square and thread two must print the list of cubes."
   ]
  },
  {
   "cell_type": "code",
   "execution_count": null,
   "id": "c8fd86de-bacd-4c16-8beb-02bda8c92337",
   "metadata": {},
   "outputs": [],
   "source": [
    "# Square\n",
    "\n",
    "import threading \n",
    "\n",
    "def sq(num):\n",
    "    print(\"square: {}\" .format(num*num))\n",
    "if __name__ == \"__main__\":\n",
    "    t = threading.Thread(target = sq, args=(5,))\n",
    "    t.start()\n",
    "    t.join()"
   ]
  },
  {
   "cell_type": "code",
   "execution_count": null,
   "id": "db1cf921-68ac-4d9d-a81e-33f9e98ed82b",
   "metadata": {},
   "outputs": [],
   "source": [
    "# Cube\n",
    "\n",
    "import threading \n",
    "\n",
    "def cube(num):\n",
    "    print(\"cubes: {}\" .format(num*num*num))\n",
    "if __name__ == \"__main__\":\n",
    "    t = threading.Thread(target = cube, args=(6,))\n",
    "    t.start()\n",
    "    t.join()"
   ]
  },
  {
   "cell_type": "markdown",
   "id": "d25dc1fc-0bdd-4332-a5fa-6dd0d8ebceda",
   "metadata": {},
   "source": [
    "Q5. State advantages and disadvantages of multithreading."
   ]
  },
  {
   "cell_type": "markdown",
   "id": "8b0d24ca-80ab-4bd1-9085-a8a0fa3cc6b7",
   "metadata": {},
   "source": [
    "<!--   Advantages: -->\n",
    ". If you have a system with multiple CPUs or cores, then you can have all CPUs executing application code all at the same time. \n",
    ". If the process needs to block for some reason (disk I/O, user input, network I/O) then while a thread or threads are blocked waiting for I/O completion other thread(s) can be doing other work."
   ]
  },
  {
   "cell_type": "markdown",
   "id": "e5dabbd8-5b37-4141-8a43-50818f64783a",
   "metadata": {},
   "source": [
    "<!--  Disadvantages: -->\n",
    ". If not following a command queue and message pump model then manual use of synchronization needed which becomes a necessity.\n",
    ". Code is usually harder to understand and increases the potential for race conditions increases dramatically."
   ]
  },
  {
   "cell_type": "markdown",
   "id": "0f69a1d9-b212-4ae2-bd17-36c8d6fe8b19",
   "metadata": {},
   "source": [
    "Q6. Explain deadlocks and race conditions."
   ]
  },
  {
   "cell_type": "markdown",
   "id": "0caa8ea7-f38d-4415-87d2-94e9ca0d081d",
   "metadata": {},
   "source": [
    "Deadlock is a situation where a process or a set of processes is blocked, waiting for some other resource that is held by some other waiting process."
   ]
  },
  {
   "cell_type": "markdown",
   "id": "11abde5d-a08f-4f7f-8028-5408a03a375d",
   "metadata": {},
   "source": [
    "race conditions when you’re working with multi-threaded applications. A race condition happens when more than one thread is trying to access a shared piece of data at the same time."
   ]
  }
 ],
 "metadata": {
  "kernelspec": {
   "display_name": "Python 3 (ipykernel)",
   "language": "python",
   "name": "python3"
  },
  "language_info": {
   "codemirror_mode": {
    "name": "ipython",
    "version": 3
   },
   "file_extension": ".py",
   "mimetype": "text/x-python",
   "name": "python",
   "nbconvert_exporter": "python",
   "pygments_lexer": "ipython3",
   "version": "3.10.8"
  }
 },
 "nbformat": 4,
 "nbformat_minor": 5
}
