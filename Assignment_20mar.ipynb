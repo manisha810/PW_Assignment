{
 "cells": [
  {
   "cell_type": "markdown",
   "id": "7e9af7ab-ef95-4908-9d0f-f3ec0c1f1fce",
   "metadata": {},
   "source": [
    "Q1. What is data encoding? How is it useful in data science?"
   ]
  },
  {
   "cell_type": "markdown",
   "id": "ae3ff523-06af-4d16-b478-1bfd277fe8bb",
   "metadata": {},
   "source": [
    "Data encoding is the process of converting data from one format or representation to another. It is commonly used in data science to prepare data for analysis, modeling, and visualization."
   ]
  },
  {
   "cell_type": "markdown",
   "id": "15562591-ade6-4dba-8861-68c3b8c36cba",
   "metadata": {},
   "source": [
    "1.Numeric Encoding: It is the process of converting categorical data into numerical format. "
   ]
  },
  {
   "cell_type": "markdown",
   "id": "5b22346d-1ee0-473f-85d7-eb170e40fc9f",
   "metadata": {},
   "source": [
    "2.Text Encoding: It involves converting text data into a numerical format that can be analyzed by machine learning algorithms. "
   ]
  },
  {
   "cell_type": "markdown",
   "id": "c6aa3ef6-d414-4b00-82e8-dba11233a33e",
   "metadata": {},
   "source": [
    "3.Image Encoding: It is the process of converting image data into numerical format that can be used in machine learning models."
   ]
  },
  {
   "cell_type": "markdown",
   "id": "cea7c1d2-50f4-40b8-a45b-9cf9b7e9a0cd",
   "metadata": {},
   "source": [
    "4.Video Encoding: It is the process of converting video data into numerical format that can be used in machine learning models. "
   ]
  },
  {
   "cell_type": "markdown",
   "id": "3bb98bcf-6857-426b-ba0a-dd6b18a06b8a",
   "metadata": {},
   "source": [
    "Q2. What is nominal encoding? Provide an example of how you would use it in a real-world scenario."
   ]
  },
  {
   "cell_type": "markdown",
   "id": "4f591d48-3daf-4a37-989f-7e6ef938fd5a",
   "metadata": {},
   "source": [
    "Nominal encoding is a type of categorical encoding used in data science. It is used to convert categorical variables into a numerical format that can be used in machine learning models."
   ]
  },
  {
   "cell_type": "markdown",
   "id": "0dfdf2bc-5ca6-4ae1-8e25-afe3293aa8f9",
   "metadata": {},
   "source": [
    "Example:-\n",
    "Suppose we have a dataset of customers with a categorical variable \"marital status\" that can take on values such as \"married\", \"single\", and \"divorced\". We could use nominal encoding to convert this variable into a numerical format by assigning an integer value to each category, such as:\n",
    "\n",
    "Married: 1\n",
    "Single: 2\n",
    "Divorced: 3\n",
    "After nominal encoding, the \"marital status\" variable would be represented as a numerical variable with integer values ranging from 1 to 3.\n",
    "\n",
    "This nominal encoding can then be used in machine learning models to predict outcomes such as customer spending habits or product preferences based on their marital status."
   ]
  },
  {
   "cell_type": "markdown",
   "id": "458db6ee-aa98-432b-be38-3d56b2f6110f",
   "metadata": {},
   "source": [
    "Q3. In what situations is nominal encoding preferred over one-hot encoding? Provide a practical example."
   ]
  },
  {
   "cell_type": "markdown",
   "id": "721147b5-b8f1-4fd0-8856-5f946181224f",
   "metadata": {},
   "source": [
    "Nominal encoding is preferred over one-hot encoding when the categorical variable has a large number of categories or when there is no particular order or hierarchy among the categories."
   ]
  },
  {
   "cell_type": "markdown",
   "id": "fe4a2e09-e90d-428f-a39d-7fe3363ae5dc",
   "metadata": {},
   "source": [
    "one-hot encoding is preferred when the categorical variable has a small number of categories and there is a clear order or hierarchy among them. "
   ]
  },
  {
   "cell_type": "markdown",
   "id": "25834c74-de82-4587-bfd6-b381f6a5ce4c",
   "metadata": {},
   "source": [
    "example:_ Suppose we have a dataset of customers with a categorical variable \"profession\" that can take on values such as \"doctor\", \"lawyer\", \"engineer\", \"teacher\", and \"artist\". If we use one-hot encoding, we would create a binary variable for each profession, resulting in a dataset with five new columns. However, if we use nominal encoding, we would assign a unique integer value to each profession, resulting in a single new column with integer values ranging from 1 to 5."
   ]
  },
  {
   "cell_type": "markdown",
   "id": "5bb4fc35-883e-4368-802c-4307c00951e4",
   "metadata": {},
   "source": [
    "In this example, nominal encoding is preferred over one-hot encoding because there is no clear hierarchy or order among the professions, and using one-hot encoding would result in a high-dimensional dataset with many new columns. Nominal encoding is a more efficient way of representing the categorical variable while preserving its information content."
   ]
  },
  {
   "cell_type": "markdown",
   "id": "44218913-4861-4374-92da-99b864a7a581",
   "metadata": {},
   "source": [
    "Q4. Suppose you have a dataset containing categorical data with 5 unique values. Which encoding technique would you use to transform this data into a format suitable for machine learning algorithms? Explain why you made this choice."
   ]
  },
  {
   "cell_type": "markdown",
   "id": "75841000-ea75-40a2-b399-c2d2960d55af",
   "metadata": {},
   "source": [
    "There are several encoding techniques that can be used to transform categorical data into a format suitable for machine learning algorithms, such as one-hot encoding, label encoding, and ordinal encoding."
   ]
  },
  {
   "cell_type": "markdown",
   "id": "dcb1529e-6d01-4350-a8c3-b8c7d4255103",
   "metadata": {},
   "source": [
    "If the categorical data has 5 unique values, one-hot encoding would be a suitable choice. One-hot encoding is a technique that creates a binary vector for each unique category in the dataset. In this case, the binary vector would have a length of 5, with a value of 1 in the position corresponding to the category and 0s in all other positions.\n",
    "\n",
    "For example, if the categories are \"red\", \"blue\", \"green\", \"yellow\", and \"purple\", the one-hot encoded vectors would be:\n",
    "\n",
    "\"red\": [1, 0, 0, 0, 0]\n",
    "\"blue\": [0, 1, 0, 0, 0]\n",
    "\"green\": [0, 0, 1, 0, 0]\n",
    "\"yellow\": [0, 0, 0, 1, 0]\n",
    "\"purple\": [0, 0, 0, 0, 1]\n",
    "One-hot encoding is a popular choice because it preserves the information in the categorical variable without assuming any inherent order or hierarchy among the categories. It also avoids the issue of assigning arbitrary numerical values to the categories, which can lead to incorrect assumptions by the machine learning algorithm."
   ]
  },
  {
   "cell_type": "markdown",
   "id": "2e9a609d-7c25-4609-8b0d-1f62f58845a1",
   "metadata": {},
   "source": [
    "Q5. In a machine learning project, you have a dataset with 1000 rows and 5 columns. Two of the columns are categorical, and the remaining three columns are numerical. If you were to use nominal encoding to transform the categorical data, how many new columns would be created? Show your calculations."
   ]
  },
  {
   "cell_type": "markdown",
   "id": "9c182bc0-d13d-446e-b91c-02fee1873814",
   "metadata": {},
   "source": [
    "To calculate the number of new columns created by nominal encoding, we need to count the total number of unique categories in both categorical columns. Let's say the first categorical column has m unique categories, and the second categorical column has n unique categories.\n",
    "\n",
    "Then, the total number of new columns created by nominal encoding would be m + n, because we need one binary column for each unique category in both columns.\n",
    "\n",
    "In this case, we don't have information about the number of unique categories in each categorical column. Therefore, we can't provide an exact answer to the question. However, if we assume that the first categorical column has 4 unique categories, and the second categorical column has 6 unique categories, then nominal encoding would create a total of 10 new columns (4+6)."
   ]
  },
  {
   "cell_type": "markdown",
   "id": "56b347c6-f2e5-4046-b241-8b8ca1754cdd",
   "metadata": {},
   "source": [
    "Q6. You are working with a dataset containing information about different types of animals, including their species, habitat, and diet. Which encoding technique would you use to transform the categorical data into a format suitable for machine learning algorithms? Justify your answer."
   ]
  },
  {
   "cell_type": "markdown",
   "id": "afc5e371-2250-466f-a633-11054e4389ce",
   "metadata": {},
   "source": [
    "Label encoding would be appropriate for the species column, which likely has a large number of unique values, and there may be some inherent order or hierarchy among them. Label encoding assigns each unique category in the column a unique numerical label based on their order or hierarchy."
   ]
  },
  {
   "cell_type": "markdown",
   "id": "47e07c77-8caf-4442-a851-c8c6a06981b9",
   "metadata": {},
   "source": [
    "For the habitat and diet columns, one-hot encoding would be more suitable because there may be multiple unique values and no inherent order among them. One-hot encoding creates a binary vector for each unique category in these columns, with a value of 1 in the position corresponding to the category and 0s in all other positions."
   ]
  },
  {
   "cell_type": "markdown",
   "id": "880de50a-6124-4423-a0e2-5f2f91bbb642",
   "metadata": {},
   "source": [
    "Q7.You are working on a project that involves predicting customer churn for a telecommunications company. You have a dataset with 5 features, including the customer's gender, age, contract type, monthly charges, and tenure. Which encoding technique(s) would you use to transform the categorical data into numerical data? Provide a step-by-step explanation of how you would implement the encoding."
   ]
  },
  {
   "cell_type": "markdown",
   "id": "cc12d3c2-0e00-40b4-b9f2-7e5cd2a63ee7",
   "metadata": {},
   "source": [
    "To transform the categorical data in the customer churn dataset into numerical data, I would suggest using label encoding for the contract type feature and one-hot encoding for the gender feature. "
   ]
  },
  {
   "cell_type": "markdown",
   "id": "8f57f670-7567-4596-b465-e9a5d3f71e55",
   "metadata": {},
   "source": [
    "1.Import the necessary libraries: I would begin by importing the necessary Python libraries such as pandas, numpy, and scikit-learn."
   ]
  },
  {
   "cell_type": "markdown",
   "id": "fb79659a-45d4-42f9-aa3f-8cac7d491c21",
   "metadata": {},
   "source": [
    "2.Load the dataset: Load the dataset into a pandas DataFrame."
   ]
  },
  {
   "cell_type": "markdown",
   "id": "55f31a28-5b08-4d48-a5b8-47c2c0d010da",
   "metadata": {},
   "source": [
    "3.Separate the categorical and numerical features: Separate the categorical and numerical features of the dataset into two separate DataFrames."
   ]
  },
  {
   "cell_type": "markdown",
   "id": "451a3deb-6eeb-4023-921e-a55011bbc22f",
   "metadata": {},
   "source": [
    "4.Label encode the contract type feature: Since the contract type feature has a hierarchical structure, we can use label encoding to transform the categorical data into numerical data. "
   ]
  },
  {
   "cell_type": "markdown",
   "id": "4859645c-ea14-48d9-b29c-606e48baa27f",
   "metadata": {},
   "source": [
    "5.One-hot encode the gender feature: Since the gender feature has only two categories, we can use one-hot encoding to transform the categorical data into numerical data."
   ]
  },
  {
   "cell_type": "markdown",
   "id": "69f4dc1c-abc5-4f07-89f6-e4f39b5ef55f",
   "metadata": {},
   "source": [
    "6.Merge the encoded features with the numerical features: After encoding the categorical features, we would merge the encoded features with the numerical features DataFrame to create a complete dataset with both categorical and numerical data in numerical format."
   ]
  },
  {
   "cell_type": "markdown",
   "id": "9341a81d-8c58-40a4-80e6-a3bc93b3f587",
   "metadata": {},
   "source": [
    "7.Scale the numerical features: Finally, we would scale the numerical features to ensure that all features are on the same scale using techniques like min-max scaling or standardization."
   ]
  }
 ],
 "metadata": {
  "kernelspec": {
   "display_name": "Python 3 (ipykernel)",
   "language": "python",
   "name": "python3"
  },
  "language_info": {
   "codemirror_mode": {
    "name": "ipython",
    "version": 3
   },
   "file_extension": ".py",
   "mimetype": "text/x-python",
   "name": "python",
   "nbconvert_exporter": "python",
   "pygments_lexer": "ipython3",
   "version": "3.10.8"
  }
 },
 "nbformat": 4,
 "nbformat_minor": 5
}
