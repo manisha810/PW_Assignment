{
 "cells": [
  {
   "cell_type": "markdown",
   "id": "7bf75c85-fbaf-4c01-9be7-612644001ff9",
   "metadata": {},
   "source": [
    "Q1. Write a Python function that takes in two arrays of data and calculates the F-value for a variance ratio test. The function should return the F-value and the corresponding p-value for the test."
   ]
  },
  {
   "cell_type": "code",
   "execution_count": 5,
   "id": "4dbbf244-261f-4c6a-a1cb-2be7c58ef9fb",
   "metadata": {},
   "outputs": [
    {
     "name": "stdout",
     "output_type": "stream",
     "text": [
      "F-value: 4.0\n",
      "p-value: 0.10399999999999998\n"
     ]
    }
   ],
   "source": [
    "x = np.array([1, 2, 3, 4, 5])\n",
    "y = np.array([2, 4, 6, 8, 10])\n",
    "\n",
    "F, p_value = variance_ratio_test(x, y)\n",
    "\n",
    "print(\"F-value:\", F)\n",
    "print(\"p-value:\", p_value)"
   ]
  },
  {
   "cell_type": "markdown",
   "id": "d293f0a1-7e53-43f8-8bb3-44a2aca2bf50",
   "metadata": {},
   "source": [
    "Q2. Given a significance level of 0.05 and the degrees of freedom for the numerator and denominator of an F-distribution, write a Python function that returns the critical F-value for a two-tailed test."
   ]
  },
  {
   "cell_type": "code",
   "execution_count": 8,
   "id": "298457b7-17f7-458c-b21e-b60bed323bb6",
   "metadata": {},
   "outputs": [
    {
     "name": "stdout",
     "output_type": "stream",
     "text": [
      "Critical F-value: 3.8586986662732143\n"
     ]
    }
   ],
   "source": [
    "from scipy.stats import f\n",
    "\n",
    "def critical_f_value(alpha, dfn, dfd):\n",
    "    return f.ppf(1 - alpha / 2, dfn, dfd)\n",
    "\n",
    "alpha = 0.05\n",
    "dfn = 3\n",
    "dfd = 20\n",
    "f_crit = critical_f_value(alpha, dfn, dfd)\n",
    "print(f\"Critical F-value: {f_crit}\")"
   ]
  },
  {
   "cell_type": "markdown",
   "id": "3d71c095-a021-4500-aec1-e803500b13cd",
   "metadata": {},
   "source": [
    "Q3. Write a Python program that generates random samples from two normal distributions with known variances and uses an F-test to determine if the variances are equal. The program should output the F- value, degrees of freedom, and p-value for the test."
   ]
  },
  {
   "cell_type": "code",
   "execution_count": 9,
   "id": "9d8bbe3a-dfa4-4ad7-bb69-71dc2b6ef08e",
   "metadata": {},
   "outputs": [
    {
     "name": "stdout",
     "output_type": "stream",
     "text": [
      "F-value: 0.5460\n",
      "Degrees of freedom: 19, 19\n",
      "P-value: 1.8037\n"
     ]
    }
   ],
   "source": [
    "import numpy as np\n",
    "from scipy.stats import f\n",
    "\n",
    "# Set the parameters for the normal distributions\n",
    "mu1, mu2 = 0, 0\n",
    "var1, var2 = 1, 2\n",
    "\n",
    "# Generate random samples from the normal distributions\n",
    "n1, n2 = 20, 20\n",
    "sample1 = np.random.normal(mu1, np.sqrt(var1), n1)\n",
    "sample2 = np.random.normal(mu2, np.sqrt(var2), n2)\n",
    "\n",
    "# Perform an F-test to compare the variances of the two samples\n",
    "f_value = np.var(sample1, ddof=1) / np.var(sample2, ddof=1)\n",
    "dfn, dfd = n1 - 1, n2 - 1\n",
    "p_value = f.sf(f_value, dfn, dfd) * 2  # multiply by 2 for a two-tailed test\n",
    "\n",
    "# Output the F-value, degrees of freedom, and p-value for the test\n",
    "print(f\"F-value: {f_value:.4f}\")\n",
    "print(f\"Degrees of freedom: {dfn}, {dfd}\")\n",
    "print(f\"P-value: {p_value:.4f}\")\n"
   ]
  },
  {
   "cell_type": "markdown",
   "id": "a5f4ca18-49ed-4e62-a42c-dd155a1fbc9f",
   "metadata": {},
   "source": [
    "Q4.The variances of two populations are known to be 10 and 15. A sample of 12 observations is taken from each population. Conduct an F test at the 5% significance level to determine if the variances are significantly different."
   ]
  },
  {
   "cell_type": "code",
   "execution_count": 11,
   "id": "a06f8ec3-6f3a-4492-b0a4-ffcb4abefa7a",
   "metadata": {},
   "outputs": [
    {
     "name": "stdout",
     "output_type": "stream",
     "text": [
      "F-statistic: 0.67\n",
      "p-value: 0.2562\n",
      "Fail to reject null hypothesis: variances are not significantly different\n"
     ]
    }
   ],
   "source": [
    "import numpy as np\n",
    "from scipy.stats import f\n",
    "\n",
    "# Sample variances\n",
    "s1 = 10\n",
    "s2 = 15\n",
    "\n",
    "# Sample sizes\n",
    "n1 = 12\n",
    "n2 = 12\n",
    "\n",
    "# Compute F-statistic and p-value\n",
    "f_stat = s1/s2\n",
    "p_value = f.cdf(f_stat, n1-1, n2-1)\n",
    "\n",
    "# Print results\n",
    "alpha = 0.05\n",
    "print(f\"F-statistic: {f_stat:.2f}\")\n",
    "print(f\"p-value: {p_value:.4f}\")\n",
    "if p_value < alpha:\n",
    "    print(\"Reject null hypothesis: variances are significantly different\")\n",
    "else:\n",
    "    print(\"Fail to reject null hypothesis: variances are not significantly different\")\n"
   ]
  },
  {
   "cell_type": "markdown",
   "id": "b44404a1-9986-4a37-a2a7-b5b02a8a4436",
   "metadata": {},
   "source": [
    "Q5. A manufacturer claims that the variance of the diameter of a certain product is 0.005. A sample of 25 products is taken, and the sample variance is found to be 0.006. Conduct an F-test at the 1% significance level to determine if the claim is justified."
   ]
  },
  {
   "cell_type": "code",
   "execution_count": 14,
   "id": "b44d14d3-61d0-4b70-9e44-f09ceec0a782",
   "metadata": {},
   "outputs": [
    {
     "name": "stdout",
     "output_type": "stream",
     "text": [
      "Fail to reject null hypothesis\n"
     ]
    }
   ],
   "source": [
    "import numpy as np\n",
    "from scipy.stats import f\n",
    "\n",
    "# Null hypothesis: the population variance is equal to 0.005\n",
    "# Alternative hypothesis: the population variance is greater than 0.005\n",
    "alpha = 0.01\n",
    "n = 25\n",
    "sigma_sq = 0.005\n",
    "s_sq = 0.006\n",
    "\n",
    "# Calculate the F statistic\n",
    "f_stat = s_sq / sigma_sq\n",
    "\n",
    "# Calculate the p-value associated with the F statistic\n",
    "dfn = n - 1\n",
    "dfd = np.inf\n",
    "p_value = f.sf(f_stat, dfn, dfd)\n",
    "\n",
    "# Test the null hypothesis\n",
    "if p_value < alpha:\n",
    "    print(\"Reject null hypothesis\")\n",
    "else:\n",
    "    print(\"Fail to reject null hypothesis\")\n",
    "\n"
   ]
  },
  {
   "cell_type": "markdown",
   "id": "9e6d81a8-d936-43a6-ae14-37d94884427b",
   "metadata": {},
   "source": [
    "Q6. Write a Python function that takes in the degrees of freedom for the numerator and denominator of an F-distribution and calculates the mean and variance of the distribution. The function should return the mean and variance as a tuple."
   ]
  },
  {
   "cell_type": "code",
   "execution_count": 15,
   "id": "b0d6bf7f-5d83-4f6a-b253-318533666f7e",
   "metadata": {},
   "outputs": [
    {
     "name": "stdout",
     "output_type": "stream",
     "text": [
      "Mean: 1.25\n",
      "Variance: 1.3541666666666667\n"
     ]
    }
   ],
   "source": [
    "from scipy.stats import f\n",
    "\n",
    "def f_dist_mean_variance(dfn, dfd):\n",
    "   \n",
    "    # Calculate the mean and variance of the F-distribution\n",
    "    mean = dfd / (dfd - 2)\n",
    "    variance = (2 * (dfd ** 2) * (dfn + dfd - 2)) / (dfn * (dfd - 2) ** 2 * (dfd - 4))\n",
    "    \n",
    "    return mean, variance\n",
    "mean, variance = f_dist_mean_variance(5, 10)\n",
    "print(\"Mean:\", mean)\n",
    "print(\"Variance:\", variance)"
   ]
  },
  {
   "cell_type": "markdown",
   "id": "e5991b61-6978-4b92-a727-33d8d7ee401d",
   "metadata": {},
   "source": [
    "Q7. A random sample of 10 measurements is taken from a normal population with unknown variance. The sample variance is found to be 25. Another random sample of 15 measurements is taken from another normal population with unknown variance, and the sample variance is found to be 20. Conduct an F-test at the 10% significance level to determine if the variances are significantly different."
   ]
  },
  {
   "cell_type": "code",
   "execution_count": 16,
   "id": "5d4bc483-4272-48e9-9e66-596798150178",
   "metadata": {},
   "outputs": [
    {
     "name": "stdout",
     "output_type": "stream",
     "text": [
      "Fail to reject the null hypothesis\n",
      "F-statistic: 1.25\n",
      "p-value: 0.6832194382585954\n"
     ]
    }
   ],
   "source": [
    "from scipy.stats import f\n",
    "\n",
    "# Step 1: Set up hypotheses\n",
    "alpha = 0.1\n",
    "n1 = 10\n",
    "n2 = 15\n",
    "s1 = 25\n",
    "s2 = 20\n",
    "\n",
    "# Null hypothesis: The variances are equal\n",
    "# Alternative hypothesis: The variances are different\n",
    "f_crit = f.ppf(1 - alpha/2, n1 - 1, n2 - 1)\n",
    "f_stat = s1 / s2\n",
    "p_value = 2 * min(f.cdf(f_stat, n1 - 1, n2 - 1), 1 - f.cdf(f_stat, n1 - 1, n2 - 1))\n",
    "\n",
    "# Step 5: Compare p-value to significance level\n",
    "if p_value < alpha:\n",
    "    print(\"Reject the null hypothesis\")\n",
    "else:\n",
    "    print(\"Fail to reject the null hypothesis\")\n",
    "\n",
    "# Print the test statistic and p-value\n",
    "print(\"F-statistic:\", f_stat)\n",
    "print(\"p-value:\", p_value)\n"
   ]
  },
  {
   "cell_type": "markdown",
   "id": "6a988c96-010a-4f6a-8f82-c8b7330c6ef6",
   "metadata": {},
   "source": [
    "Q8. The following data represent the waiting times in minutes at two different restaurants on a Saturday night: Restaurant A: 24, 25, 28, 23, 22, 20, 27; Restaurant B: 31, 33, 35, 30, 32, 36. Conduct an F test at the 5% significance level to determine if the variances are significantly different."
   ]
  },
  {
   "cell_type": "code",
   "execution_count": 17,
   "id": "63ee220c-1da3-4341-823b-6a0af647b923",
   "metadata": {},
   "outputs": [
    {
     "name": "stdout",
     "output_type": "stream",
     "text": [
      "Fail to reject the null hypothesis\n",
      "F-statistic: 1.4551907719609583\n",
      "p-value: 0.6974815747937484\n"
     ]
    }
   ],
   "source": [
    "import numpy as np\n",
    "from scipy.stats import f\n",
    "\n",
    "# Step 1: Set up hypotheses\n",
    "alpha = 0.05\n",
    "a = np.array([24, 25, 28, 23, 22, 20, 27])\n",
    "b = np.array([31, 33, 35, 30, 32, 36])\n",
    "n1 = len(a)\n",
    "n2 = len(b)\n",
    "s1_sq = np.var(a, ddof=1)\n",
    "s2_sq = np.var(b, ddof=1)\n",
    "\n",
    "# Null hypothesis: The variances are equal\n",
    "# Alternative hypothesis: The variances are different\n",
    "f_crit = f.ppf(1 - alpha/2, n1 - 1, n2 - 1)\n",
    "f_stat = max(s1_sq, s2_sq) / min(s1_sq, s2_sq)\n",
    "p_value = 2 * min(f.cdf(f_stat, n1 - 1, n2 - 1), 1 - f.cdf(f_stat, n1 - 1, n2 - 1))\n",
    "\n",
    "# Step 5: Compare p-value to significance level\n",
    "if p_value < alpha:\n",
    "    print(\"Reject the null hypothesis\")\n",
    "else:\n",
    "    print(\"Fail to reject the null hypothesis\")\n",
    "\n",
    "# Print the test statistic and p-value\n",
    "print(\"F-statistic:\", f_stat)\n",
    "print(\"p-value:\", p_value)\n"
   ]
  },
  {
   "cell_type": "markdown",
   "id": "12470878-0dc9-4648-bbf6-6e02bea6ecd5",
   "metadata": {},
   "source": [
    "Q9. The following data represent the test scores of two groups of students: Group A: 80, 85, 90, 92, 87, 83; Group B: 75, 78, 82, 79, 81, 84. Conduct an F-test at the 1% significance level to determine if the variances are significantly different."
   ]
  },
  {
   "cell_type": "code",
   "execution_count": 18,
   "id": "19fc80bd-a590-42a4-9bc8-1f171f8be74c",
   "metadata": {},
   "outputs": [
    {
     "name": "stdout",
     "output_type": "stream",
     "text": [
      "Fail to reject the null hypothesis\n",
      "F-statistic: 1.9442622950819677\n",
      "p-value: 0.4831043549070688\n"
     ]
    }
   ],
   "source": [
    "import numpy as np\n",
    "from scipy.stats import f\n",
    "\n",
    "# Step 1: Set up hypotheses\n",
    "alpha = 0.01\n",
    "a = np.array([80, 85, 90, 92, 87, 83])\n",
    "b = np.array([75, 78, 82, 79, 81, 84])\n",
    "n1 = len(a)\n",
    "n2 = len(b)\n",
    "s1_sq = np.var(a, ddof=1)\n",
    "s2_sq = np.var(b, ddof=1)\n",
    "\n",
    "# Null hypothesis: The variances are equal\n",
    "# Alternative hypothesis: The variances are different\n",
    "f_crit = f.ppf(1 - alpha/2, n1 - 1, n2 - 1)\n",
    "f_stat = max(s1_sq, s2_sq) / min(s1_sq, s2_sq)\n",
    "p_value = 2 * min(f.cdf(f_stat, n1 - 1, n2 - 1), 1 - f.cdf(f_stat, n1 - 1, n2 - 1))\n",
    "\n",
    "# Step 5: Compare p-value to significance level\n",
    "if p_value < alpha:\n",
    "    print(\"Reject the null hypothesis\")\n",
    "else:\n",
    "    print(\"Fail to reject the null hypothesis\")\n",
    "\n",
    "# Print the test statistic and p-value\n",
    "print(\"F-statistic:\", f_stat)\n",
    "print(\"p-value:\", p_value)\n"
   ]
  }
 ],
 "metadata": {
  "kernelspec": {
   "display_name": "Python 3 (ipykernel)",
   "language": "python",
   "name": "python3"
  },
  "language_info": {
   "codemirror_mode": {
    "name": "ipython",
    "version": 3
   },
   "file_extension": ".py",
   "mimetype": "text/x-python",
   "name": "python",
   "nbconvert_exporter": "python",
   "pygments_lexer": "ipython3",
   "version": "3.10.8"
  }
 },
 "nbformat": 4,
 "nbformat_minor": 5
}
